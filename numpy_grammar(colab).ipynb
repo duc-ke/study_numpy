{
  "nbformat": 4,
  "nbformat_minor": 0,
  "metadata": {
    "kernelspec": {
      "display_name": "tf2",
      "language": "python",
      "name": "tf2"
    },
    "language_info": {
      "codemirror_mode": {
        "name": "ipython",
        "version": 3
      },
      "file_extension": ".py",
      "mimetype": "text/x-python",
      "name": "python",
      "nbconvert_exporter": "python",
      "pygments_lexer": "ipython3",
      "version": "3.7.0"
    },
    "colab": {
      "name": "numpy_grammar(colab).ipynb",
      "provenance": [],
      "include_colab_link": true
    }
  },
  "cells": [
    {
      "cell_type": "markdown",
      "metadata": {
        "id": "view-in-github",
        "colab_type": "text"
      },
      "source": [
        "<a href=\"https://colab.research.google.com/github/duc-ke/study_numpy/blob/master/numpy_grammar(colab).ipynb\" target=\"_parent\"><img src=\"https://colab.research.google.com/assets/colab-badge.svg\" alt=\"Open In Colab\"/></a>"
      ]
    },
    {
      "cell_type": "code",
      "metadata": {
        "id": "r3wcWYlYEEHx",
        "colab_type": "code",
        "colab": {}
      },
      "source": [
        "import numpy as np"
      ],
      "execution_count": 2,
      "outputs": []
    },
    {
      "cell_type": "markdown",
      "metadata": {
        "id": "ijL4JGB1EEH1",
        "colab_type": "text"
      },
      "source": [
        "## why numpy ?\n",
        "행렬 계산 : 이미지 픽셀값 조작 가능\n",
        "\n",
        "array를 이용하여 (흑백, 컬러)이미지를 생성, 조작해 보자."
      ]
    },
    {
      "cell_type": "code",
      "metadata": {
        "id": "gwXIm4HWEEH1",
        "colab_type": "code",
        "colab": {
          "base_uri": "https://localhost:8080/",
          "height": 190
        },
        "outputId": "4c3f4768-0b49-416b-8a73-df59af159b07"
      },
      "source": [
        "tmp_np = np.zeros((10, 10))\n",
        "tmp_np"
      ],
      "execution_count": 3,
      "outputs": [
        {
          "output_type": "execute_result",
          "data": {
            "text/plain": [
              "array([[0., 0., 0., 0., 0., 0., 0., 0., 0., 0.],\n",
              "       [0., 0., 0., 0., 0., 0., 0., 0., 0., 0.],\n",
              "       [0., 0., 0., 0., 0., 0., 0., 0., 0., 0.],\n",
              "       [0., 0., 0., 0., 0., 0., 0., 0., 0., 0.],\n",
              "       [0., 0., 0., 0., 0., 0., 0., 0., 0., 0.],\n",
              "       [0., 0., 0., 0., 0., 0., 0., 0., 0., 0.],\n",
              "       [0., 0., 0., 0., 0., 0., 0., 0., 0., 0.],\n",
              "       [0., 0., 0., 0., 0., 0., 0., 0., 0., 0.],\n",
              "       [0., 0., 0., 0., 0., 0., 0., 0., 0., 0.],\n",
              "       [0., 0., 0., 0., 0., 0., 0., 0., 0., 0.]])"
            ]
          },
          "metadata": {
            "tags": []
          },
          "execution_count": 3
        }
      ]
    },
    {
      "cell_type": "code",
      "metadata": {
        "id": "0XYuFrY7EEH5",
        "colab_type": "code",
        "colab": {}
      },
      "source": [
        "import matplotlib.pyplot as plt"
      ],
      "execution_count": 4,
      "outputs": []
    },
    {
      "cell_type": "code",
      "metadata": {
        "id": "tNo4EfyLEEH7",
        "colab_type": "code",
        "colab": {
          "base_uri": "https://localhost:8080/",
          "height": 282
        },
        "outputId": "d5de807a-6990-422c-e0d5-1c54fc1341f9"
      },
      "source": [
        "plt.imshow(tmp_np, cmap='gray')"
      ],
      "execution_count": 5,
      "outputs": [
        {
          "output_type": "execute_result",
          "data": {
            "text/plain": [
              "<matplotlib.image.AxesImage at 0x7f3e1be06198>"
            ]
          },
          "metadata": {
            "tags": []
          },
          "execution_count": 5
        },
        {
          "output_type": "display_data",
          "data": {
            "image/png": "[encoded data removed]",
            "text/plain": [
              "<Figure size 432x288 with 1 Axes>"
            ]
          },
          "metadata": {
            "tags": [],
            "needs_background": "light"
          }
        }
      ]
    },
    {
      "cell_type": "markdown",
      "metadata": {
        "id": "CdGwba10EEH-",
        "colab_type": "text"
      },
      "source": [
        "2차원 이미지는 gray scale 흑백 이미지이다."
      ]
    },
    {
      "cell_type": "code",
      "metadata": {
        "id": "ax87pMbUEEH_",
        "colab_type": "code",
        "colab": {
          "base_uri": "https://localhost:8080/",
          "height": 282
        },
        "outputId": "948bee0f-6f04-4e5b-8f5f-d7ccc0187273"
      },
      "source": [
        "tmp_np[2, :] = 255\n",
        "plt.imshow(tmp_np, cmap='gray')"
      ],
      "execution_count": 6,
      "outputs": [
        {
          "output_type": "execute_result",
          "data": {
            "text/plain": [
              "<matplotlib.image.AxesImage at 0x7f3e1b931a20>"
            ]
          },
          "metadata": {
            "tags": []
          },
          "execution_count": 6
        },
        {
          "output_type": "display_data",
          "data": {
            "image/png": "[encoded data removed]",
            "text/plain": [
              "<Figure size 432x288 with 1 Axes>"
            ]
          },
          "metadata": {
            "tags": [],
            "needs_background": "light"
          }
        }
      ]
    },
    {
      "cell_type": "code",
      "metadata": {
        "id": "wtVym9E4EEIB",
        "colab_type": "code",
        "colab": {
          "base_uri": "https://localhost:8080/",
          "height": 1000
        },
        "outputId": "c2de5773-2a14-46c9-d805-f58b953e962e"
      },
      "source": [
        "tmp_np2 = np.zeros((10, 10, 3), dtype=int)\n",
        "tmp_np2"
      ],
      "execution_count": 7,
      "outputs": [
        {
          "output_type": "execute_result",
          "data": {
            "text/plain": [
              "array([[[0, 0, 0],\n",
              "        [0, 0, 0],\n",
              "        [0, 0, 0],\n",
              "        [0, 0, 0],\n",
              "        [0, 0, 0],\n",
              "        [0, 0, 0],\n",
              "        [0, 0, 0],\n",
              "        [0, 0, 0],\n",
              "        [0, 0, 0],\n",
              "        [0, 0, 0]],\n",
              "\n",
              "       [[0, 0, 0],\n",
              "        [0, 0, 0],\n",
              "        [0, 0, 0],\n",
              "        [0, 0, 0],\n",
              "        [0, 0, 0],\n",
              "        [0, 0, 0],\n",
              "        [0, 0, 0],\n",
              "        [0, 0, 0],\n",
              "        [0, 0, 0],\n",
              "        [0, 0, 0]],\n",
              "\n",
              "       [[0, 0, 0],\n",
              "        [0, 0, 0],\n",
              "        [0, 0, 0],\n",
              "        [0, 0, 0],\n",
              "        [0, 0, 0],\n",
              "        [0, 0, 0],\n",
              "        [0, 0, 0],\n",
              "        [0, 0, 0],\n",
              "        [0, 0, 0],\n",
              "        [0, 0, 0]],\n",
              "\n",
              "       [[0, 0, 0],\n",
              "        [0, 0, 0],\n",
              "        [0, 0, 0],\n",
              "        [0, 0, 0],\n",
              "        [0, 0, 0],\n",
              "        [0, 0, 0],\n",
              "        [0, 0, 0],\n",
              "        [0, 0, 0],\n",
              "        [0, 0, 0],\n",
              "        [0, 0, 0]],\n",
              "\n",
              "       [[0, 0, 0],\n",
              "        [0, 0, 0],\n",
              "        [0, 0, 0],\n",
              "        [0, 0, 0],\n",
              "        [0, 0, 0],\n",
              "        [0, 0, 0],\n",
              "        [0, 0, 0],\n",
              "        [0, 0, 0],\n",
              "        [0, 0, 0],\n",
              "        [0, 0, 0]],\n",
              "\n",
              "       [[0, 0, 0],\n",
              "        [0, 0, 0],\n",
              "        [0, 0, 0],\n",
              "        [0, 0, 0],\n",
              "        [0, 0, 0],\n",
              "        [0, 0, 0],\n",
              "        [0, 0, 0],\n",
              "        [0, 0, 0],\n",
              "        [0, 0, 0],\n",
              "        [0, 0, 0]],\n",
              "\n",
              "       [[0, 0, 0],\n",
              "        [0, 0, 0],\n",
              "        [0, 0, 0],\n",
              "        [0, 0, 0],\n",
              "        [0, 0, 0],\n",
              "        [0, 0, 0],\n",
              "        [0, 0, 0],\n",
              "        [0, 0, 0],\n",
              "        [0, 0, 0],\n",
              "        [0, 0, 0]],\n",
              "\n",
              "       [[0, 0, 0],\n",
              "        [0, 0, 0],\n",
              "        [0, 0, 0],\n",
              "        [0, 0, 0],\n",
              "        [0, 0, 0],\n",
              "        [0, 0, 0],\n",
              "        [0, 0, 0],\n",
              "        [0, 0, 0],\n",
              "        [0, 0, 0],\n",
              "        [0, 0, 0]],\n",
              "\n",
              "       [[0, 0, 0],\n",
              "        [0, 0, 0],\n",
              "        [0, 0, 0],\n",
              "        [0, 0, 0],\n",
              "        [0, 0, 0],\n",
              "        [0, 0, 0],\n",
              "        [0, 0, 0],\n",
              "        [0, 0, 0],\n",
              "        [0, 0, 0],\n",
              "        [0, 0, 0]],\n",
              "\n",
              "       [[0, 0, 0],\n",
              "        [0, 0, 0],\n",
              "        [0, 0, 0],\n",
              "        [0, 0, 0],\n",
              "        [0, 0, 0],\n",
              "        [0, 0, 0],\n",
              "        [0, 0, 0],\n",
              "        [0, 0, 0],\n",
              "        [0, 0, 0],\n",
              "        [0, 0, 0]]])"
            ]
          },
          "metadata": {
            "tags": []
          },
          "execution_count": 7
        }
      ]
    },
    {
      "cell_type": "code",
      "metadata": {
        "id": "Jqa8ImcJEEID",
        "colab_type": "code",
        "colab": {
          "base_uri": "https://localhost:8080/",
          "height": 282
        },
        "outputId": "2cadb4a1-c62d-434a-dc70-c61041b5cf98"
      },
      "source": [
        "plt.imshow(tmp_np2)"
      ],
      "execution_count": 8,
      "outputs": [
        {
          "output_type": "execute_result",
          "data": {
            "text/plain": [
              "<matplotlib.image.AxesImage at 0x7f3e1b8a1fd0>"
            ]
          },
          "metadata": {
            "tags": []
          },
          "execution_count": 8
        },
        {
          "output_type": "display_data",
          "data": {
            "image/png": "[encoded data removed]",
            "text/plain": [
              "<Figure size 432x288 with 1 Axes>"
            ]
          },
          "metadata": {
            "tags": [],
            "needs_background": "light"
          }
        }
      ]
    },
    {
      "cell_type": "markdown",
      "metadata": {
        "id": "feoNCwW7EEIH",
        "colab_type": "text"
      },
      "source": [
        "3차원 이미지를 컬러 이미지이며 shape은 (width, height, channel)이다.\n",
        "\n",
        "실제 컬러를 몇개만 입혀 보자."
      ]
    },
    {
      "cell_type": "code",
      "metadata": {
        "id": "5SNZM8IZEEIH",
        "colab_type": "code",
        "colab": {
          "base_uri": "https://localhost:8080/",
          "height": 207
        },
        "outputId": "b4498373-0434-47a6-ced8-00ae1c35c1b2"
      },
      "source": [
        "rand_color_px = np.random.randint(255, size=(3, 3, 3))\n",
        "rand_color_px"
      ],
      "execution_count": 9,
      "outputs": [
        {
          "output_type": "execute_result",
          "data": {
            "text/plain": [
              "array([[[ 35, 249,  76],\n",
              "        [252,  93, 152],\n",
              "        [244,  70, 205]],\n",
              "\n",
              "       [[174,  73, 223],\n",
              "        [141,  96, 153],\n",
              "        [236, 139, 241]],\n",
              "\n",
              "       [[130, 179,  61],\n",
              "        [232,  15,  81],\n",
              "        [ 80, 157,  50]]])"
            ]
          },
          "metadata": {
            "tags": []
          },
          "execution_count": 9
        }
      ]
    },
    {
      "cell_type": "code",
      "metadata": {
        "id": "fySWaSdEEEIK",
        "colab_type": "code",
        "colab": {
          "base_uri": "https://localhost:8080/",
          "height": 282
        },
        "outputId": "6fe1d8ec-ee4b-41c4-bb63-f4429798745a"
      },
      "source": [
        "tmp_np2[:3, :3, :] = rand_color_px\n",
        "plt.imshow(tmp_np2)"
      ],
      "execution_count": 10,
      "outputs": [
        {
          "output_type": "execute_result",
          "data": {
            "text/plain": [
              "<matplotlib.image.AxesImage at 0x7f3e1b886710>"
            ]
          },
          "metadata": {
            "tags": []
          },
          "execution_count": 10
        },
        {
          "output_type": "display_data",
          "data": {
            "image/png": "[encoded data removed]",
            "text/plain": [
              "<Figure size 432x288 with 1 Axes>"
            ]
          },
          "metadata": {
            "tags": [],
            "needs_background": "light"
          }
        }
      ]
    },
    {
      "cell_type": "markdown",
      "metadata": {
        "id": "uC3BCrTPEEIM",
        "colab_type": "text"
      },
      "source": [
        "### array 생성\n",
        "아주 다양한 방법으로 np.array를 생성할 수 있다.\n",
        "* list to array\n",
        "* zeros, ones, full, arange..\n",
        "* df to array\n",
        "* 기타 등등..\n",
        "\n",
        "출처 : numpy 사용하기 예제\n",
        "http://pythonstudy.xyz/python/article/402-numpy-%EC%82%AC%EC%9A%A9%ED%95%98%EA%B8%B0"
      ]
    },
    {
      "cell_type": "code",
      "metadata": {
        "id": "tCdVfm7dEEIM",
        "colab_type": "code",
        "colab": {
          "base_uri": "https://localhost:8080/",
          "height": 35
        },
        "outputId": "14ae2def-9118-446c-f1be-2360eb931f16"
      },
      "source": [
        "list1 = [1, 2, 3, 4]\n",
        "a = np.array(list1)\n",
        "a"
      ],
      "execution_count": 11,
      "outputs": [
        {
          "output_type": "execute_result",
          "data": {
            "text/plain": [
              "array([1, 2, 3, 4])"
            ]
          },
          "metadata": {
            "tags": []
          },
          "execution_count": 11
        }
      ]
    },
    {
      "cell_type": "code",
      "metadata": {
        "id": "U-JgG4GXEEIP",
        "colab_type": "code",
        "colab": {
          "base_uri": "https://localhost:8080/",
          "height": 52
        },
        "outputId": "0ca13f2c-74f0-4c08-efdb-25544c39bdce"
      },
      "source": [
        "a = np.zeros((2, 2))\n",
        "a"
      ],
      "execution_count": 12,
      "outputs": [
        {
          "output_type": "execute_result",
          "data": {
            "text/plain": [
              "array([[0., 0.],\n",
              "       [0., 0.]])"
            ]
          },
          "metadata": {
            "tags": []
          },
          "execution_count": 12
        }
      ]
    },
    {
      "cell_type": "code",
      "metadata": {
        "id": "aBkNIo_xEEIS",
        "colab_type": "code",
        "colab": {
          "base_uri": "https://localhost:8080/",
          "height": 52
        },
        "outputId": "51781872-ebcc-4180-dff7-8db900daee26"
      },
      "source": [
        "a = np.ones((2,3))\n",
        "print(a)"
      ],
      "execution_count": 13,
      "outputs": [
        {
          "output_type": "stream",
          "text": [
            "[[1. 1. 1.]\n",
            " [1. 1. 1.]]\n"
          ],
          "name": "stdout"
        }
      ]
    },
    {
      "cell_type": "code",
      "metadata": {
        "id": "pJzIOE3WEEIW",
        "colab_type": "code",
        "colab": {
          "base_uri": "https://localhost:8080/",
          "height": 52
        },
        "outputId": "64f6126a-5994-4aa4-e023-9c5a571a6793"
      },
      "source": [
        "a = np.full((2,3), 5)\n",
        "print(a)"
      ],
      "execution_count": 14,
      "outputs": [
        {
          "output_type": "stream",
          "text": [
            "[[5 5 5]\n",
            " [5 5 5]]\n"
          ],
          "name": "stdout"
        }
      ]
    },
    {
      "cell_type": "code",
      "metadata": {
        "id": "euVgucK_EEIY",
        "colab_type": "code",
        "colab": {
          "base_uri": "https://localhost:8080/",
          "height": 35
        },
        "outputId": "b16f2757-fe87-4983-d031-f32d61602cd3"
      },
      "source": [
        "np.arange(10), np.arange(3, 10)"
      ],
      "execution_count": 15,
      "outputs": [
        {
          "output_type": "execute_result",
          "data": {
            "text/plain": [
              "(array([0, 1, 2, 3, 4, 5, 6, 7, 8, 9]), array([3, 4, 5, 6, 7, 8, 9]))"
            ]
          },
          "metadata": {
            "tags": []
          },
          "execution_count": 15
        }
      ]
    },
    {
      "cell_type": "markdown",
      "metadata": {
        "id": "98CSqW94EEIa",
        "colab_type": "text"
      },
      "source": [
        "### shape, dtype\n",
        "shape의 결과가 (5,) 라면, 1차원의 데이터이며 총 5라는 크기를 갖고 있음을 알 수 있다.\n",
        "\n",
        "만약 shape이 (4,3)라면, 2차원의 데이터이며 4 * 3 크기를 갖고 있는 array\n",
        "\n",
        "출처: https://doorbw.tistory.com/171 [Tigercow.Door]"
      ]
    },
    {
      "cell_type": "code",
      "metadata": {
        "id": "8sP-TNNIEEIa",
        "colab_type": "code",
        "colab": {
          "base_uri": "https://localhost:8080/",
          "height": 52
        },
        "outputId": "e0aa2d6b-6acd-4361-f096-7bbf90e19f87"
      },
      "source": [
        "a"
      ],
      "execution_count": 16,
      "outputs": [
        {
          "output_type": "execute_result",
          "data": {
            "text/plain": [
              "array([[5, 5, 5],\n",
              "       [5, 5, 5]])"
            ]
          },
          "metadata": {
            "tags": []
          },
          "execution_count": 16
        }
      ]
    },
    {
      "cell_type": "code",
      "metadata": {
        "id": "X5CYRpYvEEId",
        "colab_type": "code",
        "colab": {
          "base_uri": "https://localhost:8080/",
          "height": 35
        },
        "outputId": "b4b44dbd-e4c9-417a-833c-6db0b3ebc7b4"
      },
      "source": [
        "a.shape"
      ],
      "execution_count": 17,
      "outputs": [
        {
          "output_type": "execute_result",
          "data": {
            "text/plain": [
              "(2, 3)"
            ]
          },
          "metadata": {
            "tags": []
          },
          "execution_count": 17
        }
      ]
    },
    {
      "cell_type": "code",
      "metadata": {
        "id": "0NDSH-sjEEIf",
        "colab_type": "code",
        "colab": {
          "base_uri": "https://localhost:8080/",
          "height": 35
        },
        "outputId": "372babf4-a781-4496-c770-62e966454600"
      },
      "source": [
        "a.dtype"
      ],
      "execution_count": 18,
      "outputs": [
        {
          "output_type": "execute_result",
          "data": {
            "text/plain": [
              "dtype('int64')"
            ]
          },
          "metadata": {
            "tags": []
          },
          "execution_count": 18
        }
      ]
    },
    {
      "cell_type": "markdown",
      "metadata": {
        "id": "wJgfOSnwEEIh",
        "colab_type": "text"
      },
      "source": [
        "### reshaping\n",
        "shape을 다양하게 바꿀수 있다.\n",
        "* reshape\n",
        "* ravel\n",
        "\n",
        "[용어 정리]\n",
        "* reshaping : shape을 바꾼다. 늘리거나 줄이는건 불가능\n",
        "* resize : 해상도를 줄이거나 늘리거나 하는 것\n",
        "* dimension : shape과 거의 동일한 개념으로 쓰임.\n",
        "* channel : 영상 딥러닝, 이미지에서 쓰이는 개념. kernel과 동일 용어, 3차원 array에서 마지막 차원의 갯수."
      ]
    },
    {
      "cell_type": "code",
      "metadata": {
        "id": "eop8e6RNEEIh",
        "colab_type": "code",
        "colab": {
          "base_uri": "https://localhost:8080/",
          "height": 86
        },
        "outputId": "ed890ddc-11c4-42ea-be28-d4db2138066b"
      },
      "source": [
        "a = np.array(range(20)).reshape((4,5))\n",
        "print(a)"
      ],
      "execution_count": 19,
      "outputs": [
        {
          "output_type": "stream",
          "text": [
            "[[ 0  1  2  3  4]\n",
            " [ 5  6  7  8  9]\n",
            " [10 11 12 13 14]\n",
            " [15 16 17 18 19]]\n"
          ],
          "name": "stdout"
        }
      ]
    },
    {
      "cell_type": "code",
      "metadata": {
        "id": "FjoDh5NZEEIk",
        "colab_type": "code",
        "colab": {
          "base_uri": "https://localhost:8080/",
          "height": 52
        },
        "outputId": "d0626b44-108e-4ef8-871a-694467321c39"
      },
      "source": [
        "# ravel : flatten, 1차원 배열로 강제 변환\n",
        "a.ravel()"
      ],
      "execution_count": 20,
      "outputs": [
        {
          "output_type": "execute_result",
          "data": {
            "text/plain": [
              "array([ 0,  1,  2,  3,  4,  5,  6,  7,  8,  9, 10, 11, 12, 13, 14, 15, 16,\n",
              "       17, 18, 19])"
            ]
          },
          "metadata": {
            "tags": []
          },
          "execution_count": 20
        }
      ]
    },
    {
      "cell_type": "markdown",
      "metadata": {
        "id": "1ZuMRnepEEIm",
        "colab_type": "text"
      },
      "source": [
        "### splicing\n",
        "부분 집합을 생성"
      ]
    },
    {
      "cell_type": "code",
      "metadata": {
        "id": "Ily7cJdAEEIn",
        "colab_type": "code",
        "colab": {
          "base_uri": "https://localhost:8080/",
          "height": 69
        },
        "outputId": "99c83d61-173b-4502-ba1b-80d65b9d8836"
      },
      "source": [
        "lst = [\n",
        "    [1, 2, 3],\n",
        "    [4, 5, 6],\n",
        "    [7, 8, 9]\n",
        "]\n",
        "arr = np.array(lst)\n",
        "arr"
      ],
      "execution_count": 21,
      "outputs": [
        {
          "output_type": "execute_result",
          "data": {
            "text/plain": [
              "array([[1, 2, 3],\n",
              "       [4, 5, 6],\n",
              "       [7, 8, 9]])"
            ]
          },
          "metadata": {
            "tags": []
          },
          "execution_count": 21
        }
      ]
    },
    {
      "cell_type": "code",
      "metadata": {
        "id": "z_OxqzS_EEIs",
        "colab_type": "code",
        "colab": {
          "base_uri": "https://localhost:8080/",
          "height": 52
        },
        "outputId": "1f54f541-3ca8-443a-ddb9-c394a581c26d"
      },
      "source": [
        "arr[0:2, 0:2]"
      ],
      "execution_count": 22,
      "outputs": [
        {
          "output_type": "execute_result",
          "data": {
            "text/plain": [
              "array([[1, 2],\n",
              "       [4, 5]])"
            ]
          },
          "metadata": {
            "tags": []
          },
          "execution_count": 22
        }
      ]
    },
    {
      "cell_type": "code",
      "metadata": {
        "id": "vlopgsBtEEIu",
        "colab_type": "code",
        "colab": {
          "base_uri": "https://localhost:8080/",
          "height": 207
        },
        "outputId": "32908dd1-29e7-4055-d653-b7873fc79794"
      },
      "source": [
        "# 3차원 이미지 예제\n",
        "arr_random = np.random.randint(255, size=(3, 3, 3))\n",
        "arr_random"
      ],
      "execution_count": 23,
      "outputs": [
        {
          "output_type": "execute_result",
          "data": {
            "text/plain": [
              "array([[[109, 213,  13],\n",
              "        [104,  27, 246],\n",
              "        [ 39,  89, 111]],\n",
              "\n",
              "       [[239, 160, 223],\n",
              "        [ 33, 173, 180],\n",
              "        [ 47, 126,  78]],\n",
              "\n",
              "       [[114, 176, 226],\n",
              "        [106, 169, 130],\n",
              "        [199,  57,  39]]])"
            ]
          },
          "metadata": {
            "tags": []
          },
          "execution_count": 23
        }
      ]
    },
    {
      "cell_type": "markdown",
      "metadata": {
        "id": "Q_VjZjV-EEIw",
        "colab_type": "text"
      },
      "source": [
        "위의 매트릭스를 보고 이미지 행렬을 머릿속에 그릴 수 있어야 함.\n",
        "\n",
        "그려보자."
      ]
    },
    {
      "cell_type": "code",
      "metadata": {
        "id": "uzl17d00EEIx",
        "colab_type": "code",
        "colab": {
          "base_uri": "https://localhost:8080/",
          "height": 52
        },
        "outputId": "fdd14d3c-abfa-4f7c-abb0-eaf5ef36c140"
      },
      "source": [
        "# 3차원 행렬의 splicing\n",
        "arr_random[:2, :2, 1]"
      ],
      "execution_count": 24,
      "outputs": [
        {
          "output_type": "execute_result",
          "data": {
            "text/plain": [
              "array([[213,  27],\n",
              "       [160, 173]])"
            ]
          },
          "metadata": {
            "tags": []
          },
          "execution_count": 24
        }
      ]
    },
    {
      "cell_type": "code",
      "metadata": {
        "id": "w8dZsJCtEEIz",
        "colab_type": "code",
        "colab": {
          "base_uri": "https://localhost:8080/",
          "height": 173
        },
        "outputId": "045d3e7a-49d0-4c86-d981-737644e1a35d"
      },
      "source": [
        "# 마지막 축 모두 선택은 생략가능\n",
        "arr_random[:2, :2, :], arr_random[:2, :2]"
      ],
      "execution_count": 25,
      "outputs": [
        {
          "output_type": "execute_result",
          "data": {
            "text/plain": [
              "(array([[[109, 213,  13],\n",
              "         [104,  27, 246]],\n",
              " \n",
              "        [[239, 160, 223],\n",
              "         [ 33, 173, 180]]]), array([[[109, 213,  13],\n",
              "         [104,  27, 246]],\n",
              " \n",
              "        [[239, 160, 223],\n",
              "         [ 33, 173, 180]]]))"
            ]
          },
          "metadata": {
            "tags": []
          },
          "execution_count": 25
        }
      ]
    },
    {
      "cell_type": "code",
      "metadata": {
        "id": "weqhZwwCEEI1",
        "colab_type": "code",
        "colab": {}
      },
      "source": [
        ""
      ],
      "execution_count": null,
      "outputs": []
    },
    {
      "cell_type": "code",
      "metadata": {
        "id": "wEOtHKfEEEI3",
        "colab_type": "code",
        "colab": {}
      },
      "source": [
        ""
      ],
      "execution_count": null,
      "outputs": []
    },
    {
      "cell_type": "markdown",
      "metadata": {
        "id": "drVOr8cGEEI6",
        "colab_type": "text"
      },
      "source": [
        "### 정수 인덱싱 (integer indexing)\n",
        "정수 인덱싱은 각 차원별로 선택되어지는 배열요소의 인덱스들을 일렬로 나열하여 부분집합을 구하는 방식이다. \n",
        "\n",
        "즉, 임의의 numpy 배열 a 에 대해 a[[row1, row2], [col1, col2]] 와 같이 표현하는 것인데, 이는 a[row1, col1] 과 a[row2, col2] 라는 두 개의 배열요소의 집합을 의미한다. 예를 들어, 아래 예제에서 a[[0, 2], [1, 3]] 은 정수 인덱싱으로서 이는 a[0, 1] 과 a[2, 3] 등 2개의 배열요소를 가리킨다."
      ]
    },
    {
      "cell_type": "code",
      "metadata": {
        "id": "c5xLnh5yEEI6",
        "colab_type": "code",
        "colab": {},
        "outputId": "a1bf3993-ac03-45fe-aa03-8258e01ac182"
      },
      "source": [
        "lst = [\n",
        "    [1, 2, 3, 4],\n",
        "    [5, 6, 7, 8],\n",
        "    [9, 10, 11, 12]\n",
        "]\n",
        "a = np.array(lst)\n",
        " \n",
        "# 정수 인덱싱\n",
        "s = a[[0, 2], [1, 3]]\n",
        " \n",
        "print(s)"
      ],
      "execution_count": null,
      "outputs": [
        {
          "output_type": "stream",
          "text": [
            "[ 2 12]\n"
          ],
          "name": "stdout"
        }
      ]
    },
    {
      "cell_type": "markdown",
      "metadata": {
        "id": "SE_xLy01EEI8",
        "colab_type": "text"
      },
      "source": [
        "### 부울린 인덱싱 (boolean indexing)\n",
        "numpy 부울린 인덱싱은 배열 각 요소의 선택여부를 True, False로 표현하는 방식이다. \n",
        "\n",
        "만약 배열 a 가 2 x 3 의 배열이이라면, 부울린 인덱싱을 정의하는 numpy 배열도 2 x 3 으로 만들고 선택할 배열요소에 True를 넣고 그렇지 않으면 False를 넣으면 된다.\n",
        "\n",
        "위에서 이용한 다차원의 인덱싱을 응용하여 boolean 인덱싱을 할 수 있다.\n",
        "해당 기능은 주로 마스크라고 이야기하는데, boolean인덱싱을 통해 만들어낸 array를 통해\n",
        "우리가 원하는 행 또는 열의 값만 뽑아낼 수 있다.\n",
        "즉, 마스크처럼 우리가 가리고 싶은 부분은 가리고, 원하는 요소만 꺼낼 수 있다.\n",
        "\n",
        "출처: https://doorbw.tistory.com/171 [Tigercow.Door]"
      ]
    },
    {
      "cell_type": "code",
      "metadata": {
        "id": "R1ZcXtXrEEI9",
        "colab_type": "code",
        "colab": {
          "base_uri": "https://localhost:8080/",
          "height": 35
        },
        "outputId": "ea3d8d16-6fd7-4137-a1e9-61e4ec2f5cad"
      },
      "source": [
        "# 기본 예제, array와 shape이 똑같은 mask가 있다면 쉽게 해석하여 꺼내올 수 있음.\n",
        "lst = [\n",
        "    [1, 2, 3],\n",
        "    [4, 5, 6],\n",
        "    [7, 8, 9]\n",
        "]\n",
        "a = np.array(lst)\n",
        " \n",
        "bool_indexing_array = np.array([\n",
        "    [False,  True, False],\n",
        "    [True, False,  True],\n",
        "    [False,  True, False]\n",
        "])\n",
        " \n",
        "n = a[bool_indexing_array]\n",
        "n"
      ],
      "execution_count": 26,
      "outputs": [
        {
          "output_type": "execute_result",
          "data": {
            "text/plain": [
              "array([2, 4, 6, 8])"
            ]
          },
          "metadata": {
            "tags": []
          },
          "execution_count": 26
        }
      ]
    },
    {
      "cell_type": "code",
      "metadata": {
        "id": "GET8jwy8EEI_",
        "colab_type": "code",
        "colab": {
          "base_uri": "https://localhost:8080/",
          "height": 86
        },
        "outputId": "f41c8f23-ebd2-497d-ffc5-ae4b6f7cac7a"
      },
      "source": [
        "# 조건문을 이용한 boolean array(mask)를 생성가능\n",
        "lst = [\n",
        "    [1, 2, 3],\n",
        "    [4, 5, 6],\n",
        "    [7, 8, 9]\n",
        "]\n",
        "a = np.array(lst)\n",
        " \n",
        "# 배열 a 에 대해 짝수면 True, 홀수면 False \n",
        "bool_indexing = (a % 2 == 0)\n",
        "print(bool_indexing)\n",
        "\n",
        "a[bool_indexing]"
      ],
      "execution_count": 27,
      "outputs": [
        {
          "output_type": "stream",
          "text": [
            "[[False  True False]\n",
            " [ True False  True]\n",
            " [False  True False]]\n"
          ],
          "name": "stdout"
        },
        {
          "output_type": "execute_result",
          "data": {
            "text/plain": [
              "array([2, 4, 6, 8])"
            ]
          },
          "metadata": {
            "tags": []
          },
          "execution_count": 27
        }
      ]
    },
    {
      "cell_type": "code",
      "metadata": {
        "id": "w_ntClcgEEJC",
        "colab_type": "code",
        "colab": {},
        "outputId": "0590f9d4-e9ab-473d-89ee-344d8025b4ed"
      },
      "source": [
        "# 더 간단한 표현\n",
        "n = a[ a % 2 == 0 ]\n",
        "n"
      ],
      "execution_count": null,
      "outputs": [
        {
          "output_type": "execute_result",
          "data": {
            "text/plain": [
              "array([2, 4, 6, 8])"
            ]
          },
          "metadata": {
            "tags": []
          },
          "execution_count": 365
        }
      ]
    },
    {
      "cell_type": "markdown",
      "metadata": {
        "id": "WXrEdoTwEEJE",
        "colab_type": "text"
      },
      "source": [
        "#### boolean mask 응용"
      ]
    },
    {
      "cell_type": "code",
      "metadata": {
        "id": "dpR_fOsIEEJF",
        "colab_type": "code",
        "colab": {
          "base_uri": "https://localhost:8080/",
          "height": 69
        },
        "outputId": "a9068451-b4e2-4262-957b-d19297e427ab"
      },
      "source": [
        "names = np.array(['Beomwoo','Beomwoo','Kim','Joan','Lee','Beomwoo','Park','Beomwoo'])\n",
        "print(names.shape)\n",
        "names"
      ],
      "execution_count": 28,
      "outputs": [
        {
          "output_type": "stream",
          "text": [
            "(8,)\n"
          ],
          "name": "stdout"
        },
        {
          "output_type": "execute_result",
          "data": {
            "text/plain": [
              "array(['Beomwoo', 'Beomwoo', 'Kim', 'Joan', 'Lee', 'Beomwoo', 'Park',\n",
              "       'Beomwoo'], dtype='<U7')"
            ]
          },
          "metadata": {
            "tags": []
          },
          "execution_count": 28
        }
      ]
    },
    {
      "cell_type": "code",
      "metadata": {
        "id": "ztYi9j-FEEJH",
        "colab_type": "code",
        "colab": {
          "base_uri": "https://localhost:8080/",
          "height": 173
        },
        "outputId": "557aadde-b56d-49c4-b005-3d948258ea9e"
      },
      "source": [
        "# 표준 정규분포 데이터의 생성\n",
        "data = np.random.randn(8,4)\n",
        "print(data.shape)\n",
        "data"
      ],
      "execution_count": 29,
      "outputs": [
        {
          "output_type": "stream",
          "text": [
            "(8, 4)\n"
          ],
          "name": "stdout"
        },
        {
          "output_type": "execute_result",
          "data": {
            "text/plain": [
              "array([[ 0.4385347 ,  0.78234701, -0.14822593, -0.47665531],\n",
              "       [ 1.28320176,  0.09618933, -0.66735384, -1.22108454],\n",
              "       [ 0.53692817,  0.21079992,  0.7538844 ,  1.14769579],\n",
              "       [-0.48906159, -1.18986104,  2.48621852, -1.31422   ],\n",
              "       [ 0.57660004, -0.69764468,  0.20526809, -0.65634573],\n",
              "       [ 0.17080999, -1.05048416,  0.34782589,  1.03785311],\n",
              "       [-0.44576632,  1.01697826,  0.94972842, -0.05531576],\n",
              "       [-0.00896044, -0.88759744, -2.49346867, -1.02453892]])"
            ]
          },
          "metadata": {
            "tags": []
          },
          "execution_count": 29
        }
      ]
    },
    {
      "cell_type": "code",
      "metadata": {
        "id": "w8XAmFCkEEJJ",
        "colab_type": "code",
        "colab": {
          "base_uri": "https://localhost:8080/",
          "height": 35
        },
        "outputId": "197099da-0b43-468c-8f5d-a80dd4d51094"
      },
      "source": [
        "# 요소가 Beomwoo인 항목에 대한 mask 생성\n",
        "names_Beomwoo_mask = (names == 'Beomwoo')\n",
        "names_Beomwoo_mask"
      ],
      "execution_count": 30,
      "outputs": [
        {
          "output_type": "execute_result",
          "data": {
            "text/plain": [
              "array([ True,  True, False, False, False,  True, False,  True])"
            ]
          },
          "metadata": {
            "tags": []
          },
          "execution_count": 30
        }
      ]
    },
    {
      "cell_type": "code",
      "metadata": {
        "id": "2O07Ae90EEJL",
        "colab_type": "code",
        "colab": {
          "base_uri": "https://localhost:8080/",
          "height": 86
        },
        "outputId": "f767ae76-514a-489e-d4c7-86e9aa3f75f5"
      },
      "source": [
        "# row, col 중 row의 수치가 같으니 다음과 같이 쓸수 있음\n",
        "data[names_Beomwoo_mask,:]"
      ],
      "execution_count": 31,
      "outputs": [
        {
          "output_type": "execute_result",
          "data": {
            "text/plain": [
              "array([[ 0.4385347 ,  0.78234701, -0.14822593, -0.47665531],\n",
              "       [ 1.28320176,  0.09618933, -0.66735384, -1.22108454],\n",
              "       [ 0.17080999, -1.05048416,  0.34782589,  1.03785311],\n",
              "       [-0.00896044, -0.88759744, -2.49346867, -1.02453892]])"
            ]
          },
          "metadata": {
            "tags": []
          },
          "execution_count": 31
        }
      ]
    },
    {
      "cell_type": "code",
      "metadata": {
        "id": "hS8MvjOJEEJO",
        "colab_type": "code",
        "colab": {
          "base_uri": "https://localhost:8080/",
          "height": 35
        },
        "outputId": "884d099e-9bf5-4a23-ae58-3172898ef80f"
      },
      "source": [
        "# row, col각각에 조건문 가능\n",
        "# 요소가 Kim인 행의 데이터만 꺼내기\n",
        "data[names == 'Kim',:]"
      ],
      "execution_count": 32,
      "outputs": [
        {
          "output_type": "execute_result",
          "data": {
            "text/plain": [
              "array([[0.53692817, 0.21079992, 0.7538844 , 1.14769579]])"
            ]
          },
          "metadata": {
            "tags": []
          },
          "execution_count": 32
        }
      ]
    },
    {
      "cell_type": "code",
      "metadata": {
        "id": "SnS_EdqDEEJQ",
        "colab_type": "code",
        "colab": {},
        "outputId": "c3a88fdc-9ca0-49e3-dc1b-d2b367cd76aa"
      },
      "source": [
        "# 조건이 두개인것에 대한 indexing!!(pandas df 방식과 같다)\n",
        "# 논리 연산을 응용하여, 요소가 Kim 또는 Park인 행의 데이터만 꺼내기\n",
        "data[(names == 'Kim') | (names == 'Park'),:]"
      ],
      "execution_count": null,
      "outputs": [
        {
          "output_type": "execute_result",
          "data": {
            "text/plain": [
              "array([[-0.51683464,  1.67857924, -0.45518898,  0.83268655],\n",
              "       [ 0.22020871, -0.28394363,  0.72209257,  0.74659778]])"
            ]
          },
          "metadata": {
            "tags": []
          },
          "execution_count": 371
        }
      ]
    },
    {
      "cell_type": "markdown",
      "metadata": {
        "id": "8qKQf0-DEEJS",
        "colab_type": "text"
      },
      "source": [
        "다른 array가 아닌 data array 자체적으로도 마스크를 만들고, 이를 응용하여 인덱싱이 가능하다.\n",
        "data array에서 0번째 열의 값이 0보다 작은 행을 구해보자."
      ]
    },
    {
      "cell_type": "code",
      "metadata": {
        "id": "0KGqSRQuEEJS",
        "colab_type": "code",
        "colab": {},
        "outputId": "e295a66b-d216-483c-da06-e33fa576bdfc"
      },
      "source": [
        "# 먼저 마스크를 만든다.\n",
        "# data array에서 0번째 열이 0보다 작은 요소의 boolean 값은 다음과 같다.\n",
        "data[:,0] < 0"
      ],
      "execution_count": null,
      "outputs": [
        {
          "output_type": "execute_result",
          "data": {
            "text/plain": [
              "array([ True, False,  True,  True,  True,  True, False,  True])"
            ]
          },
          "metadata": {
            "tags": []
          },
          "execution_count": 372
        }
      ]
    },
    {
      "cell_type": "code",
      "metadata": {
        "id": "oIKlYCO9EEJV",
        "colab_type": "code",
        "colab": {},
        "outputId": "e98ad195-47f4-428d-970d-4896e74b8ab2"
      },
      "source": [
        "# 위에서 만든 마스크를 이용하여 0번째 열의 값이 0보다 작은 행을 구한다.\n",
        "data[data[:,0]<0,:]"
      ],
      "execution_count": null,
      "outputs": [
        {
          "output_type": "execute_result",
          "data": {
            "text/plain": [
              "array([[-1.60304696,  1.02432943, -0.40370503, -2.72888484],\n",
              "       [-0.51683464,  1.67857924, -0.45518898,  0.83268655],\n",
              "       [-2.07934381,  0.02158827, -0.89177424, -1.81654124],\n",
              "       [-0.44379965,  1.04115794,  1.23120637,  0.79471543],\n",
              "       [-0.13169527,  0.12876113,  0.3669032 , -1.21247492],\n",
              "       [-0.43110201,  0.83536117,  0.69962932, -0.07455466]])"
            ]
          },
          "metadata": {
            "tags": []
          },
          "execution_count": 373
        }
      ]
    },
    {
      "cell_type": "code",
      "metadata": {
        "id": "8cWApjdYEEJX",
        "colab_type": "code",
        "colab": {},
        "outputId": "9fea96a0-b660-42d7-bc0a-09f5feb32a98"
      },
      "source": [
        "# 축약 ver. 마지막 열은 생략가능하므로 아래 처럼 설정하면 boolean에 맞는 행만 선택하는 것과 같다.\n",
        "mask = [True, True, True, False, True, True, True, True]\n",
        "data[mask]"
      ],
      "execution_count": null,
      "outputs": [
        {
          "output_type": "execute_result",
          "data": {
            "text/plain": [
              "array([[-1.60304696,  1.02432943, -0.40370503, -2.72888484],\n",
              "       [ 0.59944257,  0.05152184, -0.65903371, -0.48141301],\n",
              "       [-0.51683464,  1.67857924, -0.45518898,  0.83268655],\n",
              "       [-0.44379965,  1.04115794,  1.23120637,  0.79471543],\n",
              "       [-0.13169527,  0.12876113,  0.3669032 , -1.21247492],\n",
              "       [ 0.22020871, -0.28394363,  0.72209257,  0.74659778],\n",
              "       [-0.43110201,  0.83536117,  0.69962932, -0.07455466]])"
            ]
          },
          "metadata": {
            "tags": []
          },
          "execution_count": 375
        }
      ]
    },
    {
      "cell_type": "markdown",
      "metadata": {
        "id": "fin-wwXUEEJa",
        "colab_type": "text"
      },
      "source": [
        "#### 좀더 어려운 boolean mask ( 브로드캐스팅개념과 축의 개념이 들어감. argmax이후 볼 것.)"
      ]
    },
    {
      "cell_type": "code",
      "metadata": {
        "id": "2pt-CgNGEEJb",
        "colab_type": "code",
        "colab": {
          "base_uri": "https://localhost:8080/",
          "height": 207
        },
        "outputId": "91d48b4e-e153-4114-e62b-3167a7252150"
      },
      "source": [
        "sample = np.random.randint(255, size=(3, 3, 3))\n",
        "sample"
      ],
      "execution_count": 89,
      "outputs": [
        {
          "output_type": "execute_result",
          "data": {
            "text/plain": [
              "array([[[152,  45, 205],\n",
              "        [ 29, 172,  56],\n",
              "        [227, 172,  26]],\n",
              "\n",
              "       [[  1,  91, 101],\n",
              "        [127, 129,  17],\n",
              "        [213,  27,   6]],\n",
              "\n",
              "       [[ 62, 103, 110],\n",
              "        [ 33,  87, 211],\n",
              "        [104,  92, 191]]])"
            ]
          },
          "metadata": {
            "tags": []
          },
          "execution_count": 89
        }
      ]
    },
    {
      "cell_type": "code",
      "metadata": {
        "id": "y7Hj4j1xEEJd",
        "colab_type": "code",
        "colab": {
          "base_uri": "https://localhost:8080/",
          "height": 138
        },
        "outputId": "57cca198-83db-49c5-97cb-3e1688a7b34a"
      },
      "source": [
        "# mask - boolean elements들의 broadcast\n",
        "mask = np.array([True, True, False])\n",
        "sample[mask]"
      ],
      "execution_count": 90,
      "outputs": [
        {
          "output_type": "execute_result",
          "data": {
            "text/plain": [
              "array([[[152,  45, 205],\n",
              "        [ 29, 172,  56],\n",
              "        [227, 172,  26]],\n",
              "\n",
              "       [[  1,  91, 101],\n",
              "        [127, 129,  17],\n",
              "        [213,  27,   6]]])"
            ]
          },
          "metadata": {
            "tags": []
          },
          "execution_count": 90
        }
      ]
    },
    {
      "cell_type": "code",
      "metadata": {
        "id": "Vp6zaXWKEEJh",
        "colab_type": "code",
        "colab": {
          "base_uri": "https://localhost:8080/",
          "height": 104
        },
        "outputId": "7ce4eec6-43c7-4285-e229-65e7ac760ee1"
      },
      "source": [
        "# 이해 안되면 넘어가기.\n",
        "mask = np.array([[True, True, False], [True, False, True], [False, True, False]])\n",
        "sample[mask]"
      ],
      "execution_count": 91,
      "outputs": [
        {
          "output_type": "execute_result",
          "data": {
            "text/plain": [
              "array([[152,  45, 205],\n",
              "       [ 29, 172,  56],\n",
              "       [  1,  91, 101],\n",
              "       [213,  27,   6],\n",
              "       [ 33,  87, 211]])"
            ]
          },
          "metadata": {
            "tags": []
          },
          "execution_count": 91
        }
      ]
    },
    {
      "cell_type": "code",
      "metadata": {
        "id": "MCvFOSd0EEJj",
        "colab_type": "code",
        "colab": {
          "base_uri": "https://localhost:8080/",
          "height": 69
        },
        "outputId": "2813aad6-4a88-4763-a81a-9254d3164efa"
      },
      "source": [
        "mask = np.all(sample > 50, axis=-1)\n",
        "mask"
      ],
      "execution_count": 92,
      "outputs": [
        {
          "output_type": "execute_result",
          "data": {
            "text/plain": [
              "array([[False, False, False],\n",
              "       [False, False, False],\n",
              "       [ True, False,  True]])"
            ]
          },
          "metadata": {
            "tags": []
          },
          "execution_count": 92
        }
      ]
    },
    {
      "cell_type": "code",
      "metadata": {
        "id": "3ND9ubShEEJm",
        "colab_type": "code",
        "colab": {
          "base_uri": "https://localhost:8080/",
          "height": 52
        },
        "outputId": "59396c54-657c-453d-95cf-d96825292b43"
      },
      "source": [
        "sample[mask]"
      ],
      "execution_count": 93,
      "outputs": [
        {
          "output_type": "execute_result",
          "data": {
            "text/plain": [
              "array([[ 62, 103, 110],\n",
              "       [104,  92, 191]])"
            ]
          },
          "metadata": {
            "tags": []
          },
          "execution_count": 93
        }
      ]
    },
    {
      "cell_type": "code",
      "metadata": {
        "id": "XQiMh7L1EEJo",
        "colab_type": "code",
        "colab": {
          "base_uri": "https://localhost:8080/",
          "height": 207
        },
        "outputId": "77b77ff1-96df-42ea-8283-322defc98a00"
      },
      "source": [
        "sample[mask] = 999\n",
        "sample"
      ],
      "execution_count": 94,
      "outputs": [
        {
          "output_type": "execute_result",
          "data": {
            "text/plain": [
              "array([[[152,  45, 205],\n",
              "        [ 29, 172,  56],\n",
              "        [227, 172,  26]],\n",
              "\n",
              "       [[  1,  91, 101],\n",
              "        [127, 129,  17],\n",
              "        [213,  27,   6]],\n",
              "\n",
              "       [[999, 999, 999],\n",
              "        [ 33,  87, 211],\n",
              "        [999, 999, 999]]])"
            ]
          },
          "metadata": {
            "tags": []
          },
          "execution_count": 94
        }
      ]
    },
    {
      "cell_type": "code",
      "metadata": {
        "id": "gn0w0fCAEEJr",
        "colab_type": "code",
        "colab": {}
      },
      "source": [
        ""
      ],
      "execution_count": 94,
      "outputs": []
    },
    {
      "cell_type": "markdown",
      "metadata": {
        "id": "Qmc3hWkoEEJt",
        "colab_type": "text"
      },
      "source": [
        "### np 연산\n",
        "* 간단한 행렬 산술\n",
        "* 행렬곱\n",
        "* 통계량\n",
        "* elements 합\n",
        "* 최대 최소의 index : argmin, argmax"
      ]
    },
    {
      "cell_type": "code",
      "metadata": {
        "id": "MenB1xS3EEJt",
        "colab_type": "code",
        "colab": {
          "base_uri": "https://localhost:8080/",
          "height": 35
        },
        "outputId": "b8920427-aa0b-467b-eec3-695314aae0ac"
      },
      "source": [
        "a = np.array([1,2,3])\n",
        "b = np.array([4,5,6])\n",
        "a, b"
      ],
      "execution_count": 33,
      "outputs": [
        {
          "output_type": "execute_result",
          "data": {
            "text/plain": [
              "(array([1, 2, 3]), array([4, 5, 6]))"
            ]
          },
          "metadata": {
            "tags": []
          },
          "execution_count": 33
        }
      ]
    },
    {
      "cell_type": "code",
      "metadata": {
        "id": "NeKTEueWEEJw",
        "colab_type": "code",
        "colab": {
          "base_uri": "https://localhost:8080/",
          "height": 86
        },
        "outputId": "f27e05d9-1c0d-46df-ed8c-ba19b9484f38"
      },
      "source": [
        "# 각 요소 더하기\n",
        "c = a + b\n",
        "# c = np.add(a, b)\n",
        "print(c)  # [5 7 9]\n",
        " \n",
        "# 각 요소 빼기\n",
        "c = a - b\n",
        "# c = np.subtract(a, b)\n",
        "print(c)  # [-3 -3 -3]\n",
        " \n",
        "# 각 요소 곱하기\n",
        "c = a * b\n",
        "# c = np.multiply(a, b)\n",
        "print(c)  # [4 10 18]\n",
        " \n",
        "# 각 요소 나누기\n",
        "c = a / b\n",
        "# c = np.divide(a, b)\n",
        "print(c)  # [0.25 0.4 0.5]"
      ],
      "execution_count": 34,
      "outputs": [
        {
          "output_type": "stream",
          "text": [
            "[5 7 9]\n",
            "[-3 -3 -3]\n",
            "[ 4 10 18]\n",
            "[0.25 0.4  0.5 ]\n"
          ],
          "name": "stdout"
        }
      ]
    },
    {
      "cell_type": "code",
      "metadata": {
        "id": "CaZRkSZzEEJz",
        "colab_type": "code",
        "colab": {
          "base_uri": "https://localhost:8080/",
          "height": 52
        },
        "outputId": "ed719fa8-71cd-410e-f02e-36eca74eaa91"
      },
      "source": [
        "# 행렬 곱 연산\n",
        "lst1 = [\n",
        "    [1,2],\n",
        "    [3,4]\n",
        "]\n",
        " \n",
        "lst2 = [\n",
        "    [5,6],\n",
        "    [7,8]\n",
        "]\n",
        "a = np.array(lst1)\n",
        "b = np.array(lst2)\n",
        " \n",
        "c = np.dot(a, b)\n",
        "print(c)"
      ],
      "execution_count": 35,
      "outputs": [
        {
          "output_type": "stream",
          "text": [
            "[[19 22]\n",
            " [43 50]]\n"
          ],
          "name": "stdout"
        }
      ]
    },
    {
      "cell_type": "code",
      "metadata": {
        "id": "7Cw3ir7bEEJ0",
        "colab_type": "code",
        "colab": {
          "base_uri": "https://localhost:8080/",
          "height": 69
        },
        "outputId": "00b30de3-1313-432f-e851-b35f99969a41"
      },
      "source": [
        "# elements의 합\n",
        "a = np.array([[1,2],[3,4]])\n",
        "print(a)\n",
        "s = np.sum(a)\n",
        "print(s)   # 10"
      ],
      "execution_count": 36,
      "outputs": [
        {
          "output_type": "stream",
          "text": [
            "[[1 2]\n",
            " [3 4]]\n",
            "10\n"
          ],
          "name": "stdout"
        }
      ]
    },
    {
      "cell_type": "markdown",
      "metadata": {
        "id": "AvlNAGYjEEJ5",
        "colab_type": "text"
      },
      "source": [
        "지금 부터 나올 axis에 관해 개념이 헷갈리기 시작함.\n",
        "\n",
        "잘 파악해야 함."
      ]
    },
    {
      "cell_type": "code",
      "metadata": {
        "id": "jos-vPPKEEJ6",
        "colab_type": "code",
        "colab": {
          "base_uri": "https://localhost:8080/",
          "height": 52
        },
        "outputId": "c5428d87-acac-4168-f763-878cb7c05045"
      },
      "source": [
        "# axis=0 이면, 컬럼끼리 더함(행간 연산)\n",
        "# axis=1 이면, 행끼리 더함(컬럼간 연산)\n",
        "s = np.sum(a, axis=0)\n",
        "print(s)   \n",
        " \n",
        "s = np.sum(a, axis=1)\n",
        "print(s)  "
      ],
      "execution_count": 37,
      "outputs": [
        {
          "output_type": "stream",
          "text": [
            "[4 6]\n",
            "[3 7]\n"
          ],
          "name": "stdout"
        }
      ]
    },
    {
      "cell_type": "code",
      "metadata": {
        "id": "by6egl7XEEJ7",
        "colab_type": "code",
        "colab": {},
        "outputId": "54e74119-de71-4dab-8cf7-34bcd561e448"
      },
      "source": [
        "np.sum(a, axis=-1)"
      ],
      "execution_count": null,
      "outputs": [
        {
          "output_type": "execute_result",
          "data": {
            "text/plain": [
              "array([3, 7])"
            ]
          },
          "metadata": {
            "tags": []
          },
          "execution_count": 393
        }
      ]
    },
    {
      "cell_type": "code",
      "metadata": {
        "id": "-j-HzkJVEEJ9",
        "colab_type": "code",
        "colab": {},
        "outputId": "b90971ce-f705-496a-a084-f7908e884882"
      },
      "source": [
        "# elements의 곱\n",
        "s = np.prod(a)\n",
        "print(a)\n",
        "print(s)   # 24"
      ],
      "execution_count": null,
      "outputs": [
        {
          "output_type": "stream",
          "text": [
            "[[1 2]\n",
            " [3 4]]\n",
            "24\n"
          ],
          "name": "stdout"
        }
      ]
    },
    {
      "cell_type": "code",
      "metadata": {
        "id": "7Sw39PEBEEKE",
        "colab_type": "code",
        "colab": {}
      },
      "source": [
        "arr1 = np.random.randn(5,3)"
      ],
      "execution_count": null,
      "outputs": []
    },
    {
      "cell_type": "code",
      "metadata": {
        "id": "Fa-7II66EEKH",
        "colab_type": "code",
        "colab": {},
        "outputId": "ea12919c-9eac-42f2-b4eb-8faf3ca215d2"
      },
      "source": [
        "# 각 성분의 절대값 계산하기\n",
        "np.abs(arr1)"
      ],
      "execution_count": null,
      "outputs": [
        {
          "output_type": "execute_result",
          "data": {
            "text/plain": [
              "array([[0.10405546, 3.360357  , 1.07980831],\n",
              "       [0.85019664, 1.1209097 , 1.24791445],\n",
              "       [1.72303458, 1.1506982 , 1.95039133],\n",
              "       [0.76876797, 0.05307336, 0.09026195],\n",
              "       [1.40978709, 1.20881949, 0.82523759]])"
            ]
          },
          "metadata": {
            "tags": []
          },
          "execution_count": 396
        }
      ]
    },
    {
      "cell_type": "code",
      "metadata": {
        "id": "7zgKbMAbEEKJ",
        "colab_type": "code",
        "colab": {},
        "outputId": "66d9d073-b471-4e45-cc54-3c88141d6f00"
      },
      "source": [
        "# 평균 계산\n",
        "a = np.mean(arr1)\n",
        "# 행 간의 평균 계산\n",
        "b = np.mean(arr1, axis=0)\n",
        "# 전체 성분의 표준편차, 분산, 최소값, 최대값 계산(std, var, min, max)\n",
        "c = np.std(arr1)\n",
        "a, b, c"
      ],
      "execution_count": null,
      "outputs": [
        {
          "output_type": "execute_result",
          "data": {
            "text/plain": [
              "(-0.14845935863857243,\n",
              " array([-0.3235825 ,  0.44889905, -0.57069462]),\n",
              " 1.37848911555831)"
            ]
          },
          "metadata": {
            "tags": []
          },
          "execution_count": 397
        }
      ]
    },
    {
      "cell_type": "code",
      "metadata": {
        "id": "Zl0ciOu4EEKL",
        "colab_type": "code",
        "colab": {},
        "outputId": "ea315255-21c8-4217-eedf-f829bafcb4da"
      },
      "source": [
        "# 전체 성분의 최소값, 최대값이 위치한 인덱스를 반환(argmin, argmax)\n",
        "# 2차원 이상을 넣어도 1차원으로 해석하여 인덱스 반환\n",
        "# 후반 부에 더 자세히 다룰 예정\n",
        "arr1, np.argmin(arr1)"
      ],
      "execution_count": null,
      "outputs": [
        {
          "output_type": "execute_result",
          "data": {
            "text/plain": [
              "(array([[1, 2, 3],\n",
              "        [4, 5, 6],\n",
              "        [7, 8, 9]]),\n",
              " 0)"
            ]
          },
          "metadata": {
            "tags": []
          },
          "execution_count": 483
        }
      ]
    },
    {
      "cell_type": "code",
      "metadata": {
        "id": "7ZVlTvLvEEKN",
        "colab_type": "code",
        "colab": {},
        "outputId": "42ea4667-c4fa-4a38-c84d-c716d1c12ab5"
      },
      "source": [
        "# 각 성분의 제곱근 계산하기 ( == array ** 0.5)\n",
        "np.sqrt(arr1)\n",
        "# 각 성분의 제곱 계산하기\n",
        "np.square(arr1)\n",
        "# exponential\n",
        "np.exp(arr1)\n",
        "# 각 성분을 자연로그, 상용로그, 밑이 2인 로그를 씌운 값을 계산하기\n",
        "np.log(arr1)\n",
        "# 로그\n",
        "np.log10(arr1)\n",
        "np.log2(arr1)"
      ],
      "execution_count": null,
      "outputs": [
        {
          "output_type": "stream",
          "text": [
            "/home/kehyeong/miniconda3/envs/tf2/lib/python3.7/site-packages/ipykernel_launcher.py:2: RuntimeWarning: invalid value encountered in sqrt\n",
            "  \n",
            "/home/kehyeong/miniconda3/envs/tf2/lib/python3.7/site-packages/ipykernel_launcher.py:8: RuntimeWarning: invalid value encountered in log\n",
            "  \n",
            "/home/kehyeong/miniconda3/envs/tf2/lib/python3.7/site-packages/ipykernel_launcher.py:10: RuntimeWarning: invalid value encountered in log10\n",
            "  # Remove the CWD from sys.path while we load stuff.\n",
            "/home/kehyeong/miniconda3/envs/tf2/lib/python3.7/site-packages/ipykernel_launcher.py:11: RuntimeWarning: invalid value encountered in log2\n",
            "  # This is added back by InteractiveShellApp.init_path()\n"
          ],
          "name": "stderr"
        },
        {
          "output_type": "execute_result",
          "data": {
            "text/plain": [
              "array([[        nan,  1.74861451,  0.11077523],\n",
              "       [-0.23413155,         nan,         nan],\n",
              "       [        nan,         nan,         nan],\n",
              "       [-0.37937986,         nan, -3.46973826],\n",
              "       [        nan,  0.27359882,         nan]])"
            ]
          },
          "metadata": {
            "tags": []
          },
          "execution_count": 400
        }
      ]
    },
    {
      "cell_type": "code",
      "metadata": {
        "id": "eMoylf4aEEKP",
        "colab_type": "code",
        "colab": {},
        "outputId": "eca55fa1-6fda-4e3f-b994-ddf52c64b432"
      },
      "source": [
        "# 맨 처음 성분부터 각 성분까지의 누적합 또는 누적곱을 계산(cumsum, cumprod)\n",
        "arr1, np.cumsum(arr1)\n"
      ],
      "execution_count": null,
      "outputs": [
        {
          "output_type": "execute_result",
          "data": {
            "text/plain": [
              "(array([[-0.10405546,  3.360357  ,  1.07980831],\n",
              "        [ 0.85019664, -1.1209097 , -1.24791445],\n",
              "        [-1.72303458, -1.1506982 , -1.95039133],\n",
              "        [ 0.76876797, -0.05307336,  0.09026195],\n",
              "        [-1.40978709,  1.20881949, -0.82523759]]),\n",
              " array([-0.10405546,  3.25630154,  4.33610986,  5.18630649,  4.06539679,\n",
              "         2.81748235,  1.09444777, -0.05625043, -2.00664176, -1.23787379,\n",
              "        -1.29094714, -1.20068519, -2.61047228, -1.40165279, -2.22689038]))"
            ]
          },
          "metadata": {
            "tags": []
          },
          "execution_count": 401
        }
      ]
    },
    {
      "cell_type": "code",
      "metadata": {
        "id": "CN9GJY-ZEEKR",
        "colab_type": "code",
        "colab": {},
        "outputId": "b03fa2e6-f433-4ab9-d47a-425660629b99"
      },
      "source": [
        "# 각 성분의 부호 계산하기(+인 경우 1, -인 경우 -1, 0인 경우 0)\n",
        "sign_n = np.sign(arr1)\n",
        "# 각 성분의 소수 첫 번째 자리에서 올림한 값을 계산하기\n",
        "ceil_n = np.ceil(arr1)\n",
        "# 각 성분의 소수 첫 번째 자리에서 내림한 값을 계산하기\n",
        "floor_n = np.floor(arr1)\n",
        "arr1, sign_n, ceil_n,floor_n "
      ],
      "execution_count": null,
      "outputs": [
        {
          "output_type": "execute_result",
          "data": {
            "text/plain": [
              "(array([[-0.10405546,  3.360357  ,  1.07980831],\n",
              "        [ 0.85019664, -1.1209097 , -1.24791445],\n",
              "        [-1.72303458, -1.1506982 , -1.95039133],\n",
              "        [ 0.76876797, -0.05307336,  0.09026195],\n",
              "        [-1.40978709,  1.20881949, -0.82523759]]),\n",
              " array([[-1.,  1.,  1.],\n",
              "        [ 1., -1., -1.],\n",
              "        [-1., -1., -1.],\n",
              "        [ 1., -1.,  1.],\n",
              "        [-1.,  1., -1.]]),\n",
              " array([[-0.,  4.,  2.],\n",
              "        [ 1., -1., -1.],\n",
              "        [-1., -1., -1.],\n",
              "        [ 1., -0.,  1.],\n",
              "        [-1.,  2., -0.]]),\n",
              " array([[-1.,  3.,  1.],\n",
              "        [ 0., -2., -2.],\n",
              "        [-2., -2., -2.],\n",
              "        [ 0., -1.,  0.],\n",
              "        [-2.,  1., -1.]]))"
            ]
          },
          "metadata": {
            "tags": []
          },
          "execution_count": 402
        }
      ]
    },
    {
      "cell_type": "code",
      "metadata": {
        "id": "W6xVHiFTEEKT",
        "colab_type": "code",
        "colab": {},
        "outputId": "7f66e1b2-1d5d-4e3d-e2b8-04b029d008d7"
      },
      "source": [
        "# 각 성분이 NaN인 경우 True를, 아닌 경우 False를 반환하기\n",
        "np.isnan(arr1)"
      ],
      "execution_count": null,
      "outputs": [
        {
          "output_type": "execute_result",
          "data": {
            "text/plain": [
              "array([[False, False, False],\n",
              "       [False, False, False],\n",
              "       [False, False, False],\n",
              "       [False, False, False],\n",
              "       [False, False, False]])"
            ]
          },
          "metadata": {
            "tags": []
          },
          "execution_count": 403
        }
      ]
    },
    {
      "cell_type": "code",
      "metadata": {
        "id": "JwGZpPIiEEKV",
        "colab_type": "code",
        "colab": {},
        "outputId": "dd08fa62-56c5-40d5-9a0c-932bba4eb248"
      },
      "source": [
        "# 각 성분이 무한대인 경우 True를, 아닌 경우 False를 반환하기\n",
        "np.isinf(arr1)"
      ],
      "execution_count": null,
      "outputs": [
        {
          "output_type": "execute_result",
          "data": {
            "text/plain": [
              "array([[False, False, False],\n",
              "       [False, False, False],\n",
              "       [False, False, False],\n",
              "       [False, False, False],\n",
              "       [False, False, False]])"
            ]
          },
          "metadata": {
            "tags": []
          },
          "execution_count": 404
        }
      ]
    },
    {
      "cell_type": "markdown",
      "metadata": {
        "id": "Mc0KFf9TEEKW",
        "colab_type": "text"
      },
      "source": [
        "#### 2. 두 array에 적용하는 함수\n",
        "* 기본 산술\n",
        "* maximum, minimum\n",
        "* sort"
      ]
    },
    {
      "cell_type": "code",
      "metadata": {
        "id": "_ik2iQ-aEEKX",
        "colab_type": "code",
        "colab": {},
        "outputId": "2bbc7cb7-c4c6-4942-97c3-ac90e84f2f1d"
      },
      "source": [
        "arr2 = np.random.randn(5,3)\n",
        "arr1, arr2"
      ],
      "execution_count": null,
      "outputs": [
        {
          "output_type": "execute_result",
          "data": {
            "text/plain": [
              "(array([[-0.10405546,  3.360357  ,  1.07980831],\n",
              "        [ 0.85019664, -1.1209097 , -1.24791445],\n",
              "        [-1.72303458, -1.1506982 , -1.95039133],\n",
              "        [ 0.76876797, -0.05307336,  0.09026195],\n",
              "        [-1.40978709,  1.20881949, -0.82523759]]),\n",
              " array([[-2.55061578, -0.36514695, -0.3798087 ],\n",
              "        [ 1.54739923, -0.54644349,  0.03921579],\n",
              "        [-0.58934903,  0.52671801,  0.76604947],\n",
              "        [ 0.1890436 , -0.96474362, -0.3581364 ],\n",
              "        [-0.49921054, -0.1128461 , -0.42782355]]))"
            ]
          },
          "metadata": {
            "tags": []
          },
          "execution_count": 406
        }
      ]
    },
    {
      "cell_type": "code",
      "metadata": {
        "id": "YiKu8wJ9EEKY",
        "colab_type": "code",
        "colab": {},
        "outputId": "0b949258-9d59-4dc5-f290-9d182fc446fd"
      },
      "source": [
        "# 두 개의 array에 대해 동일한 위치의 성분끼리 연산 값을 계산하기(add, subtract, multiply, divide)\n",
        "# +, -, *, /를 해도 같은결과\n",
        "arr1 * arr2, np.multiply(arr1,arr2)"
      ],
      "execution_count": null,
      "outputs": [
        {
          "output_type": "execute_result",
          "data": {
            "text/plain": [
              "(array([[ 0.26540549, -1.2270241 , -0.41012059],\n",
              "        [ 1.31559362,  0.6125138 , -0.04893796],\n",
              "        [ 1.01546875, -0.60609347, -1.49409624],\n",
              "        [ 0.14533067,  0.05120218, -0.03232609],\n",
              "        [ 0.70378058, -0.13641057,  0.35305607]]),\n",
              " array([[ 0.26540549, -1.2270241 , -0.41012059],\n",
              "        [ 1.31559362,  0.6125138 , -0.04893796],\n",
              "        [ 1.01546875, -0.60609347, -1.49409624],\n",
              "        [ 0.14533067,  0.05120218, -0.03232609],\n",
              "        [ 0.70378058, -0.13641057,  0.35305607]]))"
            ]
          },
          "metadata": {
            "tags": []
          },
          "execution_count": 407
        }
      ]
    },
    {
      "cell_type": "code",
      "metadata": {
        "id": "ZO7yMra4EEKa",
        "colab_type": "code",
        "colab": {},
        "outputId": "ecf10a59-3203-479b-98fa-e95a123c620b"
      },
      "source": [
        "# 두 개의 array에 대해 동일한 위치의 성분끼리 비교하여 최대값 또는 최소값 계산하기(maximum, minimum)\n",
        "np.maximum(arr1,arr2)"
      ],
      "execution_count": null,
      "outputs": [
        {
          "output_type": "execute_result",
          "data": {
            "text/plain": [
              "array([[-0.10405546,  3.360357  ,  1.07980831],\n",
              "       [ 1.54739923, -0.54644349,  0.03921579],\n",
              "       [-0.58934903,  0.52671801,  0.76604947],\n",
              "       [ 0.76876797, -0.05307336,  0.09026195],\n",
              "       [-0.49921054,  1.20881949, -0.42782355]])"
            ]
          },
          "metadata": {
            "tags": []
          },
          "execution_count": 408
        }
      ]
    },
    {
      "cell_type": "code",
      "metadata": {
        "id": "-s0v_OqiEEKb",
        "colab_type": "code",
        "colab": {},
        "outputId": "240caa00-7405-482f-8389-1c7bc2cc94d8"
      },
      "source": [
        "# 오름 차순 정렬, 기본 axis = -1\n",
        "arr1, np.sort(arr1)"
      ],
      "execution_count": null,
      "outputs": [
        {
          "output_type": "execute_result",
          "data": {
            "text/plain": [
              "(array([[-0.10405546,  3.360357  ,  1.07980831],\n",
              "        [ 0.85019664, -1.1209097 , -1.24791445],\n",
              "        [-1.72303458, -1.1506982 , -1.95039133],\n",
              "        [ 0.76876797, -0.05307336,  0.09026195],\n",
              "        [-1.40978709,  1.20881949, -0.82523759]]),\n",
              " array([[-0.10405546,  1.07980831,  3.360357  ],\n",
              "        [-1.24791445, -1.1209097 ,  0.85019664],\n",
              "        [-1.95039133, -1.72303458, -1.1506982 ],\n",
              "        [-0.05307336,  0.09026195,  0.76876797],\n",
              "        [-1.40978709, -0.82523759,  1.20881949]]))"
            ]
          },
          "metadata": {
            "tags": []
          },
          "execution_count": 410
        }
      ]
    },
    {
      "cell_type": "code",
      "metadata": {
        "id": "AcZ-wWUPEEKf",
        "colab_type": "code",
        "colab": {},
        "outputId": "d3d44708-e2df-41e8-f0f9-4fd42c1aefd1"
      },
      "source": [
        "# 열 방향 오름차순 정렬\n",
        "np.sort(arr1, axis=0)"
      ],
      "execution_count": null,
      "outputs": [
        {
          "output_type": "execute_result",
          "data": {
            "text/plain": [
              "array([[-1.72303458, -1.1506982 , -1.95039133],\n",
              "       [-1.40978709, -1.1209097 , -1.24791445],\n",
              "       [-0.10405546, -0.05307336, -0.82523759],\n",
              "       [ 0.76876797,  1.20881949,  0.09026195],\n",
              "       [ 0.85019664,  3.360357  ,  1.07980831]])"
            ]
          },
          "metadata": {
            "tags": []
          },
          "execution_count": 411
        }
      ]
    },
    {
      "cell_type": "markdown",
      "metadata": {
        "id": "fv1h4PEFEEKg",
        "colab_type": "text"
      },
      "source": [
        "### 브로드캐스트\n",
        "array가 같은 크기를 가져야 서로 연산이 가능하다고 했지만,\n",
        "\n",
        "numpy에서는 브로드캐스트라는 기능을 제공한다.\n",
        "\n",
        "브로드캐스트란, 서로 크기가 다른 array가 연산이 가능하게끔 하는 것이다.\n",
        "\n",
        "\n",
        "\n",
        "출처: https://doorbw.tistory.com/171 [Tigercow.Door]"
      ]
    },
    {
      "cell_type": "code",
      "metadata": {
        "id": "xeVgLy97EEKi",
        "colab_type": "code",
        "colab": {
          "base_uri": "https://localhost:8080/",
          "height": 69
        },
        "outputId": "a03bc315-0228-49b5-a0f9-20903a8da8b8"
      },
      "source": [
        "arr1 = np.array([[1,2,3],[4,5,6]])\n",
        "arr3 = np.array([10,11,12])\n",
        "print(arr1.shape, arr3.shape)\n",
        "arr1, arr3"
      ],
      "execution_count": 38,
      "outputs": [
        {
          "output_type": "stream",
          "text": [
            "(2, 3) (3,)\n"
          ],
          "name": "stdout"
        },
        {
          "output_type": "execute_result",
          "data": {
            "text/plain": [
              "(array([[1, 2, 3],\n",
              "        [4, 5, 6]]), array([10, 11, 12]))"
            ]
          },
          "metadata": {
            "tags": []
          },
          "execution_count": 38
        }
      ]
    },
    {
      "cell_type": "code",
      "metadata": {
        "id": "8oQyZtowEEKk",
        "colab_type": "code",
        "colab": {
          "base_uri": "https://localhost:8080/",
          "height": 52
        },
        "outputId": "27d89224-61a5-46fe-ef05-f1c0034ec445"
      },
      "source": [
        "arr1 + arr3"
      ],
      "execution_count": 39,
      "outputs": [
        {
          "output_type": "execute_result",
          "data": {
            "text/plain": [
              "array([[11, 13, 15],\n",
              "       [14, 16, 18]])"
            ]
          },
          "metadata": {
            "tags": []
          },
          "execution_count": 39
        }
      ]
    },
    {
      "cell_type": "code",
      "metadata": {
        "id": "GIekiwjJEEKl",
        "colab_type": "code",
        "colab": {
          "base_uri": "https://localhost:8080/",
          "height": 52
        },
        "outputId": "48e11884-b904-468b-9ce5-3f648854c165"
      },
      "source": [
        "arr1 * arr3"
      ],
      "execution_count": 40,
      "outputs": [
        {
          "output_type": "execute_result",
          "data": {
            "text/plain": [
              "array([[10, 22, 36],\n",
              "       [40, 55, 72]])"
            ]
          },
          "metadata": {
            "tags": []
          },
          "execution_count": 40
        }
      ]
    },
    {
      "cell_type": "markdown",
      "metadata": {
        "id": "1_JbW9MnEEKo",
        "colab_type": "text"
      },
      "source": [
        "스칼라 연산 브로드캐스팅도 가능"
      ]
    },
    {
      "cell_type": "code",
      "metadata": {
        "id": "u3tLO6fhEEKo",
        "colab_type": "code",
        "colab": {},
        "outputId": "5d4e3c05-dfc6-4b49-e773-43a24d9ffc5c"
      },
      "source": [
        "arr1 * 10"
      ],
      "execution_count": null,
      "outputs": [
        {
          "output_type": "execute_result",
          "data": {
            "text/plain": [
              "array([[10, 20, 30],\n",
              "       [40, 50, 60]])"
            ]
          },
          "metadata": {
            "tags": []
          },
          "execution_count": 415
        }
      ]
    },
    {
      "cell_type": "code",
      "metadata": {
        "id": "rxkmsgZPEEKq",
        "colab_type": "code",
        "colab": {
          "base_uri": "https://localhost:8080/",
          "height": 52
        },
        "outputId": "0b893185-8cb0-4cbc-9232-fa282de940df"
      },
      "source": [
        "# 요소에 대해 제곱처리\n",
        "arr1 ** 2"
      ],
      "execution_count": 41,
      "outputs": [
        {
          "output_type": "execute_result",
          "data": {
            "text/plain": [
              "array([[ 1,  4,  9],\n",
              "       [16, 25, 36]])"
            ]
          },
          "metadata": {
            "tags": []
          },
          "execution_count": 41
        }
      ]
    },
    {
      "cell_type": "markdown",
      "metadata": {
        "id": "0_k8RL8jEEKs",
        "colab_type": "text"
      },
      "source": [
        "브로드캐스팅의 기본 개념을 알았다면 boolean mask로 올라가 응용을 살펴 본다."
      ]
    },
    {
      "cell_type": "code",
      "metadata": {
        "id": "G6TsSh8VEEKs",
        "colab_type": "code",
        "colab": {}
      },
      "source": [
        ""
      ],
      "execution_count": null,
      "outputs": []
    },
    {
      "cell_type": "markdown",
      "metadata": {
        "id": "_KYwbOpBEEKt",
        "colab_type": "text"
      },
      "source": [
        "### np도 python처럼 집합(set)이 있음. \n",
        "* unique(x): 유니크 원소\n",
        "* intersect1d(x, y): 교집합 원소\n",
        "* union1d(x, y): 합집합 원소\n",
        "* in1d(x, y): x의 각 원소가 y와 동일한지 boolean\n",
        "* setdiff1d(x, y): 차집합\n",
        "* setxor1d(x, y): x, y합집합에서 교집합을 뺀 대칭 차집합\n",
        "\n",
        "출처: https://rfriend.tistory.com/355?category=675917"
      ]
    },
    {
      "cell_type": "code",
      "metadata": {
        "id": "DtPT-Z-GEEKt",
        "colab_type": "code",
        "colab": {}
      },
      "source": [
        "x = np.array([1, 2, 3, 1, 2, 4])\n",
        "y = np.array([3, 4, 6, 5])"
      ],
      "execution_count": null,
      "outputs": []
    },
    {
      "cell_type": "code",
      "metadata": {
        "id": "EffrFN15EEKv",
        "colab_type": "code",
        "colab": {},
        "outputId": "1d1cbb7e-ea11-4719-ec60-87ac6a5583e9"
      },
      "source": [
        "np.unique(x)"
      ],
      "execution_count": null,
      "outputs": [
        {
          "output_type": "execute_result",
          "data": {
            "text/plain": [
              "array([1, 2, 3, 4])"
            ]
          },
          "metadata": {
            "tags": []
          },
          "execution_count": 434
        }
      ]
    },
    {
      "cell_type": "code",
      "metadata": {
        "id": "lKhVTCdDEEKx",
        "colab_type": "code",
        "colab": {},
        "outputId": "05cf3917-cc9b-4fd2-e6d0-a530860b8a07"
      },
      "source": [
        "# 교집합\n",
        "np.intersect1d(x, y)"
      ],
      "execution_count": null,
      "outputs": [
        {
          "output_type": "execute_result",
          "data": {
            "text/plain": [
              "array([3, 4])"
            ]
          },
          "metadata": {
            "tags": []
          },
          "execution_count": 435
        }
      ]
    },
    {
      "cell_type": "code",
      "metadata": {
        "id": "TDjHBq0DEEKy",
        "colab_type": "code",
        "colab": {},
        "outputId": "a5c150f5-85f3-4a17-fc2a-b2dc93bde7ab"
      },
      "source": [
        "# 합집합\n",
        "np.union1d(x, y)"
      ],
      "execution_count": null,
      "outputs": [
        {
          "output_type": "execute_result",
          "data": {
            "text/plain": [
              "array([1, 2, 3, 4, 5, 6])"
            ]
          },
          "metadata": {
            "tags": []
          },
          "execution_count": 436
        }
      ]
    },
    {
      "cell_type": "code",
      "metadata": {
        "id": "Lv5IOT-lEEKz",
        "colab_type": "code",
        "colab": {},
        "outputId": "1ad2b785-771d-4eea-80b9-b8e0146cb0cc"
      },
      "source": [
        "# x의 각 원소들을 대상으로 y에도 있는지\n",
        "np.in1d(x, y)"
      ],
      "execution_count": null,
      "outputs": [
        {
          "output_type": "execute_result",
          "data": {
            "text/plain": [
              "array([False, False,  True, False, False,  True])"
            ]
          },
          "metadata": {
            "tags": []
          },
          "execution_count": 437
        }
      ]
    },
    {
      "cell_type": "code",
      "metadata": {
        "id": "bJmAb5XLEEK0",
        "colab_type": "code",
        "colab": {},
        "outputId": "d6060193-a01d-41ce-e76e-944441fa15c4"
      },
      "source": [
        "# 차집합\n",
        "np.setdiff1d(x, y)"
      ],
      "execution_count": null,
      "outputs": [
        {
          "output_type": "execute_result",
          "data": {
            "text/plain": [
              "array([1, 2])"
            ]
          },
          "metadata": {
            "tags": []
          },
          "execution_count": 438
        }
      ]
    },
    {
      "cell_type": "code",
      "metadata": {
        "id": "JInTa9jkEEK3",
        "colab_type": "code",
        "colab": {},
        "outputId": "b121a719-fa45-4954-dfc3-677a1bb2ded1"
      },
      "source": [
        "# 대칭 차집합\n",
        "np.setxor1d(x, y)"
      ],
      "execution_count": null,
      "outputs": [
        {
          "output_type": "execute_result",
          "data": {
            "text/plain": [
              "array([1, 2, 5, 6])"
            ]
          },
          "metadata": {
            "tags": []
          },
          "execution_count": 439
        }
      ]
    },
    {
      "cell_type": "markdown",
      "metadata": {
        "id": "maFbkrKNEEK5",
        "colab_type": "text"
      },
      "source": [
        "### np배열의 데이터 비교 방법\n",
        "* any : 배열의 데이터중 조건과 맞는 데이터 있다면 T\n",
        "* all : 배열의 모든 데이터가 조건에 맞으면 T\n",
        "* where : 조건이 맞을 때의 출력값 지정(if 문과 닮음)\n",
        "* isnan\n",
        "* argmax\n",
        "* argmin\n",
        "\n",
        "출처 : https://nov19.tistory.com/106"
      ]
    },
    {
      "cell_type": "code",
      "metadata": {
        "id": "_QN8C2E3EEK7",
        "colab_type": "code",
        "colab": {
          "base_uri": "https://localhost:8080/",
          "height": 69
        },
        "outputId": "fb068413-e798-4c7a-db51-cc0a46e9f4f3"
      },
      "source": [
        "# 배열이 shape이 (일부라도) 같으면 비교 연산자 가능\n",
        "arr1 = np.array([[1, 2, 3], [4, 5, 6], [7, 8, 9]])\n",
        "arr2 = np.array([[1, 2, 3], [1, 5, 7], [6, 8, 9]])\n",
        "arr1 == arr2"
      ],
      "execution_count": 45,
      "outputs": [
        {
          "output_type": "execute_result",
          "data": {
            "text/plain": [
              "array([[ True,  True,  True],\n",
              "       [False,  True, False],\n",
              "       [False,  True,  True]])"
            ]
          },
          "metadata": {
            "tags": []
          },
          "execution_count": 45
        }
      ]
    },
    {
      "cell_type": "code",
      "metadata": {
        "id": "UxCVE23hEEK9",
        "colab_type": "code",
        "colab": {
          "base_uri": "https://localhost:8080/",
          "height": 69
        },
        "outputId": "6b012798-32c5-47b3-c674-beb8e51424a8"
      },
      "source": [
        "arr3 = np.array([1, 2, 3])\n",
        "arr1 == arr3"
      ],
      "execution_count": 50,
      "outputs": [
        {
          "output_type": "execute_result",
          "data": {
            "text/plain": [
              "array([[ True,  True,  True],\n",
              "       [False, False, False],\n",
              "       [False, False, False]])"
            ]
          },
          "metadata": {
            "tags": []
          },
          "execution_count": 50
        }
      ]
    },
    {
      "cell_type": "code",
      "metadata": {
        "id": "A7tYIpgD7zH3",
        "colab_type": "code",
        "colab": {
          "base_uri": "https://localhost:8080/",
          "height": 69
        },
        "outputId": "677f5c34-b7b4-4c9d-8c56-0001213e6fb5"
      },
      "source": [
        "arr1 == np.array([[1], [2], [3]])"
      ],
      "execution_count": 51,
      "outputs": [
        {
          "output_type": "execute_result",
          "data": {
            "text/plain": [
              "array([[ True, False, False],\n",
              "       [False, False, False],\n",
              "       [False, False, False]])"
            ]
          },
          "metadata": {
            "tags": []
          },
          "execution_count": 51
        }
      ]
    },
    {
      "cell_type": "code",
      "metadata": {
        "id": "MElVx883EEK-",
        "colab_type": "code",
        "colab": {},
        "outputId": "0822bb5c-6d26-459a-9d92-1656d8332282"
      },
      "source": [
        "# 응용 \n",
        "(arr1 < arr2).any(), (arr1 > arr2).all()"
      ],
      "execution_count": null,
      "outputs": [
        {
          "output_type": "execute_result",
          "data": {
            "text/plain": [
              "(True, False)"
            ]
          },
          "metadata": {
            "tags": []
          },
          "execution_count": 479
        }
      ]
    },
    {
      "cell_type": "code",
      "metadata": {
        "id": "zidYrzYYEEK_",
        "colab_type": "code",
        "colab": {},
        "outputId": "bcd86e95-5d7d-4109-ccbe-b8d5dab59a8d"
      },
      "source": [
        "# 3차원에 한번 더 응용\n",
        "arr_random = np.random.randint(255, size=(3, 3, 3))\n",
        "arr_random"
      ],
      "execution_count": null,
      "outputs": [
        {
          "output_type": "execute_result",
          "data": {
            "text/plain": [
              "array([[[137, 137, 150],\n",
              "        [ 32, 235, 215],\n",
              "        [ 57, 174,   9]],\n",
              "\n",
              "       [[129, 213,  67],\n",
              "        [194, 202,  61],\n",
              "        [188, 174, 107]],\n",
              "\n",
              "       [[ 92,  13,  18],\n",
              "        [208,  16, 211],\n",
              "        [159,  84, 219]]])"
            ]
          },
          "metadata": {
            "tags": []
          },
          "execution_count": 480
        }
      ]
    },
    {
      "cell_type": "code",
      "metadata": {
        "id": "N2WRFL9tEELC",
        "colab_type": "code",
        "colab": {},
        "outputId": "492b67c2-92f0-47fe-f365-0216f2b8aa7a"
      },
      "source": [
        "# 마지막 차원은 지정을 생략해도 된다.\n",
        "arr_random[0:2, 0:2], arr_random[0:2, 0:2, :]"
      ],
      "execution_count": null,
      "outputs": [
        {
          "output_type": "execute_result",
          "data": {
            "text/plain": [
              "(array([[[137, 137, 150],\n",
              "         [ 32, 235, 215]],\n",
              " \n",
              "        [[129, 213,  67],\n",
              "         [194, 202,  61]]]),\n",
              " array([[[137, 137, 150],\n",
              "         [ 32, 235, 215]],\n",
              " \n",
              "        [[129, 213,  67],\n",
              "         [194, 202,  61]]]))"
            ]
          },
          "metadata": {
            "tags": []
          },
          "execution_count": 482
        }
      ]
    },
    {
      "cell_type": "code",
      "metadata": {
        "id": "kCS9KJvHEELD",
        "colab_type": "code",
        "colab": {}
      },
      "source": [
        ""
      ],
      "execution_count": null,
      "outputs": []
    },
    {
      "cell_type": "markdown",
      "metadata": {
        "id": "R4jVMnPwEELF",
        "colab_type": "text"
      },
      "source": [
        "#### any : element가 하나라도 조건 맞으면 T"
      ]
    },
    {
      "cell_type": "code",
      "metadata": {
        "id": "m2qgDFbmEELF",
        "colab_type": "code",
        "colab": {
          "base_uri": "https://localhost:8080/",
          "height": 69
        },
        "outputId": "34b58761-6e64-4035-82b2-484435d2a1af"
      },
      "source": [
        "arr = np.array([[1, 2, 3], [4, 5, 6], [7, 8, 9]])\n",
        "arr"
      ],
      "execution_count": 52,
      "outputs": [
        {
          "output_type": "execute_result",
          "data": {
            "text/plain": [
              "array([[1, 2, 3],\n",
              "       [4, 5, 6],\n",
              "       [7, 8, 9]])"
            ]
          },
          "metadata": {
            "tags": []
          },
          "execution_count": 52
        }
      ]
    },
    {
      "cell_type": "code",
      "metadata": {
        "id": "aTtRXA6cEELG",
        "colab_type": "code",
        "colab": {
          "base_uri": "https://localhost:8080/",
          "height": 35
        },
        "outputId": "a046d8b0-53a2-41d6-ee38-5d030eede36f"
      },
      "source": [
        "np.any(arr > 5)"
      ],
      "execution_count": 53,
      "outputs": [
        {
          "output_type": "execute_result",
          "data": {
            "text/plain": [
              "True"
            ]
          },
          "metadata": {
            "tags": []
          },
          "execution_count": 53
        }
      ]
    },
    {
      "cell_type": "code",
      "metadata": {
        "id": "j7FJOS7SEELJ",
        "colab_type": "code",
        "colab": {}
      },
      "source": [
        ""
      ],
      "execution_count": 53,
      "outputs": []
    },
    {
      "cell_type": "code",
      "metadata": {
        "id": "BIPtAeh0EELK",
        "colab_type": "code",
        "colab": {
          "base_uri": "https://localhost:8080/",
          "height": 35
        },
        "outputId": "599ef0ca-3a07-4206-d3d6-15e3eb752776"
      },
      "source": [
        "# 축을 설정 : 0이라면?\n",
        "np.any(arr> 5, axis=0)"
      ],
      "execution_count": 54,
      "outputs": [
        {
          "output_type": "execute_result",
          "data": {
            "text/plain": [
              "array([ True,  True,  True])"
            ]
          },
          "metadata": {
            "tags": []
          },
          "execution_count": 54
        }
      ]
    },
    {
      "cell_type": "code",
      "metadata": {
        "id": "GbgPERXzEELL",
        "colab_type": "code",
        "colab": {
          "base_uri": "https://localhost:8080/",
          "height": 35
        },
        "outputId": "c90c10b3-9e20-4c79-b3fe-863f6160d809"
      },
      "source": [
        "# 축을 설정 : 1이라면?\n",
        "np.any(arr>5, axis=1)"
      ],
      "execution_count": 55,
      "outputs": [
        {
          "output_type": "execute_result",
          "data": {
            "text/plain": [
              "array([False,  True,  True])"
            ]
          },
          "metadata": {
            "tags": []
          },
          "execution_count": 55
        }
      ]
    },
    {
      "cell_type": "markdown",
      "metadata": {
        "id": "Tej23IjREELM",
        "colab_type": "text"
      },
      "source": [
        "즉, 열로 검사해서 하나의 열이라도 True면 T"
      ]
    },
    {
      "cell_type": "code",
      "metadata": {
        "id": "U3R_yy7PEELN",
        "colab_type": "code",
        "colab": {}
      },
      "source": [
        ""
      ],
      "execution_count": null,
      "outputs": []
    },
    {
      "cell_type": "markdown",
      "metadata": {
        "id": "-qmGVIJ0EELQ",
        "colab_type": "text"
      },
      "source": [
        "#### all : 모든 데이터가 조건과 맞아야 T"
      ]
    },
    {
      "cell_type": "code",
      "metadata": {
        "id": "zQztVCUOEELQ",
        "colab_type": "code",
        "colab": {
          "base_uri": "https://localhost:8080/",
          "height": 35
        },
        "outputId": "1ac85d48-7cd7-4551-9f5b-6befc216be6a"
      },
      "source": [
        "np.all(arr > 5)"
      ],
      "execution_count": 56,
      "outputs": [
        {
          "output_type": "execute_result",
          "data": {
            "text/plain": [
              "False"
            ]
          },
          "metadata": {
            "tags": []
          },
          "execution_count": 56
        }
      ]
    },
    {
      "cell_type": "code",
      "metadata": {
        "id": "AukHPzBzEELT",
        "colab_type": "code",
        "colab": {
          "base_uri": "https://localhost:8080/",
          "height": 35
        },
        "outputId": "2d4d93f2-865a-4f2f-c3f3-f2681ce20269"
      },
      "source": [
        "np.all(arr>5, axis=0)"
      ],
      "execution_count": 57,
      "outputs": [
        {
          "output_type": "execute_result",
          "data": {
            "text/plain": [
              "array([False, False, False])"
            ]
          },
          "metadata": {
            "tags": []
          },
          "execution_count": 57
        }
      ]
    },
    {
      "cell_type": "markdown",
      "metadata": {
        "id": "uQWnxspEEELV",
        "colab_type": "text"
      },
      "source": [
        "Quiz : array구성이 아래와 같다면  결과는?\n",
        "[[6 6 6][4 4 4][8 8 8]]"
      ]
    },
    {
      "cell_type": "code",
      "metadata": {
        "id": "nePt8fpOEELW",
        "colab_type": "code",
        "colab": {
          "base_uri": "https://localhost:8080/",
          "height": 35
        },
        "outputId": "0d37c2f6-5d12-4ea4-ea85-6b3913b3f801"
      },
      "source": [
        "arr_tmp = np.array([[6, 6, 6], [4, 4, 4], [8, 8, 8]])\n",
        "np.all(arr>5, axis=0)"
      ],
      "execution_count": 58,
      "outputs": [
        {
          "output_type": "execute_result",
          "data": {
            "text/plain": [
              "array([False, False, False])"
            ]
          },
          "metadata": {
            "tags": []
          },
          "execution_count": 58
        }
      ]
    },
    {
      "cell_type": "code",
      "metadata": {
        "id": "QoF3U59oEELX",
        "colab_type": "code",
        "colab": {
          "base_uri": "https://localhost:8080/",
          "height": 35
        },
        "outputId": "e3061708-088e-499d-e6d8-4ca0ef02c6f7"
      },
      "source": [
        "np.all(arr>5, axis=1)"
      ],
      "execution_count": 59,
      "outputs": [
        {
          "output_type": "execute_result",
          "data": {
            "text/plain": [
              "array([False, False,  True])"
            ]
          },
          "metadata": {
            "tags": []
          },
          "execution_count": 59
        }
      ]
    },
    {
      "cell_type": "code",
      "metadata": {
        "id": "vccoxfK1EELY",
        "colab_type": "code",
        "colab": {
          "base_uri": "https://localhost:8080/",
          "height": 207
        },
        "outputId": "a2d22418-38d9-40ac-8852-f2a4a18a77eb"
      },
      "source": [
        "# 3차원 이미지 예제에 응용\n",
        "arr_random = np.random.randint(255, size=(3, 3, 3))\n",
        "arr_random"
      ],
      "execution_count": 60,
      "outputs": [
        {
          "output_type": "execute_result",
          "data": {
            "text/plain": [
              "array([[[136, 227, 233],\n",
              "        [201, 216, 116],\n",
              "        [208,   9,   9]],\n",
              "\n",
              "       [[190, 140,  62],\n",
              "        [ 65, 107, 104],\n",
              "        [100, 134, 199]],\n",
              "\n",
              "       [[217,  32,  26],\n",
              "        [208,  88, 132],\n",
              "        [208,  45, 120]]])"
            ]
          },
          "metadata": {
            "tags": []
          },
          "execution_count": 60
        }
      ]
    },
    {
      "cell_type": "code",
      "metadata": {
        "id": "WYqj9oZdEELa",
        "colab_type": "code",
        "colab": {
          "base_uri": "https://localhost:8080/",
          "height": 69
        },
        "outputId": "774df98b-6ceb-49d5-c50b-cd78e03ac9b0"
      },
      "source": [
        "np.all(arr_random > 50, axis=-1)"
      ],
      "execution_count": 61,
      "outputs": [
        {
          "output_type": "execute_result",
          "data": {
            "text/plain": [
              "array([[ True,  True, False],\n",
              "       [ True,  True,  True],\n",
              "       [False,  True, False]])"
            ]
          },
          "metadata": {
            "tags": []
          },
          "execution_count": 61
        }
      ]
    },
    {
      "cell_type": "markdown",
      "metadata": {
        "id": "gnHiuHJ59xep",
        "colab_type": "text"
      },
      "source": [
        "위에 코드를 이미지와 연결시켜 보면 컬러이미지대상으로 np.all, axis=-1을 준다면, 픽셀 단위로 계산한다는 것이다."
      ]
    },
    {
      "cell_type": "code",
      "metadata": {
        "id": "DgX7P1IUEELc",
        "colab_type": "code",
        "colab": {
          "base_uri": "https://localhost:8080/",
          "height": 69
        },
        "outputId": "3104e06f-d159-4b05-a8ee-0ac8b67ca544"
      },
      "source": [
        "# 응용 : scalar아닌 벡터 비교\n",
        "np.all(arr_random > [20, 40, 80], axis=-1)"
      ],
      "execution_count": 64,
      "outputs": [
        {
          "output_type": "execute_result",
          "data": {
            "text/plain": [
              "array([[ True,  True, False],\n",
              "       [False,  True,  True],\n",
              "       [False,  True,  True]])"
            ]
          },
          "metadata": {
            "tags": []
          },
          "execution_count": 64
        }
      ]
    },
    {
      "cell_type": "code",
      "metadata": {
        "id": "szRMx3c8_G3B",
        "colab_type": "code",
        "colab": {
          "base_uri": "https://localhost:8080/",
          "height": 207
        },
        "outputId": "b57aa69a-23f8-488b-993c-a903b4b206b6"
      },
      "source": [
        "arr_random > [20, 40, 80]"
      ],
      "execution_count": 63,
      "outputs": [
        {
          "output_type": "execute_result",
          "data": {
            "text/plain": [
              "array([[[ True,  True,  True],\n",
              "        [ True,  True,  True],\n",
              "        [ True, False, False]],\n",
              "\n",
              "       [[ True,  True, False],\n",
              "        [ True,  True,  True],\n",
              "        [ True,  True,  True]],\n",
              "\n",
              "       [[ True, False, False],\n",
              "        [ True,  True,  True],\n",
              "        [ True,  True,  True]]])"
            ]
          },
          "metadata": {
            "tags": []
          },
          "execution_count": 63
        }
      ]
    },
    {
      "cell_type": "markdown",
      "metadata": {
        "id": "hOzm8Q6x_cUj",
        "colab_type": "text"
      },
      "source": [
        "위에 코드는 이미지 경계 분활시, RGB 채널별로 threshold를 부여했을때 적용시킬 수 있다.\n",
        "\n",
        "즉, R>20 and G>40 and B>80일 때 해당 픽셀을 살리겠다는 의미."
      ]
    },
    {
      "cell_type": "code",
      "metadata": {
        "id": "vlPnHNdPEELb",
        "colab_type": "code",
        "colab": {
          "base_uri": "https://localhost:8080/",
          "height": 69
        },
        "outputId": "82c0152b-af3e-4234-863b-6113a967843e"
      },
      "source": [
        "np.all(arr_random > 50, axis=0)"
      ],
      "execution_count": 62,
      "outputs": [
        {
          "output_type": "execute_result",
          "data": {
            "text/plain": [
              "array([[ True, False, False],\n",
              "       [ True,  True,  True],\n",
              "       [ True, False, False]])"
            ]
          },
          "metadata": {
            "tags": []
          },
          "execution_count": 62
        }
      ]
    },
    {
      "cell_type": "markdown",
      "metadata": {
        "id": "Uob6bySk-2Hs",
        "colab_type": "text"
      },
      "source": [
        "위의 코드를 이미지와 연결시키면 열단위로 계산한다는 것이다."
      ]
    },
    {
      "cell_type": "code",
      "metadata": {
        "id": "-G8kjJcXEELe",
        "colab_type": "code",
        "colab": {},
        "outputId": "f2d6be21-aea9-4555-c9c0-21b688033796"
      },
      "source": [
        "arr_random > [20, 40, 80]"
      ],
      "execution_count": null,
      "outputs": [
        {
          "output_type": "execute_result",
          "data": {
            "text/plain": [
              "array([[[ True, False, False],\n",
              "        [ True,  True,  True],\n",
              "        [ True,  True, False]],\n",
              "\n",
              "       [[ True,  True, False],\n",
              "        [ True, False, False],\n",
              "        [ True,  True,  True]],\n",
              "\n",
              "       [[ True,  True,  True],\n",
              "        [False,  True,  True],\n",
              "        [ True,  True,  True]]])"
            ]
          },
          "metadata": {
            "tags": []
          },
          "execution_count": 459
        }
      ]
    },
    {
      "cell_type": "code",
      "metadata": {
        "id": "fJf4y3xtEELf",
        "colab_type": "code",
        "colab": {
          "base_uri": "https://localhost:8080/",
          "height": 138
        },
        "outputId": "8e19e673-3c8d-49f9-905a-1cc73d92a224"
      },
      "source": [
        "# 참고. 헷갈리면 패스(조건문과 indexing은 다른 개념)\n",
        "arr_random[np.array([True, True, False])]"
      ],
      "execution_count": 65,
      "outputs": [
        {
          "output_type": "execute_result",
          "data": {
            "text/plain": [
              "array([[[136, 227, 233],\n",
              "        [201, 216, 116],\n",
              "        [208,   9,   9]],\n",
              "\n",
              "       [[190, 140,  62],\n",
              "        [ 65, 107, 104],\n",
              "        [100, 134, 199]]])"
            ]
          },
          "metadata": {
            "tags": []
          },
          "execution_count": 65
        }
      ]
    },
    {
      "cell_type": "code",
      "metadata": {
        "id": "kTmUz54y3cEb",
        "colab_type": "code",
        "colab": {
          "base_uri": "https://localhost:8080/",
          "height": 121
        },
        "outputId": "f1d545cd-5910-4ce5-c914-9b1a0f5b0f76"
      },
      "source": [
        "# 참고2. 헷갈리면 패스\n",
        "arr_random[np.array([[True, True, False], [True, True, False], [True, True, False]])]"
      ],
      "execution_count": 66,
      "outputs": [
        {
          "output_type": "execute_result",
          "data": {
            "text/plain": [
              "array([[136, 227, 233],\n",
              "       [201, 216, 116],\n",
              "       [190, 140,  62],\n",
              "       [ 65, 107, 104],\n",
              "       [217,  32,  26],\n",
              "       [208,  88, 132]])"
            ]
          },
          "metadata": {
            "tags": []
          },
          "execution_count": 66
        }
      ]
    },
    {
      "cell_type": "code",
      "metadata": {
        "id": "srsUMJfREELh",
        "colab_type": "code",
        "colab": {
          "base_uri": "https://localhost:8080/",
          "height": 69
        },
        "outputId": "63e2aea2-bb18-4d1d-ab9c-24d1e5f04727"
      },
      "source": [
        "# ravel : flatten, 1차원 배열로 바꿈\n",
        "arr_flatten = arr_random.ravel()\n",
        "arr_flatten\n"
      ],
      "execution_count": 68,
      "outputs": [
        {
          "output_type": "execute_result",
          "data": {
            "text/plain": [
              "array([136, 227, 233, 201, 216, 116, 208,   9,   9, 190, 140,  62,  65,\n",
              "       107, 104, 100, 134, 199, 217,  32,  26, 208,  88, 132, 208,  45,\n",
              "       120])"
            ]
          },
          "metadata": {
            "tags": []
          },
          "execution_count": 68
        }
      ]
    },
    {
      "cell_type": "code",
      "metadata": {
        "id": "Ux9mxyf9EELj",
        "colab_type": "code",
        "colab": {
          "base_uri": "https://localhost:8080/",
          "height": 35
        },
        "outputId": "149252a0-863b-46ca-c23e-9b074f9ff466"
      },
      "source": [
        "np.all(arr_flatten > 50, axis=0)"
      ],
      "execution_count": 69,
      "outputs": [
        {
          "output_type": "execute_result",
          "data": {
            "text/plain": [
              "False"
            ]
          },
          "metadata": {
            "tags": []
          },
          "execution_count": 69
        }
      ]
    },
    {
      "cell_type": "code",
      "metadata": {
        "id": "0DPix2f0EELp",
        "colab_type": "code",
        "colab": {
          "base_uri": "https://localhost:8080/",
          "height": 69
        },
        "outputId": "48e484b1-0cf3-4eac-f037-8bbfab6a5eba"
      },
      "source": [
        "np.all([arr_flatten>50, arr_flatten<100], axis=0)"
      ],
      "execution_count": 70,
      "outputs": [
        {
          "output_type": "execute_result",
          "data": {
            "text/plain": [
              "array([False, False, False, False, False, False, False, False, False,\n",
              "       False, False,  True,  True, False, False, False, False, False,\n",
              "       False, False, False, False,  True, False, False, False, False])"
            ]
          },
          "metadata": {
            "tags": []
          },
          "execution_count": 70
        }
      ]
    },
    {
      "cell_type": "code",
      "metadata": {
        "id": "JWWDB8b6EELq",
        "colab_type": "code",
        "colab": {
          "base_uri": "https://localhost:8080/",
          "height": 121
        },
        "outputId": "e45596cc-fd18-4f85-aea4-6d62ddb77c3b"
      },
      "source": [
        "[arr_flatten > 50, arr_flatten < 100]"
      ],
      "execution_count": 71,
      "outputs": [
        {
          "output_type": "execute_result",
          "data": {
            "text/plain": [
              "[array([ True,  True,  True,  True,  True,  True,  True, False, False,\n",
              "         True,  True,  True,  True,  True,  True,  True,  True,  True,\n",
              "         True, False, False,  True,  True,  True,  True, False,  True]),\n",
              " array([False, False, False, False, False, False, False,  True,  True,\n",
              "        False, False,  True,  True, False, False, False, False, False,\n",
              "        False,  True,  True, False,  True, False, False,  True, False])]"
            ]
          },
          "metadata": {
            "tags": []
          },
          "execution_count": 71
        }
      ]
    },
    {
      "cell_type": "code",
      "metadata": {
        "id": "StQ-c_6SEELs",
        "colab_type": "code",
        "colab": {}
      },
      "source": [
        ""
      ],
      "execution_count": 71,
      "outputs": []
    },
    {
      "cell_type": "code",
      "metadata": {
        "id": "-IywgbupEELu",
        "colab_type": "code",
        "colab": {}
      },
      "source": [
        ""
      ],
      "execution_count": null,
      "outputs": []
    },
    {
      "cell_type": "markdown",
      "metadata": {
        "id": "FnpuvY_HEELz",
        "colab_type": "text"
      },
      "source": [
        "### where : if와 같이 True일때 출력을 지정가능\n",
        "조건만 쓰면 조건에 맞는 인덱스 반황"
      ]
    },
    {
      "cell_type": "code",
      "metadata": {
        "id": "dXYW3NMIEELz",
        "colab_type": "code",
        "colab": {
          "base_uri": "https://localhost:8080/",
          "height": 69
        },
        "outputId": "370d12b5-3e0d-48ee-d681-4f0e2c49b0c9"
      },
      "source": [
        "arr = np.array([[1, 2, 3],\n",
        "                [4, 5, 6],\n",
        "                [7, 8, 9]])\n",
        "np.where(arr > 4, arr, 0)"
      ],
      "execution_count": 72,
      "outputs": [
        {
          "output_type": "execute_result",
          "data": {
            "text/plain": [
              "array([[0, 0, 0],\n",
              "       [0, 5, 6],\n",
              "       [7, 8, 9]])"
            ]
          },
          "metadata": {
            "tags": []
          },
          "execution_count": 72
        }
      ]
    },
    {
      "cell_type": "code",
      "metadata": {
        "id": "cLYm13gBEEL0",
        "colab_type": "code",
        "colab": {
          "base_uri": "https://localhost:8080/",
          "height": 35
        },
        "outputId": "7fa943ab-5294-46b1-bf19-3fd48fda9cb9"
      },
      "source": [
        "# 조건만 쓰면 조건에 맞는 데이터의 인덱스 반환\n",
        "np.where(arr > 4)"
      ],
      "execution_count": 73,
      "outputs": [
        {
          "output_type": "execute_result",
          "data": {
            "text/plain": [
              "(array([1, 1, 2, 2, 2]), array([1, 2, 0, 1, 2]))"
            ]
          },
          "metadata": {
            "tags": []
          },
          "execution_count": 73
        }
      ]
    },
    {
      "cell_type": "markdown",
      "metadata": {
        "id": "e8Iwns4mEEL1",
        "colab_type": "text"
      },
      "source": [
        "반환되는 튜플에서 첫번째 요소인 [1, 1, 2, 2, 2]는 행\n",
        "\n",
        "반환되는 튜플에서 두번째 요소인 [1, 2, 0, 1, 2]는 열\n",
        "\n",
        "즉 (1,1), (1,2), (2,0), (2,1), (2,2) 인덱스의 요소가 4보다 큰 데이터임을 나타냄"
      ]
    },
    {
      "cell_type": "code",
      "metadata": {
        "id": "4qHUuYR8EEL1",
        "colab_type": "code",
        "colab": {}
      },
      "source": [
        ""
      ],
      "execution_count": null,
      "outputs": []
    },
    {
      "cell_type": "markdown",
      "metadata": {
        "id": "hx_-FmyQEEL2",
        "colab_type": "text"
      },
      "source": [
        "#### argmin, argmax : 최소 혹은 최대 element의 인덱스를 반환\n",
        "축설정에 따른 해석이 조금 달라짐(축이 헷갈리고 어려우나 차근차근히)"
      ]
    },
    {
      "cell_type": "code",
      "metadata": {
        "id": "5PFpiJIKEEL3",
        "colab_type": "code",
        "colab": {
          "base_uri": "https://localhost:8080/",
          "height": 35
        },
        "outputId": "0afd0ad7-79cb-460e-fb36-1d7ef6602879"
      },
      "source": [
        "# 이차원 행렬에서,\n",
        "arr = np.array([[10, 2, 3],\n",
        "                [4, 50, 6]])\n",
        "np.argmax(arr)"
      ],
      "execution_count": 74,
      "outputs": [
        {
          "output_type": "execute_result",
          "data": {
            "text/plain": [
              "4"
            ]
          },
          "metadata": {
            "tags": []
          },
          "execution_count": 74
        }
      ]
    },
    {
      "cell_type": "markdown",
      "metadata": {
        "id": "3jJAMrcXEEL3",
        "colab_type": "text"
      },
      "source": [
        "1차원 배열로 생각한 인덱스를 반환한다."
      ]
    },
    {
      "cell_type": "code",
      "metadata": {
        "id": "AvdzIGroEEL4",
        "colab_type": "code",
        "colab": {
          "base_uri": "https://localhost:8080/",
          "height": 35
        },
        "outputId": "bdc79715-8299-4b07-bc46-3c4bdd1c797d"
      },
      "source": [
        "# 축설정도 가능\n",
        "np.argmax(arr, axis=1)"
      ],
      "execution_count": 75,
      "outputs": [
        {
          "output_type": "execute_result",
          "data": {
            "text/plain": [
              "array([0, 1])"
            ]
          },
          "metadata": {
            "tags": []
          },
          "execution_count": 75
        }
      ]
    },
    {
      "cell_type": "code",
      "metadata": {
        "id": "BRWz_o_SEEL5",
        "colab_type": "code",
        "colab": {
          "base_uri": "https://localhost:8080/",
          "height": 35
        },
        "outputId": "f4717085-c5f6-490b-ea07-6389154755c7"
      },
      "source": [
        "np.argmax(arr, axis=0)"
      ],
      "execution_count": 76,
      "outputs": [
        {
          "output_type": "execute_result",
          "data": {
            "text/plain": [
              "array([0, 1, 1])"
            ]
          },
          "metadata": {
            "tags": []
          },
          "execution_count": 76
        }
      ]
    },
    {
      "cell_type": "code",
      "metadata": {
        "id": "EnTAYR32EEL6",
        "colab_type": "code",
        "colab": {
          "base_uri": "https://localhost:8080/",
          "height": 35
        },
        "outputId": "71784249-b87f-4c4b-93a4-25f28472c64d"
      },
      "source": [
        "np.argmax(arr, axis=-1)"
      ],
      "execution_count": 77,
      "outputs": [
        {
          "output_type": "execute_result",
          "data": {
            "text/plain": [
              "array([0, 1])"
            ]
          },
          "metadata": {
            "tags": []
          },
          "execution_count": 77
        }
      ]
    },
    {
      "cell_type": "code",
      "metadata": {
        "id": "Zm5hTnv2EEL7",
        "colab_type": "code",
        "colab": {
          "base_uri": "https://localhost:8080/",
          "height": 225
        },
        "outputId": "1439428e-de77-40d9-cf7a-6749459729b7"
      },
      "source": [
        "# 3차원 행렬에서 응용.\n",
        "arr_tmp = np.random.randn((27)).reshape(3, 3, 3)\n",
        "print(arr_tmp.shape)\n",
        "arr_tmp"
      ],
      "execution_count": 78,
      "outputs": [
        {
          "output_type": "stream",
          "text": [
            "(3, 3, 3)\n"
          ],
          "name": "stdout"
        },
        {
          "output_type": "execute_result",
          "data": {
            "text/plain": [
              "array([[[ 0.48883466, -0.40700689, -0.3958928 ],\n",
              "        [-0.11272295, -0.27780204,  1.53966843],\n",
              "        [-0.66874477,  1.27045205,  0.99879847]],\n",
              "\n",
              "       [[ 0.51909257, -0.9467211 ,  1.53939418],\n",
              "        [-0.05006985,  1.53529567,  1.23615418],\n",
              "        [-0.19915318,  0.80936634, -2.50178969]],\n",
              "\n",
              "       [[ 0.7443133 ,  1.39013042, -1.00379952],\n",
              "        [-1.67698792,  1.11509197,  0.01641627],\n",
              "        [-0.81820057,  0.28851343, -1.10496663]]])"
            ]
          },
          "metadata": {
            "tags": []
          },
          "execution_count": 78
        }
      ]
    },
    {
      "cell_type": "code",
      "metadata": {
        "id": "4Z2s1gzHEEL9",
        "colab_type": "code",
        "colab": {
          "base_uri": "https://localhost:8080/",
          "height": 69
        },
        "outputId": "07bcc23c-6123-41ba-f1b6-5bd2a603a235"
      },
      "source": [
        "np.argmax(arr_tmp, axis=-1)"
      ],
      "execution_count": 79,
      "outputs": [
        {
          "output_type": "execute_result",
          "data": {
            "text/plain": [
              "array([[0, 2, 1],\n",
              "       [2, 1, 1],\n",
              "       [1, 1, 1]])"
            ]
          },
          "metadata": {
            "tags": []
          },
          "execution_count": 79
        }
      ]
    },
    {
      "cell_type": "code",
      "metadata": {
        "id": "e8T4EkdYEEL-",
        "colab_type": "code",
        "colab": {
          "base_uri": "https://localhost:8080/",
          "height": 69
        },
        "outputId": "2279a68c-a37d-49bd-9094-7191d7b9b98a"
      },
      "source": [
        "np.argmax(arr_tmp, axis=1)"
      ],
      "execution_count": 80,
      "outputs": [
        {
          "output_type": "execute_result",
          "data": {
            "text/plain": [
              "array([[0, 2, 1],\n",
              "       [0, 1, 0],\n",
              "       [0, 0, 1]])"
            ]
          },
          "metadata": {
            "tags": []
          },
          "execution_count": 80
        }
      ]
    },
    {
      "cell_type": "code",
      "metadata": {
        "scrolled": true,
        "id": "pX8Q8gkmEEL_",
        "colab_type": "code",
        "colab": {
          "base_uri": "https://localhost:8080/",
          "height": 69
        },
        "outputId": "d6bfad3c-bf07-45ca-cd02-5d44e12b86cc"
      },
      "source": [
        "np.argmax(arr_tmp, axis=0)"
      ],
      "execution_count": 81,
      "outputs": [
        {
          "output_type": "execute_result",
          "data": {
            "text/plain": [
              "array([[2, 2, 1],\n",
              "       [1, 1, 0],\n",
              "       [1, 0, 0]])"
            ]
          },
          "metadata": {
            "tags": []
          },
          "execution_count": 81
        }
      ]
    },
    {
      "cell_type": "code",
      "metadata": {
        "id": "t-It3ZsREEMA",
        "colab_type": "code",
        "colab": {}
      },
      "source": [
        ""
      ],
      "execution_count": 81,
      "outputs": []
    },
    {
      "cell_type": "markdown",
      "metadata": {
        "id": "jWWK4j3UEEMB",
        "colab_type": "text"
      },
      "source": [
        "### '...'  은 np array 모든 차원을 인덱싱 하는 것이다."
      ]
    },
    {
      "cell_type": "code",
      "metadata": {
        "id": "EJ048n_YEEMB",
        "colab_type": "code",
        "colab": {
          "base_uri": "https://localhost:8080/",
          "height": 104
        },
        "outputId": "833f3126-6d5b-4a1c-bae8-959891c3ff60"
      },
      "source": [
        "arr_random = np.random.randint(255, size=(5, 5))\n",
        "arr_random"
      ],
      "execution_count": 82,
      "outputs": [
        {
          "output_type": "execute_result",
          "data": {
            "text/plain": [
              "array([[167,   4,  69, 192, 211],\n",
              "       [ 18,  57, 125,  38,  43],\n",
              "       [131, 209, 104, 165, 230],\n",
              "       [220,  91, 123,  35,  79],\n",
              "       [ 81, 226, 117, 135, 238]])"
            ]
          },
          "metadata": {
            "tags": []
          },
          "execution_count": 82
        }
      ]
    },
    {
      "cell_type": "code",
      "metadata": {
        "id": "DnG2szjOEEMC",
        "colab_type": "code",
        "colab": {
          "base_uri": "https://localhost:8080/",
          "height": 104
        },
        "outputId": "922d8529-a903-4b8a-8767-55a567ac022b"
      },
      "source": [
        "arr_random[...]"
      ],
      "execution_count": 83,
      "outputs": [
        {
          "output_type": "execute_result",
          "data": {
            "text/plain": [
              "array([[167,   4,  69, 192, 211],\n",
              "       [ 18,  57, 125,  38,  43],\n",
              "       [131, 209, 104, 165, 230],\n",
              "       [220,  91, 123,  35,  79],\n",
              "       [ 81, 226, 117, 135, 238]])"
            ]
          },
          "metadata": {
            "tags": []
          },
          "execution_count": 83
        }
      ]
    },
    {
      "cell_type": "code",
      "metadata": {
        "id": "8CU9meuGEEME",
        "colab_type": "code",
        "colab": {
          "base_uri": "https://localhost:8080/",
          "height": 104
        },
        "outputId": "985b7d9f-09ed-4f63-fad4-c37217cce430"
      },
      "source": [
        "arr_random[:, :]"
      ],
      "execution_count": 84,
      "outputs": [
        {
          "output_type": "execute_result",
          "data": {
            "text/plain": [
              "array([[167,   4,  69, 192, 211],\n",
              "       [ 18,  57, 125,  38,  43],\n",
              "       [131, 209, 104, 165, 230],\n",
              "       [220,  91, 123,  35,  79],\n",
              "       [ 81, 226, 117, 135, 238]])"
            ]
          },
          "metadata": {
            "tags": []
          },
          "execution_count": 84
        }
      ]
    },
    {
      "cell_type": "code",
      "metadata": {
        "scrolled": true,
        "id": "Cn-FaClSEEMX",
        "colab_type": "code",
        "colab": {},
        "outputId": "f4d05623-a3d3-4648-f3e7-ac740c90c367"
      },
      "source": [
        "arr_random = np.random.randint(255, size=(5, 5, 3))\n",
        "arr_random"
      ],
      "execution_count": null,
      "outputs": [
        {
          "output_type": "execute_result",
          "data": {
            "text/plain": [
              "array([[[ 36,  31, 150],\n",
              "        [162,  65, 108],\n",
              "        [ 29,  46, 251],\n",
              "        [186,  30, 208],\n",
              "        [140, 232, 250]],\n",
              "\n",
              "       [[101,  87, 127],\n",
              "        [ 76, 121, 225],\n",
              "        [152,  51, 180],\n",
              "        [214,  96, 147],\n",
              "        [162,  43,   7]],\n",
              "\n",
              "       [[ 47, 131,  52],\n",
              "        [ 18,  22, 226],\n",
              "        [161,  36,  95],\n",
              "        [ 14, 234,  26],\n",
              "        [  1,  70, 168]],\n",
              "\n",
              "       [[ 37, 189,  46],\n",
              "        [195, 122,  87],\n",
              "        [126,  35, 231],\n",
              "        [122, 105, 228],\n",
              "        [ 37, 245, 205]],\n",
              "\n",
              "       [[ 81, 232,  95],\n",
              "        [205,  44, 235],\n",
              "        [ 21, 142, 141],\n",
              "        [ 19, 127, 235],\n",
              "        [ 12,  11,  76]]])"
            ]
          },
          "metadata": {
            "tags": []
          },
          "execution_count": 504
        }
      ]
    },
    {
      "cell_type": "code",
      "metadata": {
        "id": "8LQbu-RJEEMZ",
        "colab_type": "code",
        "colab": {},
        "outputId": "df234a87-9077-4da3-cd8e-cdd2c45fbf52"
      },
      "source": [
        "arr_random[0, ..., 1]"
      ],
      "execution_count": null,
      "outputs": [
        {
          "output_type": "execute_result",
          "data": {
            "text/plain": [
              "array([ 31,  65,  46,  30, 232])"
            ]
          },
          "metadata": {
            "tags": []
          },
          "execution_count": 505
        }
      ]
    },
    {
      "cell_type": "markdown",
      "metadata": {
        "id": "iEreaFIWEEMF",
        "colab_type": "text"
      },
      "source": [
        "### 차원을 늘리는 방법들\n",
        "* np.newaxis\n",
        "* expand_dims"
      ]
    },
    {
      "cell_type": "code",
      "metadata": {
        "scrolled": true,
        "id": "hyFjimCAEEMF",
        "colab_type": "code",
        "colab": {
          "base_uri": "https://localhost:8080/",
          "height": 518
        },
        "outputId": "e1710328-5a68-4013-e572-fc8ee0df7c47"
      },
      "source": [
        "arr_random[..., None]"
      ],
      "execution_count": 85,
      "outputs": [
        {
          "output_type": "execute_result",
          "data": {
            "text/plain": [
              "array([[[167],\n",
              "        [  4],\n",
              "        [ 69],\n",
              "        [192],\n",
              "        [211]],\n",
              "\n",
              "       [[ 18],\n",
              "        [ 57],\n",
              "        [125],\n",
              "        [ 38],\n",
              "        [ 43]],\n",
              "\n",
              "       [[131],\n",
              "        [209],\n",
              "        [104],\n",
              "        [165],\n",
              "        [230]],\n",
              "\n",
              "       [[220],\n",
              "        [ 91],\n",
              "        [123],\n",
              "        [ 35],\n",
              "        [ 79]],\n",
              "\n",
              "       [[ 81],\n",
              "        [226],\n",
              "        [117],\n",
              "        [135],\n",
              "        [238]]])"
            ]
          },
          "metadata": {
            "tags": []
          },
          "execution_count": 85
        }
      ]
    },
    {
      "cell_type": "code",
      "metadata": {
        "id": "eojlWI85EEMH",
        "colab_type": "code",
        "colab": {
          "base_uri": "https://localhost:8080/",
          "height": 518
        },
        "outputId": "7197f9bd-0ece-407a-b767-7f66a76525a8"
      },
      "source": [
        "np.expand_dims(arr_random, axis=-1)"
      ],
      "execution_count": 86,
      "outputs": [
        {
          "output_type": "execute_result",
          "data": {
            "text/plain": [
              "array([[[167],\n",
              "        [  4],\n",
              "        [ 69],\n",
              "        [192],\n",
              "        [211]],\n",
              "\n",
              "       [[ 18],\n",
              "        [ 57],\n",
              "        [125],\n",
              "        [ 38],\n",
              "        [ 43]],\n",
              "\n",
              "       [[131],\n",
              "        [209],\n",
              "        [104],\n",
              "        [165],\n",
              "        [230]],\n",
              "\n",
              "       [[220],\n",
              "        [ 91],\n",
              "        [123],\n",
              "        [ 35],\n",
              "        [ 79]],\n",
              "\n",
              "       [[ 81],\n",
              "        [226],\n",
              "        [117],\n",
              "        [135],\n",
              "        [238]]])"
            ]
          },
          "metadata": {
            "tags": []
          },
          "execution_count": 86
        }
      ]
    },
    {
      "cell_type": "code",
      "metadata": {
        "id": "nbJJgPdMEEMJ",
        "colab_type": "code",
        "colab": {
          "base_uri": "https://localhost:8080/",
          "height": 518
        },
        "outputId": "6ee651e7-4f34-4ce3-e76b-25dfe26835fd"
      },
      "source": [
        "arr_random[:, :, np.newaxis]"
      ],
      "execution_count": 87,
      "outputs": [
        {
          "output_type": "execute_result",
          "data": {
            "text/plain": [
              "array([[[167],\n",
              "        [  4],\n",
              "        [ 69],\n",
              "        [192],\n",
              "        [211]],\n",
              "\n",
              "       [[ 18],\n",
              "        [ 57],\n",
              "        [125],\n",
              "        [ 38],\n",
              "        [ 43]],\n",
              "\n",
              "       [[131],\n",
              "        [209],\n",
              "        [104],\n",
              "        [165],\n",
              "        [230]],\n",
              "\n",
              "       [[220],\n",
              "        [ 91],\n",
              "        [123],\n",
              "        [ 35],\n",
              "        [ 79]],\n",
              "\n",
              "       [[ 81],\n",
              "        [226],\n",
              "        [117],\n",
              "        [135],\n",
              "        [238]]])"
            ]
          },
          "metadata": {
            "tags": []
          },
          "execution_count": 87
        }
      ]
    },
    {
      "cell_type": "code",
      "metadata": {
        "id": "q5eqCYhaEEMS",
        "colab_type": "code",
        "colab": {
          "base_uri": "https://localhost:8080/",
          "height": 518
        },
        "outputId": "1c5b3e07-4703-4300-e537-678165d32782"
      },
      "source": [
        "arr_random[..., np.newaxis]\n"
      ],
      "execution_count": 88,
      "outputs": [
        {
          "output_type": "execute_result",
          "data": {
            "text/plain": [
              "array([[[167],\n",
              "        [  4],\n",
              "        [ 69],\n",
              "        [192],\n",
              "        [211]],\n",
              "\n",
              "       [[ 18],\n",
              "        [ 57],\n",
              "        [125],\n",
              "        [ 38],\n",
              "        [ 43]],\n",
              "\n",
              "       [[131],\n",
              "        [209],\n",
              "        [104],\n",
              "        [165],\n",
              "        [230]],\n",
              "\n",
              "       [[220],\n",
              "        [ 91],\n",
              "        [123],\n",
              "        [ 35],\n",
              "        [ 79]],\n",
              "\n",
              "       [[ 81],\n",
              "        [226],\n",
              "        [117],\n",
              "        [135],\n",
              "        [238]]])"
            ]
          },
          "metadata": {
            "tags": []
          },
          "execution_count": 88
        }
      ]
    },
    {
      "cell_type": "code",
      "metadata": {
        "id": "0TlK7bXzEEMU",
        "colab_type": "code",
        "colab": {}
      },
      "source": [
        ""
      ],
      "execution_count": null,
      "outputs": []
    },
    {
      "cell_type": "code",
      "metadata": {
        "id": "0hAb7Py1EEMV",
        "colab_type": "code",
        "colab": {},
        "outputId": "d6d401c7-ee19-47d4-e845-894bfa45fba1"
      },
      "source": [
        "aaa = arr_random[..., np.newaxis]\n",
        "aaa"
      ],
      "execution_count": null,
      "outputs": [
        {
          "output_type": "execute_result",
          "data": {
            "text/plain": [
              "array([[[253],\n",
              "        [  1],\n",
              "        [218],\n",
              "        [213],\n",
              "        [170]],\n",
              "\n",
              "       [[141],\n",
              "        [  6],\n",
              "        [ 41],\n",
              "        [ 85],\n",
              "        [ 28]],\n",
              "\n",
              "       [[ 43],\n",
              "        [ 15],\n",
              "        [ 10],\n",
              "        [120],\n",
              "        [  4]],\n",
              "\n",
              "       [[176],\n",
              "        [100],\n",
              "        [242],\n",
              "        [158],\n",
              "        [130]],\n",
              "\n",
              "       [[  2],\n",
              "        [ 27],\n",
              "        [251],\n",
              "        [194],\n",
              "        [103]]])"
            ]
          },
          "metadata": {
            "tags": []
          },
          "execution_count": 502
        }
      ]
    },
    {
      "cell_type": "code",
      "metadata": {
        "id": "Ht22J3CEEEMW",
        "colab_type": "code",
        "colab": {},
        "outputId": "49d9d375-d415-4f0e-d8f6-63c0011c5232"
      },
      "source": [
        "arr_random"
      ],
      "execution_count": null,
      "outputs": [
        {
          "output_type": "execute_result",
          "data": {
            "text/plain": [
              "array([[253,   1, 218, 213, 170],\n",
              "       [141,   6,  41,  85,  28],\n",
              "       [ 43,  15,  10, 120,   4],\n",
              "       [176, 100, 242, 158, 130],\n",
              "       [  2,  27, 251, 194, 103]])"
            ]
          },
          "metadata": {
            "tags": []
          },
          "execution_count": 503
        }
      ]
    },
    {
      "cell_type": "markdown",
      "metadata": {
        "id": "vvj0Md5ZEEMa",
        "colab_type": "text"
      },
      "source": [
        "첫번째 축은 0, 다음 축부터 마지막 전까지 축은 모두, 마지막 축은 1 임을 생각하고 해석."
      ]
    },
    {
      "cell_type": "markdown",
      "metadata": {
        "id": "BBgJDjDEEEMa",
        "colab_type": "text"
      },
      "source": [
        "### ~ 는 not을 의미"
      ]
    },
    {
      "cell_type": "code",
      "metadata": {
        "id": "XoR-P0HmEEMa",
        "colab_type": "code",
        "colab": {},
        "outputId": "231cd12f-6483-44e4-bbd6-42318069c35c"
      },
      "source": [
        "sample = np.random.randint(255, size=(3, 3, 3))\n",
        "sample2 = sample.copy()\n",
        "sample3 = sample.copy()\n",
        "sample"
      ],
      "execution_count": null,
      "outputs": [
        {
          "output_type": "execute_result",
          "data": {
            "text/plain": [
              "array([[[142, 182,  44],\n",
              "        [236, 149, 125],\n",
              "        [ 36, 200,  16]],\n",
              "\n",
              "       [[164, 237, 131],\n",
              "        [ 21, 109, 236],\n",
              "        [179, 210, 103]],\n",
              "\n",
              "       [[ 86, 159,  12],\n",
              "        [ 78, 123,  56],\n",
              "        [141, 245, 141]]])"
            ]
          },
          "metadata": {
            "tags": []
          },
          "execution_count": 507
        }
      ]
    },
    {
      "cell_type": "code",
      "metadata": {
        "id": "mbMKaPMPEEMb",
        "colab_type": "code",
        "colab": {},
        "outputId": "df9cde2c-d7f4-4866-dd5d-d74de0e31f8f"
      },
      "source": [
        "# 3차원 마스크 생성\n",
        "mask = sample > 50\n",
        "mask"
      ],
      "execution_count": null,
      "outputs": [
        {
          "output_type": "execute_result",
          "data": {
            "text/plain": [
              "array([[[ True,  True, False],\n",
              "        [ True,  True,  True],\n",
              "        [False,  True, False]],\n",
              "\n",
              "       [[ True,  True,  True],\n",
              "        [False,  True,  True],\n",
              "        [ True,  True,  True]],\n",
              "\n",
              "       [[ True,  True, False],\n",
              "        [ True,  True,  True],\n",
              "        [ True,  True,  True]]])"
            ]
          },
          "metadata": {
            "tags": []
          },
          "execution_count": 508
        }
      ]
    },
    {
      "cell_type": "code",
      "metadata": {
        "id": "AKJuESCDEEMe",
        "colab_type": "code",
        "colab": {},
        "outputId": "984fbc9d-d82d-4fbd-ad7a-026cd776c821"
      },
      "source": [
        "sample[mask]"
      ],
      "execution_count": null,
      "outputs": [
        {
          "output_type": "execute_result",
          "data": {
            "text/plain": [
              "array([142, 182, 236, 149, 125, 200, 164, 237, 131, 109, 236, 179, 210,\n",
              "       103,  86, 159,  78, 123,  56, 141, 245, 141])"
            ]
          },
          "metadata": {
            "tags": []
          },
          "execution_count": 509
        }
      ]
    },
    {
      "cell_type": "code",
      "metadata": {
        "id": "qwWAcZyqEEMf",
        "colab_type": "code",
        "colab": {},
        "outputId": "ff9b66dc-8714-4e8a-d78a-820593e95586"
      },
      "source": [
        "sample[mask] = 0\n",
        "sample"
      ],
      "execution_count": null,
      "outputs": [
        {
          "output_type": "execute_result",
          "data": {
            "text/plain": [
              "array([[[ 0,  0, 44],\n",
              "        [ 0,  0,  0],\n",
              "        [36,  0, 16]],\n",
              "\n",
              "       [[ 0,  0,  0],\n",
              "        [21,  0,  0],\n",
              "        [ 0,  0,  0]],\n",
              "\n",
              "       [[ 0,  0, 12],\n",
              "        [ 0,  0,  0],\n",
              "        [ 0,  0,  0]]])"
            ]
          },
          "metadata": {
            "tags": []
          },
          "execution_count": 510
        }
      ]
    },
    {
      "cell_type": "code",
      "metadata": {
        "id": "mnkp9oT-EEMi",
        "colab_type": "code",
        "colab": {},
        "outputId": "99610303-148a-4ff7-c0e3-1fbfb6fdaf23"
      },
      "source": [
        "# ~ 은 not\n",
        "sample2[~mask] = 0\n",
        "sample2"
      ],
      "execution_count": null,
      "outputs": [
        {
          "output_type": "execute_result",
          "data": {
            "text/plain": [
              "array([[[142, 182,   0],\n",
              "        [236, 149, 125],\n",
              "        [  0, 200,   0]],\n",
              "\n",
              "       [[164, 237, 131],\n",
              "        [  0, 109, 236],\n",
              "        [179, 210, 103]],\n",
              "\n",
              "       [[ 86, 159,   0],\n",
              "        [ 78, 123,  56],\n",
              "        [141, 245, 141]]])"
            ]
          },
          "metadata": {
            "tags": []
          },
          "execution_count": 511
        }
      ]
    },
    {
      "cell_type": "code",
      "metadata": {
        "id": "UO-SxxupEEMj",
        "colab_type": "code",
        "colab": {},
        "outputId": "b734a4e4-f4c7-4f94-d8c9-d6fdd5b05ffd"
      },
      "source": [
        "# 응용. 2차원 mask와 3차원 행렬\n",
        "mask = np.all(sample3 > 50, axis=-1)\n",
        "mask"
      ],
      "execution_count": null,
      "outputs": [
        {
          "output_type": "execute_result",
          "data": {
            "text/plain": [
              "array([[False,  True, False],\n",
              "       [ True, False,  True],\n",
              "       [False,  True,  True]])"
            ]
          },
          "metadata": {
            "tags": []
          },
          "execution_count": 516
        }
      ]
    },
    {
      "cell_type": "code",
      "metadata": {
        "id": "HVd0lWwCEEMl",
        "colab_type": "code",
        "colab": {},
        "outputId": "97a5d46d-9167-4eeb-a816-ef953e1616d3"
      },
      "source": [
        "sample3"
      ],
      "execution_count": null,
      "outputs": [
        {
          "output_type": "execute_result",
          "data": {
            "text/plain": [
              "array([[[142, 182,  44],\n",
              "        [236, 149, 125],\n",
              "        [ 36, 200,  16]],\n",
              "\n",
              "       [[164, 237, 131],\n",
              "        [ 21, 109, 236],\n",
              "        [179, 210, 103]],\n",
              "\n",
              "       [[ 86, 159,  12],\n",
              "        [ 78, 123,  56],\n",
              "        [141, 245, 141]]])"
            ]
          },
          "metadata": {
            "tags": []
          },
          "execution_count": 517
        }
      ]
    },
    {
      "cell_type": "code",
      "metadata": {
        "id": "vxSqhRZ-EEMm",
        "colab_type": "code",
        "colab": {},
        "outputId": "867ba200-549a-4967-d065-ba59518cec45"
      },
      "source": [
        "# boolean index의 이해가 필요.\n",
        "sample3[mask]"
      ],
      "execution_count": null,
      "outputs": [
        {
          "output_type": "execute_result",
          "data": {
            "text/plain": [
              "array([[236, 149, 125],\n",
              "       [164, 237, 131],\n",
              "       [179, 210, 103],\n",
              "       [ 78, 123,  56],\n",
              "       [141, 245, 141]])"
            ]
          },
          "metadata": {
            "tags": []
          },
          "execution_count": 519
        }
      ]
    },
    {
      "cell_type": "code",
      "metadata": {
        "id": "frdtO6_PEEMp",
        "colab_type": "code",
        "colab": {},
        "outputId": "009d52ee-9b61-4193-e0bc-20b4cfe06d77"
      },
      "source": [
        "sample3[mask] = 0\n",
        "sample3"
      ],
      "execution_count": null,
      "outputs": [
        {
          "output_type": "execute_result",
          "data": {
            "text/plain": [
              "array([[[142, 182,  44],\n",
              "        [  0,   0,   0],\n",
              "        [ 36, 200,  16]],\n",
              "\n",
              "       [[  0,   0,   0],\n",
              "        [ 21, 109, 236],\n",
              "        [  0,   0,   0]],\n",
              "\n",
              "       [[ 86, 159,  12],\n",
              "        [  0,   0,   0],\n",
              "        [  0,   0,   0]]])"
            ]
          },
          "metadata": {
            "tags": []
          },
          "execution_count": 520
        }
      ]
    },
    {
      "cell_type": "code",
      "metadata": {
        "id": "t7zYyDrlEEMq",
        "colab_type": "code",
        "colab": {}
      },
      "source": [
        ""
      ],
      "execution_count": null,
      "outputs": []
    }
  ]
}