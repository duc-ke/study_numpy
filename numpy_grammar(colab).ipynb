{
  "nbformat": 4,
  "nbformat_minor": 0,
  "metadata": {
    "kernelspec": {
      "display_name": "tf2",
      "language": "python",
      "name": "tf2"
    },
    "language_info": {
      "codemirror_mode": {
        "name": "ipython",
        "version": 3
      },
      "file_extension": ".py",
      "mimetype": "text/x-python",
      "name": "python",
      "nbconvert_exporter": "python",
      "pygments_lexer": "ipython3",
      "version": "3.7.0"
    },
    "colab": {
      "name": "numpy_grammar(colab).ipynb",
      "provenance": [],
      "include_colab_link": true
    }
  },
  "cells": [
    {
      "cell_type": "markdown",
      "metadata": {
        "id": "view-in-github",
        "colab_type": "text"
      },
      "source": [
        "<a href=\"https://colab.research.google.com/github/duc-ke/study_numpy/blob/master/numpy_grammar(colab).ipynb\" target=\"_parent\"><img src=\"https://colab.research.google.com/assets/colab-badge.svg\" alt=\"Open In Colab\"/></a>"
      ]
    },
    {
      "cell_type": "code",
      "metadata": {
        "id": "r3wcWYlYEEHx",
        "colab_type": "code",
        "colab": {}
      },
      "source": [
        "import numpy as np"
      ],
      "execution_count": null,
      "outputs": []
    },
    {
      "cell_type": "markdown",
      "metadata": {
        "id": "ijL4JGB1EEH1",
        "colab_type": "text"
      },
      "source": [
        "## why numpy ?\n",
        "행렬 계산 : 이미지 픽셀값 조작 가능\n",
        "\n",
        "array를 이용하여 (흑백, 컬러)이미지를 생성, 조작해 보자."
      ]
    },
    {
      "cell_type": "code",
      "metadata": {
        "id": "gwXIm4HWEEH1",
        "colab_type": "code",
        "colab": {},
        "outputId": "14b942a1-9913-4bf5-a193-5ab0cdc7e7bd"
      },
      "source": [
        "tmp_np = np.zeros((10, 10))\n",
        "tmp_np"
      ],
      "execution_count": null,
      "outputs": [
        {
          "output_type": "execute_result",
          "data": {
            "text/plain": [
              "array([[0., 0., 0., 0., 0., 0., 0., 0., 0., 0.],\n",
              "       [0., 0., 0., 0., 0., 0., 0., 0., 0., 0.],\n",
              "       [0., 0., 0., 0., 0., 0., 0., 0., 0., 0.],\n",
              "       [0., 0., 0., 0., 0., 0., 0., 0., 0., 0.],\n",
              "       [0., 0., 0., 0., 0., 0., 0., 0., 0., 0.],\n",
              "       [0., 0., 0., 0., 0., 0., 0., 0., 0., 0.],\n",
              "       [0., 0., 0., 0., 0., 0., 0., 0., 0., 0.],\n",
              "       [0., 0., 0., 0., 0., 0., 0., 0., 0., 0.],\n",
              "       [0., 0., 0., 0., 0., 0., 0., 0., 0., 0.],\n",
              "       [0., 0., 0., 0., 0., 0., 0., 0., 0., 0.]])"
            ]
          },
          "metadata": {
            "tags": []
          },
          "execution_count": 332
        }
      ]
    },
    {
      "cell_type": "code",
      "metadata": {
        "id": "0XYuFrY7EEH5",
        "colab_type": "code",
        "colab": {}
      },
      "source": [
        "import matplotlib.pyplot as plt"
      ],
      "execution_count": null,
      "outputs": []
    },
    {
      "cell_type": "code",
      "metadata": {
        "id": "tNo4EfyLEEH7",
        "colab_type": "code",
        "colab": {},
        "outputId": "0adfc9c1-116d-4b68-f180-5a0510df2c99"
      },
      "source": [
        "plt.imshow(tmp_np, cmap='gray')"
      ],
      "execution_count": null,
      "outputs": [
        {
          "output_type": "execute_result",
          "data": {
            "text/plain": [
              "<matplotlib.image.AxesImage at 0x7fcf3e4633c8>"
            ]
          },
          "metadata": {
            "tags": []
          },
          "execution_count": 334
        },
        {
          "output_type": "display_data",
          "data": {
            "image/png": "[encoded data removed]",
            "text/plain": [
              "<Figure size 432x288 with 1 Axes>"
            ]
          },
          "metadata": {
            "tags": [],
            "needs_background": "light"
          }
        }
      ]
    },
    {
      "cell_type": "markdown",
      "metadata": {
        "id": "CdGwba10EEH-",
        "colab_type": "text"
      },
      "source": [
        "2차원 이미지는 gray scale 흑백 이미지이다."
      ]
    },
    {
      "cell_type": "code",
      "metadata": {
        "id": "ax87pMbUEEH_",
        "colab_type": "code",
        "colab": {},
        "outputId": "e7b34b01-100e-4d75-dea4-395df125da79"
      },
      "source": [
        "tmp_np[2, :] = 255\n",
        "plt.imshow(tmp_np, cmap='gray')"
      ],
      "execution_count": null,
      "outputs": [
        {
          "output_type": "execute_result",
          "data": {
            "text/plain": [
              "<matplotlib.image.AxesImage at 0x7fcf3e3080f0>"
            ]
          },
          "metadata": {
            "tags": []
          },
          "execution_count": 337
        },
        {
          "output_type": "display_data",
          "data": {
            "image/png": "[encoded data removed]",
            "text/plain": [
              "<Figure size 432x288 with 1 Axes>"
            ]
          },
          "metadata": {
            "tags": [],
            "needs_background": "light"
          }
        }
      ]
    },
    {
      "cell_type": "code",
      "metadata": {
        "id": "wtVym9E4EEIB",
        "colab_type": "code",
        "colab": {},
        "outputId": "1f53329b-4ae9-4151-c832-f5db7726bec8"
      },
      "source": [
        "tmp_np2 = np.zeros((10, 10, 3), dtype=int)\n",
        "tmp_np2"
      ],
      "execution_count": null,
      "outputs": [
        {
          "output_type": "execute_result",
          "data": {
            "text/plain": [
              "array([[[0, 0, 0],\n",
              "        [0, 0, 0],\n",
              "        [0, 0, 0],\n",
              "        [0, 0, 0],\n",
              "        [0, 0, 0],\n",
              "        [0, 0, 0],\n",
              "        [0, 0, 0],\n",
              "        [0, 0, 0],\n",
              "        [0, 0, 0],\n",
              "        [0, 0, 0]],\n",
              "\n",
              "       [[0, 0, 0],\n",
              "        [0, 0, 0],\n",
              "        [0, 0, 0],\n",
              "        [0, 0, 0],\n",
              "        [0, 0, 0],\n",
              "        [0, 0, 0],\n",
              "        [0, 0, 0],\n",
              "        [0, 0, 0],\n",
              "        [0, 0, 0],\n",
              "        [0, 0, 0]],\n",
              "\n",
              "       [[0, 0, 0],\n",
              "        [0, 0, 0],\n",
              "        [0, 0, 0],\n",
              "        [0, 0, 0],\n",
              "        [0, 0, 0],\n",
              "        [0, 0, 0],\n",
              "        [0, 0, 0],\n",
              "        [0, 0, 0],\n",
              "        [0, 0, 0],\n",
              "        [0, 0, 0]],\n",
              "\n",
              "       [[0, 0, 0],\n",
              "        [0, 0, 0],\n",
              "        [0, 0, 0],\n",
              "        [0, 0, 0],\n",
              "        [0, 0, 0],\n",
              "        [0, 0, 0],\n",
              "        [0, 0, 0],\n",
              "        [0, 0, 0],\n",
              "        [0, 0, 0],\n",
              "        [0, 0, 0]],\n",
              "\n",
              "       [[0, 0, 0],\n",
              "        [0, 0, 0],\n",
              "        [0, 0, 0],\n",
              "        [0, 0, 0],\n",
              "        [0, 0, 0],\n",
              "        [0, 0, 0],\n",
              "        [0, 0, 0],\n",
              "        [0, 0, 0],\n",
              "        [0, 0, 0],\n",
              "        [0, 0, 0]],\n",
              "\n",
              "       [[0, 0, 0],\n",
              "        [0, 0, 0],\n",
              "        [0, 0, 0],\n",
              "        [0, 0, 0],\n",
              "        [0, 0, 0],\n",
              "        [0, 0, 0],\n",
              "        [0, 0, 0],\n",
              "        [0, 0, 0],\n",
              "        [0, 0, 0],\n",
              "        [0, 0, 0]],\n",
              "\n",
              "       [[0, 0, 0],\n",
              "        [0, 0, 0],\n",
              "        [0, 0, 0],\n",
              "        [0, 0, 0],\n",
              "        [0, 0, 0],\n",
              "        [0, 0, 0],\n",
              "        [0, 0, 0],\n",
              "        [0, 0, 0],\n",
              "        [0, 0, 0],\n",
              "        [0, 0, 0]],\n",
              "\n",
              "       [[0, 0, 0],\n",
              "        [0, 0, 0],\n",
              "        [0, 0, 0],\n",
              "        [0, 0, 0],\n",
              "        [0, 0, 0],\n",
              "        [0, 0, 0],\n",
              "        [0, 0, 0],\n",
              "        [0, 0, 0],\n",
              "        [0, 0, 0],\n",
              "        [0, 0, 0]],\n",
              "\n",
              "       [[0, 0, 0],\n",
              "        [0, 0, 0],\n",
              "        [0, 0, 0],\n",
              "        [0, 0, 0],\n",
              "        [0, 0, 0],\n",
              "        [0, 0, 0],\n",
              "        [0, 0, 0],\n",
              "        [0, 0, 0],\n",
              "        [0, 0, 0],\n",
              "        [0, 0, 0]],\n",
              "\n",
              "       [[0, 0, 0],\n",
              "        [0, 0, 0],\n",
              "        [0, 0, 0],\n",
              "        [0, 0, 0],\n",
              "        [0, 0, 0],\n",
              "        [0, 0, 0],\n",
              "        [0, 0, 0],\n",
              "        [0, 0, 0],\n",
              "        [0, 0, 0],\n",
              "        [0, 0, 0]]])"
            ]
          },
          "metadata": {
            "tags": []
          },
          "execution_count": 160
        }
      ]
    },
    {
      "cell_type": "code",
      "metadata": {
        "id": "Jqa8ImcJEEID",
        "colab_type": "code",
        "colab": {},
        "outputId": "5c5766e9-f366-4ca6-8829-88b89e211866"
      },
      "source": [
        "plt.imshow(tmp_np2)"
      ],
      "execution_count": null,
      "outputs": [
        {
          "output_type": "execute_result",
          "data": {
            "text/plain": [
              "<matplotlib.image.AxesImage at 0x7fcf40669898>"
            ]
          },
          "metadata": {
            "tags": []
          },
          "execution_count": 161
        },
        {
          "output_type": "display_data",
          "data": {
            "image/png": "[encoded data removed]",
            "text/plain": [
              "<Figure size 432x288 with 1 Axes>"
            ]
          },
          "metadata": {
            "tags": [],
            "needs_background": "light"
          }
        }
      ]
    },
    {
      "cell_type": "markdown",
      "metadata": {
        "id": "feoNCwW7EEIH",
        "colab_type": "text"
      },
      "source": [
        "3차원 이미지를 컬러 이미지이며 shape은 (width, height, channel)이다.\n",
        "\n",
        "실제 컬러를 몇개만 입혀 보자."
      ]
    },
    {
      "cell_type": "code",
      "metadata": {
        "id": "5SNZM8IZEEIH",
        "colab_type": "code",
        "colab": {},
        "outputId": "1e42c852-709d-452c-c28b-ece01b197726"
      },
      "source": [
        "rand_color_px = np.random.randint(255, size=(3, 3, 3))\n",
        "rand_color_px"
      ],
      "execution_count": null,
      "outputs": [
        {
          "output_type": "execute_result",
          "data": {
            "text/plain": [
              "array([[[139, 101, 197],\n",
              "        [204, 241,  35],\n",
              "        [192, 147,  92]],\n",
              "\n",
              "       [[ 24, 100,  17],\n",
              "        [200, 190,  52],\n",
              "        [ 53,  93, 138]],\n",
              "\n",
              "       [[139, 223, 233],\n",
              "        [ 21,  59, 192],\n",
              "        [101,  36, 108]]])"
            ]
          },
          "metadata": {
            "tags": []
          },
          "execution_count": 338
        }
      ]
    },
    {
      "cell_type": "code",
      "metadata": {
        "id": "fySWaSdEEEIK",
        "colab_type": "code",
        "colab": {},
        "outputId": "32d0ab97-cdb8-48b9-d898-fa94b49422ed"
      },
      "source": [
        "tmp_np2[:3, :3, :] = rand_color_px\n",
        "plt.imshow(tmp_np2)"
      ],
      "execution_count": null,
      "outputs": [
        {
          "output_type": "execute_result",
          "data": {
            "text/plain": [
              "<matplotlib.image.AxesImage at 0x7fcf3e2d6e80>"
            ]
          },
          "metadata": {
            "tags": []
          },
          "execution_count": 339
        },
        {
          "output_type": "display_data",
          "data": {
            "image/png": "[encoded data removed]",
            "text/plain": [
              "<Figure size 432x288 with 1 Axes>"
            ]
          },
          "metadata": {
            "tags": [],
            "needs_background": "light"
          }
        }
      ]
    },
    {
      "cell_type": "markdown",
      "metadata": {
        "id": "uC3BCrTPEEIM",
        "colab_type": "text"
      },
      "source": [
        "### array 생성\n",
        "아주 다양한 방법으로 np.array를 생성할 수 있다.\n",
        "* list to array\n",
        "* zeros, ones, full, arange..\n",
        "* df to array\n",
        "* 기타 등등..\n",
        "\n",
        "출처 : numpy 사용하기 예제\n",
        "http://pythonstudy.xyz/python/article/402-numpy-%EC%82%AC%EC%9A%A9%ED%95%98%EA%B8%B0"
      ]
    },
    {
      "cell_type": "code",
      "metadata": {
        "id": "tCdVfm7dEEIM",
        "colab_type": "code",
        "colab": {},
        "outputId": "d053fd1d-b348-4e3d-e0ae-1446aeac7135"
      },
      "source": [
        "list1 = [1, 2, 3, 4]\n",
        "a = np.array(list1)\n",
        "a"
      ],
      "execution_count": null,
      "outputs": [
        {
          "output_type": "execute_result",
          "data": {
            "text/plain": [
              "array([1, 2, 3, 4])"
            ]
          },
          "metadata": {
            "tags": []
          },
          "execution_count": 344
        }
      ]
    },
    {
      "cell_type": "code",
      "metadata": {
        "id": "U-JgG4GXEEIP",
        "colab_type": "code",
        "colab": {},
        "outputId": "2e1b5220-92ad-4e28-f949-4993bd8399c4"
      },
      "source": [
        "a = np.zeros((2, 2))\n",
        "a"
      ],
      "execution_count": null,
      "outputs": [
        {
          "output_type": "execute_result",
          "data": {
            "text/plain": [
              "array([[0., 0.],\n",
              "       [0., 0.]])"
            ]
          },
          "metadata": {
            "tags": []
          },
          "execution_count": 345
        }
      ]
    },
    {
      "cell_type": "code",
      "metadata": {
        "id": "aBkNIo_xEEIS",
        "colab_type": "code",
        "colab": {},
        "outputId": "b3a4b423-30f6-41d5-df3f-40b16e1de1a7"
      },
      "source": [
        "a = np.ones((2,3))\n",
        "print(a)"
      ],
      "execution_count": null,
      "outputs": [
        {
          "output_type": "stream",
          "text": [
            "[[1. 1. 1.]\n",
            " [1. 1. 1.]]\n"
          ],
          "name": "stdout"
        }
      ]
    },
    {
      "cell_type": "code",
      "metadata": {
        "id": "pJzIOE3WEEIW",
        "colab_type": "code",
        "colab": {},
        "outputId": "d28b8ea9-df6e-496d-aa7b-d678586b3780"
      },
      "source": [
        "a = np.full((2,3), 5)\n",
        "print(a)"
      ],
      "execution_count": null,
      "outputs": [
        {
          "output_type": "stream",
          "text": [
            "[[5 5 5]\n",
            " [5 5 5]]\n"
          ],
          "name": "stdout"
        }
      ]
    },
    {
      "cell_type": "code",
      "metadata": {
        "id": "euVgucK_EEIY",
        "colab_type": "code",
        "colab": {},
        "outputId": "15c55c5c-6b24-4902-aa69-231f6fb85f12"
      },
      "source": [
        "np.arange(10), np.arange(3, 10)"
      ],
      "execution_count": null,
      "outputs": [
        {
          "output_type": "execute_result",
          "data": {
            "text/plain": [
              "(array([0, 1, 2, 3, 4, 5, 6, 7, 8, 9]), array([3, 4, 5, 6, 7, 8, 9]))"
            ]
          },
          "metadata": {
            "tags": []
          },
          "execution_count": 348
        }
      ]
    },
    {
      "cell_type": "markdown",
      "metadata": {
        "id": "98CSqW94EEIa",
        "colab_type": "text"
      },
      "source": [
        "### shape, dtype\n",
        "shape의 결과가 (5,) 라면, 1차원의 데이터이며 총 5라는 크기를 갖고 있음을 알 수 있다.\n",
        "\n",
        "만약 shape이 (4,3)라면, 2차원의 데이터이며 4 * 3 크기를 갖고 있는 array\n",
        "\n",
        "출처: https://doorbw.tistory.com/171 [Tigercow.Door]"
      ]
    },
    {
      "cell_type": "code",
      "metadata": {
        "id": "8sP-TNNIEEIa",
        "colab_type": "code",
        "colab": {},
        "outputId": "0ab7463c-ba77-4d6d-dd98-627242fec14a"
      },
      "source": [
        "a"
      ],
      "execution_count": null,
      "outputs": [
        {
          "output_type": "execute_result",
          "data": {
            "text/plain": [
              "array([[5, 5, 5],\n",
              "       [5, 5, 5]])"
            ]
          },
          "metadata": {
            "tags": []
          },
          "execution_count": 350
        }
      ]
    },
    {
      "cell_type": "code",
      "metadata": {
        "id": "X5CYRpYvEEId",
        "colab_type": "code",
        "colab": {},
        "outputId": "f812414f-1904-4bb6-a027-b94b69bc041f"
      },
      "source": [
        "a.shape"
      ],
      "execution_count": null,
      "outputs": [
        {
          "output_type": "execute_result",
          "data": {
            "text/plain": [
              "(2, 3)"
            ]
          },
          "metadata": {
            "tags": []
          },
          "execution_count": 351
        }
      ]
    },
    {
      "cell_type": "code",
      "metadata": {
        "id": "0NDSH-sjEEIf",
        "colab_type": "code",
        "colab": {},
        "outputId": "b983ed3c-59f3-45e1-93c9-53af0f374d67"
      },
      "source": [
        "a.dtype"
      ],
      "execution_count": null,
      "outputs": [
        {
          "output_type": "execute_result",
          "data": {
            "text/plain": [
              "dtype('int64')"
            ]
          },
          "metadata": {
            "tags": []
          },
          "execution_count": 352
        }
      ]
    },
    {
      "cell_type": "markdown",
      "metadata": {
        "id": "wJgfOSnwEEIh",
        "colab_type": "text"
      },
      "source": [
        "### reshaping\n",
        "shape을 다양하게 바꿀수 있다.\n",
        "* reshape\n",
        "* ravel\n",
        "\n",
        "[용어 정리]\n",
        "* reshaping : shape을 바꾼다. 늘리거나 줄이는건 불가능\n",
        "* resize : 해상도를 줄이거나 늘리거나 하는 것\n",
        "* dimension : shape과 거의 동일한 개념으로 쓰임.\n",
        "* channel : 영상 딥러닝, 이미지에서 쓰이는 개념. kernel과 동일 용어, 3차원 array에서 마지막 차원의 갯수."
      ]
    },
    {
      "cell_type": "code",
      "metadata": {
        "id": "eop8e6RNEEIh",
        "colab_type": "code",
        "colab": {},
        "outputId": "c88d994d-cfac-4a90-b3ac-fb1ef2ac6d02"
      },
      "source": [
        "a = np.array(range(20)).reshape((4,5))\n",
        "print(a)"
      ],
      "execution_count": null,
      "outputs": [
        {
          "output_type": "stream",
          "text": [
            "[[ 0  1  2  3  4]\n",
            " [ 5  6  7  8  9]\n",
            " [10 11 12 13 14]\n",
            " [15 16 17 18 19]]\n"
          ],
          "name": "stdout"
        }
      ]
    },
    {
      "cell_type": "code",
      "metadata": {
        "id": "FjoDh5NZEEIk",
        "colab_type": "code",
        "colab": {},
        "outputId": "332b8df4-2a22-416a-f0df-1a9cfad645eb"
      },
      "source": [
        "# ravel : flatten, 1차원 배열로 강제 변환\n",
        "a.ravel()"
      ],
      "execution_count": null,
      "outputs": [
        {
          "output_type": "execute_result",
          "data": {
            "text/plain": [
              "array([ 0,  1,  2,  3,  4,  5,  6,  7,  8,  9, 10, 11, 12, 13, 14, 15, 16,\n",
              "       17, 18, 19])"
            ]
          },
          "metadata": {
            "tags": []
          },
          "execution_count": 202
        }
      ]
    },
    {
      "cell_type": "markdown",
      "metadata": {
        "id": "1ZuMRnepEEIm",
        "colab_type": "text"
      },
      "source": [
        "### splicing\n",
        "부분 집합을 생성"
      ]
    },
    {
      "cell_type": "code",
      "metadata": {
        "id": "Ily7cJdAEEIn",
        "colab_type": "code",
        "colab": {},
        "outputId": "df2afab9-8953-4cc1-9c24-f7fd4aa01e3f"
      },
      "source": [
        "lst = [\n",
        "    [1, 2, 3],\n",
        "    [4, 5, 6],\n",
        "    [7, 8, 9]\n",
        "]\n",
        "arr = np.array(lst)\n",
        "arr"
      ],
      "execution_count": null,
      "outputs": [
        {
          "output_type": "execute_result",
          "data": {
            "text/plain": [
              "array([[1, 2, 3],\n",
              "       [4, 5, 6],\n",
              "       [7, 8, 9]])"
            ]
          },
          "metadata": {
            "tags": []
          },
          "execution_count": 357
        }
      ]
    },
    {
      "cell_type": "code",
      "metadata": {
        "id": "z_OxqzS_EEIs",
        "colab_type": "code",
        "colab": {},
        "outputId": "37bbcdcc-04f1-4ac6-b065-ef07ff1ba8e7"
      },
      "source": [
        "arr[0:2, 0:2]"
      ],
      "execution_count": null,
      "outputs": [
        {
          "output_type": "execute_result",
          "data": {
            "text/plain": [
              "array([[1, 2],\n",
              "       [4, 5]])"
            ]
          },
          "metadata": {
            "tags": []
          },
          "execution_count": 358
        }
      ]
    },
    {
      "cell_type": "code",
      "metadata": {
        "id": "vlopgsBtEEIu",
        "colab_type": "code",
        "colab": {},
        "outputId": "40044de0-a2af-4fd3-aa71-4e4830665934"
      },
      "source": [
        "# 3차원 이미지 예제\n",
        "arr_random = np.random.randint(255, size=(3, 3, 3))\n",
        "arr_random"
      ],
      "execution_count": null,
      "outputs": [
        {
          "output_type": "execute_result",
          "data": {
            "text/plain": [
              "array([[[ 23, 148,  84],\n",
              "        [216, 191,  54],\n",
              "        [ 92, 215,  88]],\n",
              "\n",
              "       [[ 25, 168, 101],\n",
              "        [ 45,  69, 128],\n",
              "        [ 88,   5,  30]],\n",
              "\n",
              "       [[221, 244,  44],\n",
              "        [ 30,  26,  93],\n",
              "        [ 92,   4,  56]]])"
            ]
          },
          "metadata": {
            "tags": []
          },
          "execution_count": 359
        }
      ]
    },
    {
      "cell_type": "markdown",
      "metadata": {
        "id": "Q_VjZjV-EEIw",
        "colab_type": "text"
      },
      "source": [
        "위의 매트릭스를 보고 이미지 행렬을 머릿속에 그릴 수 있어야 함.\n",
        "\n",
        "그려보자."
      ]
    },
    {
      "cell_type": "code",
      "metadata": {
        "id": "uzl17d00EEIx",
        "colab_type": "code",
        "colab": {},
        "outputId": "9d6dcd75-f2f3-42d4-fc80-7ec558c9756b"
      },
      "source": [
        "# 3차원 행렬의 splicing\n",
        "arr_random[:2, :2, 1]"
      ],
      "execution_count": null,
      "outputs": [
        {
          "output_type": "execute_result",
          "data": {
            "text/plain": [
              "array([[148, 191],\n",
              "       [168,  69]])"
            ]
          },
          "metadata": {
            "tags": []
          },
          "execution_count": 360
        }
      ]
    },
    {
      "cell_type": "code",
      "metadata": {
        "id": "w8dZsJCtEEIz",
        "colab_type": "code",
        "colab": {},
        "outputId": "2016e0e3-a3d8-4372-d849-c4df93ff9600"
      },
      "source": [
        "# 마지막 축 모두 선택은 생략가능\n",
        "arr_random[:2, :2, :], arr_random[:2, :2]"
      ],
      "execution_count": null,
      "outputs": [
        {
          "output_type": "execute_result",
          "data": {
            "text/plain": [
              "(array([[[ 23, 148,  84],\n",
              "         [216, 191,  54]],\n",
              " \n",
              "        [[ 25, 168, 101],\n",
              "         [ 45,  69, 128]]]),\n",
              " array([[[ 23, 148,  84],\n",
              "         [216, 191,  54]],\n",
              " \n",
              "        [[ 25, 168, 101],\n",
              "         [ 45,  69, 128]]]))"
            ]
          },
          "metadata": {
            "tags": []
          },
          "execution_count": 361
        }
      ]
    },
    {
      "cell_type": "code",
      "metadata": {
        "id": "weqhZwwCEEI1",
        "colab_type": "code",
        "colab": {}
      },
      "source": [
        ""
      ],
      "execution_count": null,
      "outputs": []
    },
    {
      "cell_type": "code",
      "metadata": {
        "id": "wEOtHKfEEEI3",
        "colab_type": "code",
        "colab": {}
      },
      "source": [
        ""
      ],
      "execution_count": null,
      "outputs": []
    },
    {
      "cell_type": "markdown",
      "metadata": {
        "id": "drVOr8cGEEI6",
        "colab_type": "text"
      },
      "source": [
        "### 정수 인덱싱 (integer indexing)\n",
        "정수 인덱싱은 각 차원별로 선택되어지는 배열요소의 인덱스들을 일렬로 나열하여 부분집합을 구하는 방식이다. \n",
        "\n",
        "즉, 임의의 numpy 배열 a 에 대해 a[[row1, row2], [col1, col2]] 와 같이 표현하는 것인데, 이는 a[row1, col1] 과 a[row2, col2] 라는 두 개의 배열요소의 집합을 의미한다. 예를 들어, 아래 예제에서 a[[0, 2], [1, 3]] 은 정수 인덱싱으로서 이는 a[0, 1] 과 a[2, 3] 등 2개의 배열요소를 가리킨다."
      ]
    },
    {
      "cell_type": "code",
      "metadata": {
        "id": "c5xLnh5yEEI6",
        "colab_type": "code",
        "colab": {},
        "outputId": "a1bf3993-ac03-45fe-aa03-8258e01ac182"
      },
      "source": [
        "lst = [\n",
        "    [1, 2, 3, 4],\n",
        "    [5, 6, 7, 8],\n",
        "    [9, 10, 11, 12]\n",
        "]\n",
        "a = np.array(lst)\n",
        " \n",
        "# 정수 인덱싱\n",
        "s = a[[0, 2], [1, 3]]\n",
        " \n",
        "print(s)"
      ],
      "execution_count": null,
      "outputs": [
        {
          "output_type": "stream",
          "text": [
            "[ 2 12]\n"
          ],
          "name": "stdout"
        }
      ]
    },
    {
      "cell_type": "markdown",
      "metadata": {
        "id": "SE_xLy01EEI8",
        "colab_type": "text"
      },
      "source": [
        "### 부울린 인덱싱 (boolean indexing)\n",
        "numpy 부울린 인덱싱은 배열 각 요소의 선택여부를 True, False로 표현하는 방식이다. \n",
        "\n",
        "만약 배열 a 가 2 x 3 의 배열이이라면, 부울린 인덱싱을 정의하는 numpy 배열도 2 x 3 으로 만들고 선택할 배열요소에 True를 넣고 그렇지 않으면 False를 넣으면 된다.\n",
        "\n",
        "위에서 이용한 다차원의 인덱싱을 응용하여 boolean 인덱싱을 할 수 있다.\n",
        "해당 기능은 주로 마스크라고 이야기하는데, boolean인덱싱을 통해 만들어낸 array를 통해\n",
        "우리가 원하는 행 또는 열의 값만 뽑아낼 수 있다.\n",
        "즉, 마스크처럼 우리가 가리고 싶은 부분은 가리고, 원하는 요소만 꺼낼 수 있다.\n",
        "\n",
        "출처: https://doorbw.tistory.com/171 [Tigercow.Door]"
      ]
    },
    {
      "cell_type": "code",
      "metadata": {
        "id": "R1ZcXtXrEEI9",
        "colab_type": "code",
        "colab": {},
        "outputId": "e4d68f0d-af12-4be7-fe0a-3fe5a6e5b8cb"
      },
      "source": [
        "# 기본 예제, array와 shape이 똑같은 mask가 있다면 쉽게 해석하여 꺼내올 수 있음.\n",
        "lst = [\n",
        "    [1, 2, 3],\n",
        "    [4, 5, 6],\n",
        "    [7, 8, 9]\n",
        "]\n",
        "a = np.array(lst)\n",
        " \n",
        "bool_indexing_array = np.array([\n",
        "    [False,  True, False],\n",
        "    [True, False,  True],\n",
        "    [False,  True, False]\n",
        "])\n",
        " \n",
        "n = a[bool_indexing_array]\n",
        "n"
      ],
      "execution_count": null,
      "outputs": [
        {
          "output_type": "execute_result",
          "data": {
            "text/plain": [
              "array([2, 4, 6, 8])"
            ]
          },
          "metadata": {
            "tags": []
          },
          "execution_count": 363
        }
      ]
    },
    {
      "cell_type": "code",
      "metadata": {
        "id": "GET8jwy8EEI_",
        "colab_type": "code",
        "colab": {},
        "outputId": "e6fc89c8-c1a9-4cc4-bb7e-7ebcf2982026"
      },
      "source": [
        "# 조건문을 이용한 boolean array(mask)를 생성가능\n",
        "lst = [\n",
        "    [1, 2, 3],\n",
        "    [4, 5, 6],\n",
        "    [7, 8, 9]\n",
        "]\n",
        "a = np.array(lst)\n",
        " \n",
        "# 배열 a 에 대해 짝수면 True, 홀수면 False \n",
        "bool_indexing = (a % 2 == 0)\n",
        "print(bool_indexing)\n",
        "\n",
        "a[bool_indexing]"
      ],
      "execution_count": null,
      "outputs": [
        {
          "output_type": "stream",
          "text": [
            "[[False  True False]\n",
            " [ True False  True]\n",
            " [False  True False]]\n"
          ],
          "name": "stdout"
        },
        {
          "output_type": "execute_result",
          "data": {
            "text/plain": [
              "array([2, 4, 6, 8])"
            ]
          },
          "metadata": {
            "tags": []
          },
          "execution_count": 364
        }
      ]
    },
    {
      "cell_type": "code",
      "metadata": {
        "id": "w_ntClcgEEJC",
        "colab_type": "code",
        "colab": {},
        "outputId": "0590f9d4-e9ab-473d-89ee-344d8025b4ed"
      },
      "source": [
        "# 더 간단한 표현\n",
        "n = a[ a % 2 == 0 ]\n",
        "n"
      ],
      "execution_count": null,
      "outputs": [
        {
          "output_type": "execute_result",
          "data": {
            "text/plain": [
              "array([2, 4, 6, 8])"
            ]
          },
          "metadata": {
            "tags": []
          },
          "execution_count": 365
        }
      ]
    },
    {
      "cell_type": "markdown",
      "metadata": {
        "id": "WXrEdoTwEEJE",
        "colab_type": "text"
      },
      "source": [
        "#### boolean mask 응용"
      ]
    },
    {
      "cell_type": "code",
      "metadata": {
        "id": "dpR_fOsIEEJF",
        "colab_type": "code",
        "colab": {},
        "outputId": "60bb3032-09a3-45b7-9c43-def84d7d3064"
      },
      "source": [
        "names = np.array(['Beomwoo','Beomwoo','Kim','Joan','Lee','Beomwoo','Park','Beomwoo'])\n",
        "print(names.shape)\n",
        "names"
      ],
      "execution_count": null,
      "outputs": [
        {
          "output_type": "stream",
          "text": [
            "(8,)\n"
          ],
          "name": "stdout"
        },
        {
          "output_type": "execute_result",
          "data": {
            "text/plain": [
              "array(['Beomwoo', 'Beomwoo', 'Kim', 'Joan', 'Lee', 'Beomwoo', 'Park',\n",
              "       'Beomwoo'], dtype='<U7')"
            ]
          },
          "metadata": {
            "tags": []
          },
          "execution_count": 366
        }
      ]
    },
    {
      "cell_type": "code",
      "metadata": {
        "id": "ztYi9j-FEEJH",
        "colab_type": "code",
        "colab": {},
        "outputId": "ff229b35-5479-45c9-f534-273dcccb5730"
      },
      "source": [
        "# 표준 정규분포 데이터의 생성\n",
        "data = np.random.randn(8,4)\n",
        "print(data.shape)\n",
        "data"
      ],
      "execution_count": null,
      "outputs": [
        {
          "output_type": "stream",
          "text": [
            "(8, 4)\n"
          ],
          "name": "stdout"
        },
        {
          "output_type": "execute_result",
          "data": {
            "text/plain": [
              "array([[-1.60304696,  1.02432943, -0.40370503, -2.72888484],\n",
              "       [ 0.59944257,  0.05152184, -0.65903371, -0.48141301],\n",
              "       [-0.51683464,  1.67857924, -0.45518898,  0.83268655],\n",
              "       [-2.07934381,  0.02158827, -0.89177424, -1.81654124],\n",
              "       [-0.44379965,  1.04115794,  1.23120637,  0.79471543],\n",
              "       [-0.13169527,  0.12876113,  0.3669032 , -1.21247492],\n",
              "       [ 0.22020871, -0.28394363,  0.72209257,  0.74659778],\n",
              "       [-0.43110201,  0.83536117,  0.69962932, -0.07455466]])"
            ]
          },
          "metadata": {
            "tags": []
          },
          "execution_count": 367
        }
      ]
    },
    {
      "cell_type": "code",
      "metadata": {
        "id": "w8XAmFCkEEJJ",
        "colab_type": "code",
        "colab": {},
        "outputId": "ba87f921-bea5-4a6b-860a-f3835a00369f"
      },
      "source": [
        "# 요소가 Beomwoo인 항목에 대한 mask 생성\n",
        "names_Beomwoo_mask = (names == 'Beomwoo')\n",
        "names_Beomwoo_mask"
      ],
      "execution_count": null,
      "outputs": [
        {
          "output_type": "execute_result",
          "data": {
            "text/plain": [
              "array([ True,  True, False, False, False,  True, False,  True])"
            ]
          },
          "metadata": {
            "tags": []
          },
          "execution_count": 368
        }
      ]
    },
    {
      "cell_type": "code",
      "metadata": {
        "id": "2O07Ae90EEJL",
        "colab_type": "code",
        "colab": {},
        "outputId": "474d84ef-86d8-4a77-8bb5-f168240b64b7"
      },
      "source": [
        "# row, col 중 row의 수치가 같으니 다음과 같이 쓸수 있음\n",
        "data[names_Beomwoo_mask,:]"
      ],
      "execution_count": null,
      "outputs": [
        {
          "output_type": "execute_result",
          "data": {
            "text/plain": [
              "array([[-1.60304696,  1.02432943, -0.40370503, -2.72888484],\n",
              "       [ 0.59944257,  0.05152184, -0.65903371, -0.48141301],\n",
              "       [-0.13169527,  0.12876113,  0.3669032 , -1.21247492],\n",
              "       [-0.43110201,  0.83536117,  0.69962932, -0.07455466]])"
            ]
          },
          "metadata": {
            "tags": []
          },
          "execution_count": 369
        }
      ]
    },
    {
      "cell_type": "code",
      "metadata": {
        "id": "hS8MvjOJEEJO",
        "colab_type": "code",
        "colab": {},
        "outputId": "54fa9651-e310-42be-ee4f-75cf7f80c12a"
      },
      "source": [
        "# row, col각각에 조건문 가능\n",
        "# 요소가 Kim인 행의 데이터만 꺼내기\n",
        "data[names == 'Kim',:]"
      ],
      "execution_count": null,
      "outputs": [
        {
          "output_type": "execute_result",
          "data": {
            "text/plain": [
              "array([[-0.51683464,  1.67857924, -0.45518898,  0.83268655]])"
            ]
          },
          "metadata": {
            "tags": []
          },
          "execution_count": 370
        }
      ]
    },
    {
      "cell_type": "code",
      "metadata": {
        "id": "SnS_EdqDEEJQ",
        "colab_type": "code",
        "colab": {},
        "outputId": "c3a88fdc-9ca0-49e3-dc1b-d2b367cd76aa"
      },
      "source": [
        "# 조건이 두개인것에 대한 indexing!!(pandas df 방식과 같다)\n",
        "# 논리 연산을 응용하여, 요소가 Kim 또는 Park인 행의 데이터만 꺼내기\n",
        "data[(names == 'Kim') | (names == 'Park'),:]"
      ],
      "execution_count": null,
      "outputs": [
        {
          "output_type": "execute_result",
          "data": {
            "text/plain": [
              "array([[-0.51683464,  1.67857924, -0.45518898,  0.83268655],\n",
              "       [ 0.22020871, -0.28394363,  0.72209257,  0.74659778]])"
            ]
          },
          "metadata": {
            "tags": []
          },
          "execution_count": 371
        }
      ]
    },
    {
      "cell_type": "markdown",
      "metadata": {
        "id": "8qKQf0-DEEJS",
        "colab_type": "text"
      },
      "source": [
        "다른 array가 아닌 data array 자체적으로도 마스크를 만들고, 이를 응용하여 인덱싱이 가능하다.\n",
        "data array에서 0번째 열의 값이 0보다 작은 행을 구해보자."
      ]
    },
    {
      "cell_type": "code",
      "metadata": {
        "id": "0KGqSRQuEEJS",
        "colab_type": "code",
        "colab": {},
        "outputId": "e295a66b-d216-483c-da06-e33fa576bdfc"
      },
      "source": [
        "# 먼저 마스크를 만든다.\n",
        "# data array에서 0번째 열이 0보다 작은 요소의 boolean 값은 다음과 같다.\n",
        "data[:,0] < 0"
      ],
      "execution_count": null,
      "outputs": [
        {
          "output_type": "execute_result",
          "data": {
            "text/plain": [
              "array([ True, False,  True,  True,  True,  True, False,  True])"
            ]
          },
          "metadata": {
            "tags": []
          },
          "execution_count": 372
        }
      ]
    },
    {
      "cell_type": "code",
      "metadata": {
        "id": "oIKlYCO9EEJV",
        "colab_type": "code",
        "colab": {},
        "outputId": "e98ad195-47f4-428d-970d-4896e74b8ab2"
      },
      "source": [
        "# 위에서 만든 마스크를 이용하여 0번째 열의 값이 0보다 작은 행을 구한다.\n",
        "data[data[:,0]<0,:]"
      ],
      "execution_count": null,
      "outputs": [
        {
          "output_type": "execute_result",
          "data": {
            "text/plain": [
              "array([[-1.60304696,  1.02432943, -0.40370503, -2.72888484],\n",
              "       [-0.51683464,  1.67857924, -0.45518898,  0.83268655],\n",
              "       [-2.07934381,  0.02158827, -0.89177424, -1.81654124],\n",
              "       [-0.44379965,  1.04115794,  1.23120637,  0.79471543],\n",
              "       [-0.13169527,  0.12876113,  0.3669032 , -1.21247492],\n",
              "       [-0.43110201,  0.83536117,  0.69962932, -0.07455466]])"
            ]
          },
          "metadata": {
            "tags": []
          },
          "execution_count": 373
        }
      ]
    },
    {
      "cell_type": "code",
      "metadata": {
        "id": "8cWApjdYEEJX",
        "colab_type": "code",
        "colab": {},
        "outputId": "9fea96a0-b660-42d7-bc0a-09f5feb32a98"
      },
      "source": [
        "# 축약 ver. 마지막 열은 생략가능하므로 아래 처럼 설정하면 boolean에 맞는 행만 선택하는 것과 같다.\n",
        "mask = [True, True, True, False, True, True, True, True]\n",
        "data[mask]"
      ],
      "execution_count": null,
      "outputs": [
        {
          "output_type": "execute_result",
          "data": {
            "text/plain": [
              "array([[-1.60304696,  1.02432943, -0.40370503, -2.72888484],\n",
              "       [ 0.59944257,  0.05152184, -0.65903371, -0.48141301],\n",
              "       [-0.51683464,  1.67857924, -0.45518898,  0.83268655],\n",
              "       [-0.44379965,  1.04115794,  1.23120637,  0.79471543],\n",
              "       [-0.13169527,  0.12876113,  0.3669032 , -1.21247492],\n",
              "       [ 0.22020871, -0.28394363,  0.72209257,  0.74659778],\n",
              "       [-0.43110201,  0.83536117,  0.69962932, -0.07455466]])"
            ]
          },
          "metadata": {
            "tags": []
          },
          "execution_count": 375
        }
      ]
    },
    {
      "cell_type": "markdown",
      "metadata": {
        "id": "fin-wwXUEEJa",
        "colab_type": "text"
      },
      "source": [
        "#### 좀더 어려운 boolean mask ( 브로드캐스팅개념과 축의 개념이 들어감. argmax이후 볼 것.)"
      ]
    },
    {
      "cell_type": "code",
      "metadata": {
        "id": "2pt-CgNGEEJb",
        "colab_type": "code",
        "colab": {},
        "outputId": "a354d0bd-253f-48ed-c2d5-897b00dd8c8c"
      },
      "source": [
        "sample = np.random.randint(255, size=(3, 3, 3))\n",
        "sample"
      ],
      "execution_count": null,
      "outputs": [
        {
          "output_type": "execute_result",
          "data": {
            "text/plain": [
              "array([[[123, 120, 186],\n",
              "        [251, 208, 178],\n",
              "        [ 60, 209, 189]],\n",
              "\n",
              "       [[ 94, 160,  68],\n",
              "        [ 70, 182, 146],\n",
              "        [171, 237,  36]],\n",
              "\n",
              "       [[ 36, 250,  28],\n",
              "        [108,  20, 144],\n",
              "        [162, 247,  63]]])"
            ]
          },
          "metadata": {
            "tags": []
          },
          "execution_count": 521
        }
      ]
    },
    {
      "cell_type": "code",
      "metadata": {
        "id": "y7Hj4j1xEEJd",
        "colab_type": "code",
        "colab": {},
        "outputId": "32e87ce8-7b4a-45fa-f8da-23c45e78350f"
      },
      "source": [
        "# mask - boolean elements들의 broadcast\n",
        "mask = np.array([True, True, False])\n",
        "sample[mask]"
      ],
      "execution_count": null,
      "outputs": [
        {
          "output_type": "execute_result",
          "data": {
            "text/plain": [
              "array([[[123, 120, 186],\n",
              "        [251, 208, 178],\n",
              "        [ 60, 209, 189]],\n",
              "\n",
              "       [[ 94, 160,  68],\n",
              "        [ 70, 182, 146],\n",
              "        [171, 237,  36]]])"
            ]
          },
          "metadata": {
            "tags": []
          },
          "execution_count": 522
        }
      ]
    },
    {
      "cell_type": "code",
      "metadata": {
        "id": "Vp6zaXWKEEJh",
        "colab_type": "code",
        "colab": {},
        "outputId": "17c8208c-5ae7-4f87-9053-2142bdd9a905"
      },
      "source": [
        "# 이해 안되면 넘어가기.\n",
        "mask = np.array([[True, True, False], [True, False, True], [False, True, False]])\n",
        "sample[mask]"
      ],
      "execution_count": null,
      "outputs": [
        {
          "output_type": "execute_result",
          "data": {
            "text/plain": [
              "array([[123, 120, 186],\n",
              "       [251, 208, 178],\n",
              "       [ 94, 160,  68],\n",
              "       [171, 237,  36],\n",
              "       [108,  20, 144]])"
            ]
          },
          "metadata": {
            "tags": []
          },
          "execution_count": 523
        }
      ]
    },
    {
      "cell_type": "code",
      "metadata": {
        "id": "MCvFOSd0EEJj",
        "colab_type": "code",
        "colab": {},
        "outputId": "acd0fcb1-9c6d-4f37-818f-68f76a1bc5e7"
      },
      "source": [
        "mask = np.all(sample > 50, axis=-1)\n",
        "mask"
      ],
      "execution_count": null,
      "outputs": [
        {
          "output_type": "execute_result",
          "data": {
            "text/plain": [
              "array([[ True,  True,  True],\n",
              "       [ True,  True, False],\n",
              "       [False, False,  True]])"
            ]
          },
          "metadata": {
            "tags": []
          },
          "execution_count": 524
        }
      ]
    },
    {
      "cell_type": "code",
      "metadata": {
        "id": "3ND9ubShEEJm",
        "colab_type": "code",
        "colab": {},
        "outputId": "18ee3657-f1fa-45de-b77c-43077b54e688"
      },
      "source": [
        "sample[mask]"
      ],
      "execution_count": null,
      "outputs": [
        {
          "output_type": "execute_result",
          "data": {
            "text/plain": [
              "array([[123, 120, 186],\n",
              "       [251, 208, 178],\n",
              "       [ 60, 209, 189],\n",
              "       [ 94, 160,  68],\n",
              "       [ 70, 182, 146],\n",
              "       [162, 247,  63]])"
            ]
          },
          "metadata": {
            "tags": []
          },
          "execution_count": 525
        }
      ]
    },
    {
      "cell_type": "code",
      "metadata": {
        "id": "XQiMh7L1EEJo",
        "colab_type": "code",
        "colab": {},
        "outputId": "53187001-4b42-42d2-e3ba-19968ffb9e2a"
      },
      "source": [
        "sample[mask] = 999\n",
        "sample"
      ],
      "execution_count": null,
      "outputs": [
        {
          "output_type": "execute_result",
          "data": {
            "text/plain": [
              "array([[[999, 999, 999],\n",
              "        [999, 999, 999],\n",
              "        [999, 999, 999]],\n",
              "\n",
              "       [[999, 999, 999],\n",
              "        [999, 999, 999],\n",
              "        [171, 237,  36]],\n",
              "\n",
              "       [[ 36, 250,  28],\n",
              "        [108,  20, 144],\n",
              "        [999, 999, 999]]])"
            ]
          },
          "metadata": {
            "tags": []
          },
          "execution_count": 526
        }
      ]
    },
    {
      "cell_type": "code",
      "metadata": {
        "id": "gn0w0fCAEEJr",
        "colab_type": "code",
        "colab": {}
      },
      "source": [
        ""
      ],
      "execution_count": null,
      "outputs": []
    },
    {
      "cell_type": "markdown",
      "metadata": {
        "id": "Qmc3hWkoEEJt",
        "colab_type": "text"
      },
      "source": [
        "### np 연산\n",
        "* 간단한 행렬 산술\n",
        "* 행렬곱\n",
        "* 통계량\n",
        "* elements 합\n",
        "* 최대 최소의 index : argmin, argmax"
      ]
    },
    {
      "cell_type": "code",
      "metadata": {
        "id": "MenB1xS3EEJt",
        "colab_type": "code",
        "colab": {},
        "outputId": "09660d19-4cd8-4faa-f2da-9a6244e99ed0"
      },
      "source": [
        "a = np.array([1,2,3])\n",
        "b = np.array([4,5,6])\n",
        "a, b"
      ],
      "execution_count": null,
      "outputs": [
        {
          "output_type": "execute_result",
          "data": {
            "text/plain": [
              "(array([1, 2, 3]), array([4, 5, 6]))"
            ]
          },
          "metadata": {
            "tags": []
          },
          "execution_count": 377
        }
      ]
    },
    {
      "cell_type": "code",
      "metadata": {
        "id": "NeKTEueWEEJw",
        "colab_type": "code",
        "colab": {},
        "outputId": "15f6e4db-cab5-4fa9-b881-7199f24375d6"
      },
      "source": [
        "# 각 요소 더하기\n",
        "c = a + b\n",
        "# c = np.add(a, b)\n",
        "print(c)  # [5 7 9]\n",
        " \n",
        "# 각 요소 빼기\n",
        "c = a - b\n",
        "# c = np.subtract(a, b)\n",
        "print(c)  # [-3 -3 -3]\n",
        " \n",
        "# 각 요소 곱하기\n",
        "c = a * b\n",
        "# c = np.multiply(a, b)\n",
        "print(c)  # [4 10 18]\n",
        " \n",
        "# 각 요소 나누기\n",
        "c = a / b\n",
        "# c = np.divide(a, b)\n",
        "print(c)  # [0.25 0.4 0.5]"
      ],
      "execution_count": null,
      "outputs": [
        {
          "output_type": "stream",
          "text": [
            "[5 7 9]\n",
            "[-3 -3 -3]\n",
            "[ 4 10 18]\n",
            "[0.25 0.4  0.5 ]\n"
          ],
          "name": "stdout"
        }
      ]
    },
    {
      "cell_type": "code",
      "metadata": {
        "id": "CaZRkSZzEEJz",
        "colab_type": "code",
        "colab": {},
        "outputId": "f711e040-9f43-42ae-b00d-bf94f07d0bb0"
      },
      "source": [
        "# 행렬 곱 연산\n",
        "lst1 = [\n",
        "    [1,2],\n",
        "    [3,4]\n",
        "]\n",
        " \n",
        "lst2 = [\n",
        "    [5,6],\n",
        "    [7,8]\n",
        "]\n",
        "a = np.array(lst1)\n",
        "b = np.array(lst2)\n",
        " \n",
        "c = np.dot(a, b)\n",
        "print(c)"
      ],
      "execution_count": null,
      "outputs": [
        {
          "output_type": "stream",
          "text": [
            "[[19 22]\n",
            " [43 50]]\n"
          ],
          "name": "stdout"
        }
      ]
    },
    {
      "cell_type": "code",
      "metadata": {
        "id": "7Cw3ir7bEEJ0",
        "colab_type": "code",
        "colab": {},
        "outputId": "5b4ae1a8-1706-4611-df61-d8eea1f3ddb6"
      },
      "source": [
        "# elements의 합\n",
        "a = np.array([[1,2],[3,4]])\n",
        "print(a)\n",
        "s = np.sum(a)\n",
        "print(s)   # 10"
      ],
      "execution_count": null,
      "outputs": [
        {
          "output_type": "stream",
          "text": [
            "[[1 2]\n",
            " [3 4]]\n",
            "10\n"
          ],
          "name": "stdout"
        }
      ]
    },
    {
      "cell_type": "markdown",
      "metadata": {
        "id": "AvlNAGYjEEJ5",
        "colab_type": "text"
      },
      "source": [
        "지금 부터 나올 axis에 관해 개념이 헷갈리기 시작함.\n",
        "\n",
        "잘 파악해야 함."
      ]
    },
    {
      "cell_type": "code",
      "metadata": {
        "id": "jos-vPPKEEJ6",
        "colab_type": "code",
        "colab": {},
        "outputId": "c6c187bb-db22-4a76-c7ab-aeba5e5b0b77"
      },
      "source": [
        "# axis=0 이면, 컬럼끼리 더함(행간 연산)\n",
        "# axis=1 이면, 행끼리 더함(컬럼간 연산)\n",
        "s = np.sum(a, axis=0)\n",
        "print(s)   \n",
        " \n",
        "s = np.sum(a, axis=1)\n",
        "print(s)  "
      ],
      "execution_count": null,
      "outputs": [
        {
          "output_type": "stream",
          "text": [
            "[4 6]\n",
            "[3 7]\n"
          ],
          "name": "stdout"
        }
      ]
    },
    {
      "cell_type": "code",
      "metadata": {
        "id": "by6egl7XEEJ7",
        "colab_type": "code",
        "colab": {},
        "outputId": "54e74119-de71-4dab-8cf7-34bcd561e448"
      },
      "source": [
        "np.sum(a, axis=-1)"
      ],
      "execution_count": null,
      "outputs": [
        {
          "output_type": "execute_result",
          "data": {
            "text/plain": [
              "array([3, 7])"
            ]
          },
          "metadata": {
            "tags": []
          },
          "execution_count": 393
        }
      ]
    },
    {
      "cell_type": "code",
      "metadata": {
        "id": "-j-HzkJVEEJ9",
        "colab_type": "code",
        "colab": {},
        "outputId": "b90971ce-f705-496a-a084-f7908e884882"
      },
      "source": [
        "# elements의 곱\n",
        "s = np.prod(a)\n",
        "print(a)\n",
        "print(s)   # 24"
      ],
      "execution_count": null,
      "outputs": [
        {
          "output_type": "stream",
          "text": [
            "[[1 2]\n",
            " [3 4]]\n",
            "24\n"
          ],
          "name": "stdout"
        }
      ]
    },
    {
      "cell_type": "code",
      "metadata": {
        "id": "7Sw39PEBEEKE",
        "colab_type": "code",
        "colab": {}
      },
      "source": [
        "arr1 = np.random.randn(5,3)"
      ],
      "execution_count": null,
      "outputs": []
    },
    {
      "cell_type": "code",
      "metadata": {
        "id": "Fa-7II66EEKH",
        "colab_type": "code",
        "colab": {},
        "outputId": "ea12919c-9eac-42f2-b4eb-8faf3ca215d2"
      },
      "source": [
        "# 각 성분의 절대값 계산하기\n",
        "np.abs(arr1)"
      ],
      "execution_count": null,
      "outputs": [
        {
          "output_type": "execute_result",
          "data": {
            "text/plain": [
              "array([[0.10405546, 3.360357  , 1.07980831],\n",
              "       [0.85019664, 1.1209097 , 1.24791445],\n",
              "       [1.72303458, 1.1506982 , 1.95039133],\n",
              "       [0.76876797, 0.05307336, 0.09026195],\n",
              "       [1.40978709, 1.20881949, 0.82523759]])"
            ]
          },
          "metadata": {
            "tags": []
          },
          "execution_count": 396
        }
      ]
    },
    {
      "cell_type": "code",
      "metadata": {
        "id": "7zgKbMAbEEKJ",
        "colab_type": "code",
        "colab": {},
        "outputId": "66d9d073-b471-4e45-cc54-3c88141d6f00"
      },
      "source": [
        "# 평균 계산\n",
        "a = np.mean(arr1)\n",
        "# 행 간의 평균 계산\n",
        "b = np.mean(arr1, axis=0)\n",
        "# 전체 성분의 표준편차, 분산, 최소값, 최대값 계산(std, var, min, max)\n",
        "c = np.std(arr1)\n",
        "a, b, c"
      ],
      "execution_count": null,
      "outputs": [
        {
          "output_type": "execute_result",
          "data": {
            "text/plain": [
              "(-0.14845935863857243,\n",
              " array([-0.3235825 ,  0.44889905, -0.57069462]),\n",
              " 1.37848911555831)"
            ]
          },
          "metadata": {
            "tags": []
          },
          "execution_count": 397
        }
      ]
    },
    {
      "cell_type": "code",
      "metadata": {
        "id": "Zl0ciOu4EEKL",
        "colab_type": "code",
        "colab": {},
        "outputId": "ea315255-21c8-4217-eedf-f829bafcb4da"
      },
      "source": [
        "# 전체 성분의 최소값, 최대값이 위치한 인덱스를 반환(argmin, argmax)\n",
        "# 2차원 이상을 넣어도 1차원으로 해석하여 인덱스 반환\n",
        "# 후반 부에 더 자세히 다룰 예정\n",
        "arr1, np.argmin(arr1)"
      ],
      "execution_count": null,
      "outputs": [
        {
          "output_type": "execute_result",
          "data": {
            "text/plain": [
              "(array([[1, 2, 3],\n",
              "        [4, 5, 6],\n",
              "        [7, 8, 9]]),\n",
              " 0)"
            ]
          },
          "metadata": {
            "tags": []
          },
          "execution_count": 483
        }
      ]
    },
    {
      "cell_type": "code",
      "metadata": {
        "id": "7ZVlTvLvEEKN",
        "colab_type": "code",
        "colab": {},
        "outputId": "42ea4667-c4fa-4a38-c84d-c716d1c12ab5"
      },
      "source": [
        "# 각 성분의 제곱근 계산하기 ( == array ** 0.5)\n",
        "np.sqrt(arr1)\n",
        "# 각 성분의 제곱 계산하기\n",
        "np.square(arr1)\n",
        "# exponential\n",
        "np.exp(arr1)\n",
        "# 각 성분을 자연로그, 상용로그, 밑이 2인 로그를 씌운 값을 계산하기\n",
        "np.log(arr1)\n",
        "# 로그\n",
        "np.log10(arr1)\n",
        "np.log2(arr1)"
      ],
      "execution_count": null,
      "outputs": [
        {
          "output_type": "stream",
          "text": [
            "/home/kehyeong/miniconda3/envs/tf2/lib/python3.7/site-packages/ipykernel_launcher.py:2: RuntimeWarning: invalid value encountered in sqrt\n",
            "  \n",
            "/home/kehyeong/miniconda3/envs/tf2/lib/python3.7/site-packages/ipykernel_launcher.py:8: RuntimeWarning: invalid value encountered in log\n",
            "  \n",
            "/home/kehyeong/miniconda3/envs/tf2/lib/python3.7/site-packages/ipykernel_launcher.py:10: RuntimeWarning: invalid value encountered in log10\n",
            "  # Remove the CWD from sys.path while we load stuff.\n",
            "/home/kehyeong/miniconda3/envs/tf2/lib/python3.7/site-packages/ipykernel_launcher.py:11: RuntimeWarning: invalid value encountered in log2\n",
            "  # This is added back by InteractiveShellApp.init_path()\n"
          ],
          "name": "stderr"
        },
        {
          "output_type": "execute_result",
          "data": {
            "text/plain": [
              "array([[        nan,  1.74861451,  0.11077523],\n",
              "       [-0.23413155,         nan,         nan],\n",
              "       [        nan,         nan,         nan],\n",
              "       [-0.37937986,         nan, -3.46973826],\n",
              "       [        nan,  0.27359882,         nan]])"
            ]
          },
          "metadata": {
            "tags": []
          },
          "execution_count": 400
        }
      ]
    },
    {
      "cell_type": "code",
      "metadata": {
        "id": "eMoylf4aEEKP",
        "colab_type": "code",
        "colab": {},
        "outputId": "eca55fa1-6fda-4e3f-b994-ddf52c64b432"
      },
      "source": [
        "# 맨 처음 성분부터 각 성분까지의 누적합 또는 누적곱을 계산(cumsum, cumprod)\n",
        "arr1, np.cumsum(arr1)\n"
      ],
      "execution_count": null,
      "outputs": [
        {
          "output_type": "execute_result",
          "data": {
            "text/plain": [
              "(array([[-0.10405546,  3.360357  ,  1.07980831],\n",
              "        [ 0.85019664, -1.1209097 , -1.24791445],\n",
              "        [-1.72303458, -1.1506982 , -1.95039133],\n",
              "        [ 0.76876797, -0.05307336,  0.09026195],\n",
              "        [-1.40978709,  1.20881949, -0.82523759]]),\n",
              " array([-0.10405546,  3.25630154,  4.33610986,  5.18630649,  4.06539679,\n",
              "         2.81748235,  1.09444777, -0.05625043, -2.00664176, -1.23787379,\n",
              "        -1.29094714, -1.20068519, -2.61047228, -1.40165279, -2.22689038]))"
            ]
          },
          "metadata": {
            "tags": []
          },
          "execution_count": 401
        }
      ]
    },
    {
      "cell_type": "code",
      "metadata": {
        "id": "CN9GJY-ZEEKR",
        "colab_type": "code",
        "colab": {},
        "outputId": "b03fa2e6-f433-4ab9-d47a-425660629b99"
      },
      "source": [
        "# 각 성분의 부호 계산하기(+인 경우 1, -인 경우 -1, 0인 경우 0)\n",
        "sign_n = np.sign(arr1)\n",
        "# 각 성분의 소수 첫 번째 자리에서 올림한 값을 계산하기\n",
        "ceil_n = np.ceil(arr1)\n",
        "# 각 성분의 소수 첫 번째 자리에서 내림한 값을 계산하기\n",
        "floor_n = np.floor(arr1)\n",
        "arr1, sign_n, ceil_n,floor_n "
      ],
      "execution_count": null,
      "outputs": [
        {
          "output_type": "execute_result",
          "data": {
            "text/plain": [
              "(array([[-0.10405546,  3.360357  ,  1.07980831],\n",
              "        [ 0.85019664, -1.1209097 , -1.24791445],\n",
              "        [-1.72303458, -1.1506982 , -1.95039133],\n",
              "        [ 0.76876797, -0.05307336,  0.09026195],\n",
              "        [-1.40978709,  1.20881949, -0.82523759]]),\n",
              " array([[-1.,  1.,  1.],\n",
              "        [ 1., -1., -1.],\n",
              "        [-1., -1., -1.],\n",
              "        [ 1., -1.,  1.],\n",
              "        [-1.,  1., -1.]]),\n",
              " array([[-0.,  4.,  2.],\n",
              "        [ 1., -1., -1.],\n",
              "        [-1., -1., -1.],\n",
              "        [ 1., -0.,  1.],\n",
              "        [-1.,  2., -0.]]),\n",
              " array([[-1.,  3.,  1.],\n",
              "        [ 0., -2., -2.],\n",
              "        [-2., -2., -2.],\n",
              "        [ 0., -1.,  0.],\n",
              "        [-2.,  1., -1.]]))"
            ]
          },
          "metadata": {
            "tags": []
          },
          "execution_count": 402
        }
      ]
    },
    {
      "cell_type": "code",
      "metadata": {
        "id": "W6xVHiFTEEKT",
        "colab_type": "code",
        "colab": {},
        "outputId": "7f66e1b2-1d5d-4e3d-e2b8-04b029d008d7"
      },
      "source": [
        "# 각 성분이 NaN인 경우 True를, 아닌 경우 False를 반환하기\n",
        "np.isnan(arr1)"
      ],
      "execution_count": null,
      "outputs": [
        {
          "output_type": "execute_result",
          "data": {
            "text/plain": [
              "array([[False, False, False],\n",
              "       [False, False, False],\n",
              "       [False, False, False],\n",
              "       [False, False, False],\n",
              "       [False, False, False]])"
            ]
          },
          "metadata": {
            "tags": []
          },
          "execution_count": 403
        }
      ]
    },
    {
      "cell_type": "code",
      "metadata": {
        "id": "JwGZpPIiEEKV",
        "colab_type": "code",
        "colab": {},
        "outputId": "dd08fa62-56c5-40d5-9a0c-932bba4eb248"
      },
      "source": [
        "# 각 성분이 무한대인 경우 True를, 아닌 경우 False를 반환하기\n",
        "np.isinf(arr1)"
      ],
      "execution_count": null,
      "outputs": [
        {
          "output_type": "execute_result",
          "data": {
            "text/plain": [
              "array([[False, False, False],\n",
              "       [False, False, False],\n",
              "       [False, False, False],\n",
              "       [False, False, False],\n",
              "       [False, False, False]])"
            ]
          },
          "metadata": {
            "tags": []
          },
          "execution_count": 404
        }
      ]
    },
    {
      "cell_type": "markdown",
      "metadata": {
        "id": "Mc0KFf9TEEKW",
        "colab_type": "text"
      },
      "source": [
        "#### 2. 두 array에 적용하는 함수\n",
        "* 기본 산술\n",
        "* maximum, minimum\n",
        "* sort"
      ]
    },
    {
      "cell_type": "code",
      "metadata": {
        "id": "_ik2iQ-aEEKX",
        "colab_type": "code",
        "colab": {},
        "outputId": "2bbc7cb7-c4c6-4942-97c3-ac90e84f2f1d"
      },
      "source": [
        "arr2 = np.random.randn(5,3)\n",
        "arr1, arr2"
      ],
      "execution_count": null,
      "outputs": [
        {
          "output_type": "execute_result",
          "data": {
            "text/plain": [
              "(array([[-0.10405546,  3.360357  ,  1.07980831],\n",
              "        [ 0.85019664, -1.1209097 , -1.24791445],\n",
              "        [-1.72303458, -1.1506982 , -1.95039133],\n",
              "        [ 0.76876797, -0.05307336,  0.09026195],\n",
              "        [-1.40978709,  1.20881949, -0.82523759]]),\n",
              " array([[-2.55061578, -0.36514695, -0.3798087 ],\n",
              "        [ 1.54739923, -0.54644349,  0.03921579],\n",
              "        [-0.58934903,  0.52671801,  0.76604947],\n",
              "        [ 0.1890436 , -0.96474362, -0.3581364 ],\n",
              "        [-0.49921054, -0.1128461 , -0.42782355]]))"
            ]
          },
          "metadata": {
            "tags": []
          },
          "execution_count": 406
        }
      ]
    },
    {
      "cell_type": "code",
      "metadata": {
        "id": "YiKu8wJ9EEKY",
        "colab_type": "code",
        "colab": {},
        "outputId": "0b949258-9d59-4dc5-f290-9d182fc446fd"
      },
      "source": [
        "# 두 개의 array에 대해 동일한 위치의 성분끼리 연산 값을 계산하기(add, subtract, multiply, divide)\n",
        "# +, -, *, /를 해도 같은결과\n",
        "arr1 * arr2, np.multiply(arr1,arr2)"
      ],
      "execution_count": null,
      "outputs": [
        {
          "output_type": "execute_result",
          "data": {
            "text/plain": [
              "(array([[ 0.26540549, -1.2270241 , -0.41012059],\n",
              "        [ 1.31559362,  0.6125138 , -0.04893796],\n",
              "        [ 1.01546875, -0.60609347, -1.49409624],\n",
              "        [ 0.14533067,  0.05120218, -0.03232609],\n",
              "        [ 0.70378058, -0.13641057,  0.35305607]]),\n",
              " array([[ 0.26540549, -1.2270241 , -0.41012059],\n",
              "        [ 1.31559362,  0.6125138 , -0.04893796],\n",
              "        [ 1.01546875, -0.60609347, -1.49409624],\n",
              "        [ 0.14533067,  0.05120218, -0.03232609],\n",
              "        [ 0.70378058, -0.13641057,  0.35305607]]))"
            ]
          },
          "metadata": {
            "tags": []
          },
          "execution_count": 407
        }
      ]
    },
    {
      "cell_type": "code",
      "metadata": {
        "id": "ZO7yMra4EEKa",
        "colab_type": "code",
        "colab": {},
        "outputId": "ecf10a59-3203-479b-98fa-e95a123c620b"
      },
      "source": [
        "# 두 개의 array에 대해 동일한 위치의 성분끼리 비교하여 최대값 또는 최소값 계산하기(maximum, minimum)\n",
        "np.maximum(arr1,arr2)"
      ],
      "execution_count": null,
      "outputs": [
        {
          "output_type": "execute_result",
          "data": {
            "text/plain": [
              "array([[-0.10405546,  3.360357  ,  1.07980831],\n",
              "       [ 1.54739923, -0.54644349,  0.03921579],\n",
              "       [-0.58934903,  0.52671801,  0.76604947],\n",
              "       [ 0.76876797, -0.05307336,  0.09026195],\n",
              "       [-0.49921054,  1.20881949, -0.42782355]])"
            ]
          },
          "metadata": {
            "tags": []
          },
          "execution_count": 408
        }
      ]
    },
    {
      "cell_type": "code",
      "metadata": {
        "id": "-s0v_OqiEEKb",
        "colab_type": "code",
        "colab": {},
        "outputId": "240caa00-7405-482f-8389-1c7bc2cc94d8"
      },
      "source": [
        "# 오름 차순 정렬, 기본 axis = -1\n",
        "arr1, np.sort(arr1)"
      ],
      "execution_count": null,
      "outputs": [
        {
          "output_type": "execute_result",
          "data": {
            "text/plain": [
              "(array([[-0.10405546,  3.360357  ,  1.07980831],\n",
              "        [ 0.85019664, -1.1209097 , -1.24791445],\n",
              "        [-1.72303458, -1.1506982 , -1.95039133],\n",
              "        [ 0.76876797, -0.05307336,  0.09026195],\n",
              "        [-1.40978709,  1.20881949, -0.82523759]]),\n",
              " array([[-0.10405546,  1.07980831,  3.360357  ],\n",
              "        [-1.24791445, -1.1209097 ,  0.85019664],\n",
              "        [-1.95039133, -1.72303458, -1.1506982 ],\n",
              "        [-0.05307336,  0.09026195,  0.76876797],\n",
              "        [-1.40978709, -0.82523759,  1.20881949]]))"
            ]
          },
          "metadata": {
            "tags": []
          },
          "execution_count": 410
        }
      ]
    },
    {
      "cell_type": "code",
      "metadata": {
        "id": "AcZ-wWUPEEKf",
        "colab_type": "code",
        "colab": {},
        "outputId": "d3d44708-e2df-41e8-f0f9-4fd42c1aefd1"
      },
      "source": [
        "# 열 방향 오름차순 정렬\n",
        "np.sort(arr1, axis=0)"
      ],
      "execution_count": null,
      "outputs": [
        {
          "output_type": "execute_result",
          "data": {
            "text/plain": [
              "array([[-1.72303458, -1.1506982 , -1.95039133],\n",
              "       [-1.40978709, -1.1209097 , -1.24791445],\n",
              "       [-0.10405546, -0.05307336, -0.82523759],\n",
              "       [ 0.76876797,  1.20881949,  0.09026195],\n",
              "       [ 0.85019664,  3.360357  ,  1.07980831]])"
            ]
          },
          "metadata": {
            "tags": []
          },
          "execution_count": 411
        }
      ]
    },
    {
      "cell_type": "markdown",
      "metadata": {
        "id": "fv1h4PEFEEKg",
        "colab_type": "text"
      },
      "source": [
        "### 브로드캐스트\n",
        "array가 같은 크기를 가져야 서로 연산이 가능하다고 했지만,\n",
        "\n",
        "numpy에서는 브로드캐스트라는 기능을 제공한다.\n",
        "\n",
        "브로드캐스트란, 서로 크기가 다른 array가 연산이 가능하게끔 하는 것이다.\n",
        "\n",
        "\n",
        "\n",
        "출처: https://doorbw.tistory.com/171 [Tigercow.Door]"
      ]
    },
    {
      "cell_type": "code",
      "metadata": {
        "id": "xeVgLy97EEKi",
        "colab_type": "code",
        "colab": {},
        "outputId": "0576519a-6021-44e4-b304-000143ec90c6"
      },
      "source": [
        "arr1 = np.array([[1,2,3],[4,5,6]])\n",
        "arr3 = np.array([10,11,12])\n",
        "print(arr1.shape, arr3.shape)\n",
        "arr1, arr3"
      ],
      "execution_count": null,
      "outputs": [
        {
          "output_type": "stream",
          "text": [
            "(2, 3) (3,)\n"
          ],
          "name": "stdout"
        },
        {
          "output_type": "execute_result",
          "data": {
            "text/plain": [
              "(array([[1, 2, 3],\n",
              "        [4, 5, 6]]),\n",
              " array([10, 11, 12]))"
            ]
          },
          "metadata": {
            "tags": []
          },
          "execution_count": 412
        }
      ]
    },
    {
      "cell_type": "code",
      "metadata": {
        "id": "8oQyZtowEEKk",
        "colab_type": "code",
        "colab": {},
        "outputId": "71643717-c5a5-4c21-8af6-01b0a62558e0"
      },
      "source": [
        "arr1 + arr3"
      ],
      "execution_count": null,
      "outputs": [
        {
          "output_type": "execute_result",
          "data": {
            "text/plain": [
              "array([[11, 13, 15],\n",
              "       [14, 16, 18]])"
            ]
          },
          "metadata": {
            "tags": []
          },
          "execution_count": 413
        }
      ]
    },
    {
      "cell_type": "code",
      "metadata": {
        "id": "GIekiwjJEEKl",
        "colab_type": "code",
        "colab": {},
        "outputId": "72c35dc0-0eb6-47e9-a7ff-e916ad865a8b"
      },
      "source": [
        "arr1 * arr3"
      ],
      "execution_count": null,
      "outputs": [
        {
          "output_type": "execute_result",
          "data": {
            "text/plain": [
              "array([[10, 22, 36],\n",
              "       [40, 55, 72]])"
            ]
          },
          "metadata": {
            "tags": []
          },
          "execution_count": 414
        }
      ]
    },
    {
      "cell_type": "markdown",
      "metadata": {
        "id": "1_JbW9MnEEKo",
        "colab_type": "text"
      },
      "source": [
        "스칼라 연산 브로드캐스팅도 가능"
      ]
    },
    {
      "cell_type": "code",
      "metadata": {
        "id": "u3tLO6fhEEKo",
        "colab_type": "code",
        "colab": {},
        "outputId": "5d4e3c05-dfc6-4b49-e773-43a24d9ffc5c"
      },
      "source": [
        "arr1 * 10"
      ],
      "execution_count": null,
      "outputs": [
        {
          "output_type": "execute_result",
          "data": {
            "text/plain": [
              "array([[10, 20, 30],\n",
              "       [40, 50, 60]])"
            ]
          },
          "metadata": {
            "tags": []
          },
          "execution_count": 415
        }
      ]
    },
    {
      "cell_type": "code",
      "metadata": {
        "id": "rxkmsgZPEEKq",
        "colab_type": "code",
        "colab": {},
        "outputId": "3c2bb907-5fd4-4720-8b5a-1badc104f808"
      },
      "source": [
        "# 요소에 대해 제곱처리\n",
        "arr1 ** 2"
      ],
      "execution_count": null,
      "outputs": [
        {
          "output_type": "execute_result",
          "data": {
            "text/plain": [
              "array([[ 1,  4,  9],\n",
              "       [16, 25, 36]])"
            ]
          },
          "metadata": {
            "tags": []
          },
          "execution_count": 416
        }
      ]
    },
    {
      "cell_type": "markdown",
      "metadata": {
        "id": "0_k8RL8jEEKs",
        "colab_type": "text"
      },
      "source": [
        "브로드캐스팅의 기본 개념을 알았다면 boolean mask로 올라가 응용을 살펴 본다."
      ]
    },
    {
      "cell_type": "code",
      "metadata": {
        "id": "G6TsSh8VEEKs",
        "colab_type": "code",
        "colab": {}
      },
      "source": [
        ""
      ],
      "execution_count": null,
      "outputs": []
    },
    {
      "cell_type": "markdown",
      "metadata": {
        "id": "_KYwbOpBEEKt",
        "colab_type": "text"
      },
      "source": [
        "### np도 python처럼 집합(set)이 있음. \n",
        "* unique(x): 유니크 원소\n",
        "* intersect1d(x, y): 교집합 원소\n",
        "* union1d(x, y): 합집합 원소\n",
        "* in1d(x, y): x의 각 원소가 y와 동일한지 boolean\n",
        "* setdiff1d(x, y): 차집합\n",
        "* setxor1d(x, y): x, y합집합에서 교집합을 뺀 대칭 차집합\n",
        "\n",
        "출처: https://rfriend.tistory.com/355?category=675917"
      ]
    },
    {
      "cell_type": "code",
      "metadata": {
        "id": "DtPT-Z-GEEKt",
        "colab_type": "code",
        "colab": {}
      },
      "source": [
        "x = np.array([1, 2, 3, 1, 2, 4])\n",
        "y = np.array([3, 4, 6, 5])"
      ],
      "execution_count": null,
      "outputs": []
    },
    {
      "cell_type": "code",
      "metadata": {
        "id": "EffrFN15EEKv",
        "colab_type": "code",
        "colab": {},
        "outputId": "1d1cbb7e-ea11-4719-ec60-87ac6a5583e9"
      },
      "source": [
        "np.unique(x)"
      ],
      "execution_count": null,
      "outputs": [
        {
          "output_type": "execute_result",
          "data": {
            "text/plain": [
              "array([1, 2, 3, 4])"
            ]
          },
          "metadata": {
            "tags": []
          },
          "execution_count": 434
        }
      ]
    },
    {
      "cell_type": "code",
      "metadata": {
        "id": "lKhVTCdDEEKx",
        "colab_type": "code",
        "colab": {},
        "outputId": "05cf3917-cc9b-4fd2-e6d0-a530860b8a07"
      },
      "source": [
        "# 교집합\n",
        "np.intersect1d(x, y)"
      ],
      "execution_count": null,
      "outputs": [
        {
          "output_type": "execute_result",
          "data": {
            "text/plain": [
              "array([3, 4])"
            ]
          },
          "metadata": {
            "tags": []
          },
          "execution_count": 435
        }
      ]
    },
    {
      "cell_type": "code",
      "metadata": {
        "id": "TDjHBq0DEEKy",
        "colab_type": "code",
        "colab": {},
        "outputId": "a5c150f5-85f3-4a17-fc2a-b2dc93bde7ab"
      },
      "source": [
        "# 합집합\n",
        "np.union1d(x, y)"
      ],
      "execution_count": null,
      "outputs": [
        {
          "output_type": "execute_result",
          "data": {
            "text/plain": [
              "array([1, 2, 3, 4, 5, 6])"
            ]
          },
          "metadata": {
            "tags": []
          },
          "execution_count": 436
        }
      ]
    },
    {
      "cell_type": "code",
      "metadata": {
        "id": "Lv5IOT-lEEKz",
        "colab_type": "code",
        "colab": {},
        "outputId": "1ad2b785-771d-4eea-80b9-b8e0146cb0cc"
      },
      "source": [
        "# x의 각 원소들을 대상으로 y에도 있는지\n",
        "np.in1d(x, y)"
      ],
      "execution_count": null,
      "outputs": [
        {
          "output_type": "execute_result",
          "data": {
            "text/plain": [
              "array([False, False,  True, False, False,  True])"
            ]
          },
          "metadata": {
            "tags": []
          },
          "execution_count": 437
        }
      ]
    },
    {
      "cell_type": "code",
      "metadata": {
        "id": "bJmAb5XLEEK0",
        "colab_type": "code",
        "colab": {},
        "outputId": "d6060193-a01d-41ce-e76e-944441fa15c4"
      },
      "source": [
        "# 차집합\n",
        "np.setdiff1d(x, y)"
      ],
      "execution_count": null,
      "outputs": [
        {
          "output_type": "execute_result",
          "data": {
            "text/plain": [
              "array([1, 2])"
            ]
          },
          "metadata": {
            "tags": []
          },
          "execution_count": 438
        }
      ]
    },
    {
      "cell_type": "code",
      "metadata": {
        "id": "JInTa9jkEEK3",
        "colab_type": "code",
        "colab": {},
        "outputId": "b121a719-fa45-4954-dfc3-677a1bb2ded1"
      },
      "source": [
        "# 대칭 차집합\n",
        "np.setxor1d(x, y)"
      ],
      "execution_count": null,
      "outputs": [
        {
          "output_type": "execute_result",
          "data": {
            "text/plain": [
              "array([1, 2, 5, 6])"
            ]
          },
          "metadata": {
            "tags": []
          },
          "execution_count": 439
        }
      ]
    },
    {
      "cell_type": "markdown",
      "metadata": {
        "id": "maFbkrKNEEK5",
        "colab_type": "text"
      },
      "source": [
        "### np배열의 데이터 비교 방법\n",
        "* any : 배열의 데이터중 조건과 맞는 데이터 있다면 T\n",
        "* all : 배열의 모든 데이터가 조건에 맞으면 T\n",
        "* where : 조건이 맞을 때의 출력값 지정(if 문과 닮음)\n",
        "* isnan\n",
        "* argmax\n",
        "* argmin\n",
        "\n",
        "출처 : https://nov19.tistory.com/106"
      ]
    },
    {
      "cell_type": "code",
      "metadata": {
        "id": "_QN8C2E3EEK7",
        "colab_type": "code",
        "colab": {},
        "outputId": "c0cbd5b8-3163-48a5-cf2f-df3d43139f7f"
      },
      "source": [
        "# 배열이 shape이 (일부라도) 같으면 비교 연산자 가능\n",
        "arr1 = np.array([[1, 2, 3], [4, 5, 6], [7, 8, 9]])\n",
        "arr2 = np.array([[1, 2, 3], [1, 5, 7], [6, 8, 9]])\n",
        "arr1 == arr2"
      ],
      "execution_count": null,
      "outputs": [
        {
          "output_type": "execute_result",
          "data": {
            "text/plain": [
              "array([[ True,  True,  True],\n",
              "       [False,  True, False],\n",
              "       [False,  True,  True]])"
            ]
          },
          "metadata": {
            "tags": []
          },
          "execution_count": 475
        }
      ]
    },
    {
      "cell_type": "code",
      "metadata": {
        "id": "UxCVE23hEEK9",
        "colab_type": "code",
        "colab": {},
        "outputId": "5912457c-267b-45b6-b169-8f1f78c5c56b"
      },
      "source": [
        "arr3 = np.array([1, 2, 3])\n",
        "arr1 == arr3"
      ],
      "execution_count": null,
      "outputs": [
        {
          "output_type": "execute_result",
          "data": {
            "text/plain": [
              "array([[ True,  True,  True],\n",
              "       [False, False, False],\n",
              "       [False, False, False]])"
            ]
          },
          "metadata": {
            "tags": []
          },
          "execution_count": 476
        }
      ]
    },
    {
      "cell_type": "code",
      "metadata": {
        "id": "MElVx883EEK-",
        "colab_type": "code",
        "colab": {},
        "outputId": "0822bb5c-6d26-459a-9d92-1656d8332282"
      },
      "source": [
        "# 응용 \n",
        "(arr1 < arr2).any(), (arr1 > arr2).all()"
      ],
      "execution_count": null,
      "outputs": [
        {
          "output_type": "execute_result",
          "data": {
            "text/plain": [
              "(True, False)"
            ]
          },
          "metadata": {
            "tags": []
          },
          "execution_count": 479
        }
      ]
    },
    {
      "cell_type": "code",
      "metadata": {
        "id": "zidYrzYYEEK_",
        "colab_type": "code",
        "colab": {},
        "outputId": "bcd86e95-5d7d-4109-ccbe-b8d5dab59a8d"
      },
      "source": [
        "# 3차원에 한번 더 응용\n",
        "arr_random = np.random.randint(255, size=(3, 3, 3))\n",
        "arr_random"
      ],
      "execution_count": null,
      "outputs": [
        {
          "output_type": "execute_result",
          "data": {
            "text/plain": [
              "array([[[137, 137, 150],\n",
              "        [ 32, 235, 215],\n",
              "        [ 57, 174,   9]],\n",
              "\n",
              "       [[129, 213,  67],\n",
              "        [194, 202,  61],\n",
              "        [188, 174, 107]],\n",
              "\n",
              "       [[ 92,  13,  18],\n",
              "        [208,  16, 211],\n",
              "        [159,  84, 219]]])"
            ]
          },
          "metadata": {
            "tags": []
          },
          "execution_count": 480
        }
      ]
    },
    {
      "cell_type": "code",
      "metadata": {
        "id": "PN90OvvWEELB",
        "colab_type": "code",
        "colab": {}
      },
      "source": [
        "arr_flatten = arr_random.ravel()"
      ],
      "execution_count": null,
      "outputs": []
    },
    {
      "cell_type": "code",
      "metadata": {
        "id": "N2WRFL9tEELC",
        "colab_type": "code",
        "colab": {},
        "outputId": "492b67c2-92f0-47fe-f365-0216f2b8aa7a"
      },
      "source": [
        "# 마지막 차원은 지정을 생략해도 된다.\n",
        "arr_random[0:2, 0:2], arr_random[0:2, 0:2, :]"
      ],
      "execution_count": null,
      "outputs": [
        {
          "output_type": "execute_result",
          "data": {
            "text/plain": [
              "(array([[[137, 137, 150],\n",
              "         [ 32, 235, 215]],\n",
              " \n",
              "        [[129, 213,  67],\n",
              "         [194, 202,  61]]]),\n",
              " array([[[137, 137, 150],\n",
              "         [ 32, 235, 215]],\n",
              " \n",
              "        [[129, 213,  67],\n",
              "         [194, 202,  61]]]))"
            ]
          },
          "metadata": {
            "tags": []
          },
          "execution_count": 482
        }
      ]
    },
    {
      "cell_type": "code",
      "metadata": {
        "id": "kCS9KJvHEELD",
        "colab_type": "code",
        "colab": {}
      },
      "source": [
        ""
      ],
      "execution_count": null,
      "outputs": []
    },
    {
      "cell_type": "markdown",
      "metadata": {
        "id": "R4jVMnPwEELF",
        "colab_type": "text"
      },
      "source": [
        "#### any : element가 하나라도 조건 맞으면 T"
      ]
    },
    {
      "cell_type": "code",
      "metadata": {
        "id": "m2qgDFbmEELF",
        "colab_type": "code",
        "colab": {},
        "outputId": "232c49cf-7ceb-475a-ba18-bbf8a24c42fd"
      },
      "source": [
        "arr = np.array([[1, 2, 3], [4, 5, 6], [7, 8, 9]])\n",
        "arr"
      ],
      "execution_count": null,
      "outputs": [
        {
          "output_type": "execute_result",
          "data": {
            "text/plain": [
              "array([[1, 2, 3],\n",
              "       [4, 5, 6],\n",
              "       [7, 8, 9]])"
            ]
          },
          "metadata": {
            "tags": []
          },
          "execution_count": 443
        }
      ]
    },
    {
      "cell_type": "code",
      "metadata": {
        "id": "aTtRXA6cEELG",
        "colab_type": "code",
        "colab": {},
        "outputId": "b10b37b2-9fef-45f6-a350-2a61099b2e87"
      },
      "source": [
        "np.any(arr > 5)"
      ],
      "execution_count": null,
      "outputs": [
        {
          "output_type": "execute_result",
          "data": {
            "text/plain": [
              "True"
            ]
          },
          "metadata": {
            "tags": []
          },
          "execution_count": 444
        }
      ]
    },
    {
      "cell_type": "code",
      "metadata": {
        "id": "j7FJOS7SEELJ",
        "colab_type": "code",
        "colab": {}
      },
      "source": [
        ""
      ],
      "execution_count": null,
      "outputs": []
    },
    {
      "cell_type": "code",
      "metadata": {
        "id": "BIPtAeh0EELK",
        "colab_type": "code",
        "colab": {},
        "outputId": "6f1019ba-42ba-425b-a2df-ca30694a17e7"
      },
      "source": [
        "# 축을 설정 : 0이라면?\n",
        "np.any(arr> 5, axis=0)"
      ],
      "execution_count": null,
      "outputs": [
        {
          "output_type": "execute_result",
          "data": {
            "text/plain": [
              "array([ True,  True,  True])"
            ]
          },
          "metadata": {
            "tags": []
          },
          "execution_count": 445
        }
      ]
    },
    {
      "cell_type": "code",
      "metadata": {
        "id": "GbgPERXzEELL",
        "colab_type": "code",
        "colab": {},
        "outputId": "71cb75ac-336d-4de1-ecc1-30078b9e45bf"
      },
      "source": [
        "# 축을 설정 : 1이라면?\n",
        "np.any(arr>5, axis=1)"
      ],
      "execution_count": null,
      "outputs": [
        {
          "output_type": "execute_result",
          "data": {
            "text/plain": [
              "array([False,  True,  True])"
            ]
          },
          "metadata": {
            "tags": []
          },
          "execution_count": 446
        }
      ]
    },
    {
      "cell_type": "markdown",
      "metadata": {
        "id": "Tej23IjREELM",
        "colab_type": "text"
      },
      "source": [
        "즉, 열로 검사해서 하나의 열이라도 True면 T"
      ]
    },
    {
      "cell_type": "code",
      "metadata": {
        "id": "U3R_yy7PEELN",
        "colab_type": "code",
        "colab": {}
      },
      "source": [
        ""
      ],
      "execution_count": null,
      "outputs": []
    },
    {
      "cell_type": "markdown",
      "metadata": {
        "id": "-qmGVIJ0EELQ",
        "colab_type": "text"
      },
      "source": [
        "#### all : 모든 데이터가 조건과 맞아야 T"
      ]
    },
    {
      "cell_type": "code",
      "metadata": {
        "id": "zQztVCUOEELQ",
        "colab_type": "code",
        "colab": {},
        "outputId": "6d979aba-a306-476f-b8f8-20baa12c9726"
      },
      "source": [
        "np.all(arr > 5)"
      ],
      "execution_count": null,
      "outputs": [
        {
          "output_type": "execute_result",
          "data": {
            "text/plain": [
              "False"
            ]
          },
          "metadata": {
            "tags": []
          },
          "execution_count": 447
        }
      ]
    },
    {
      "cell_type": "code",
      "metadata": {
        "id": "AukHPzBzEELT",
        "colab_type": "code",
        "colab": {},
        "outputId": "b3b33a78-ae2c-40e7-f1c5-61e4e6373706"
      },
      "source": [
        "np.all(arr>5, axis=0)"
      ],
      "execution_count": null,
      "outputs": [
        {
          "output_type": "execute_result",
          "data": {
            "text/plain": [
              "array([False, False, False])"
            ]
          },
          "metadata": {
            "tags": []
          },
          "execution_count": 450
        }
      ]
    },
    {
      "cell_type": "markdown",
      "metadata": {
        "id": "uQWnxspEEELV",
        "colab_type": "text"
      },
      "source": [
        "Quiz : array구성이 아래와 같다면  결과는?\n",
        "[[6 6 6][4 4 4][8 8 8]]"
      ]
    },
    {
      "cell_type": "code",
      "metadata": {
        "id": "nePt8fpOEELW",
        "colab_type": "code",
        "colab": {},
        "outputId": "0097d0b1-72e6-4ad7-f3fa-1db379b176af"
      },
      "source": [
        "arr_tmp = np.array([[6, 6, 6], [4, 4, 4], [8, 8, 8]])\n",
        "np.all(arr>5, axis=0)"
      ],
      "execution_count": null,
      "outputs": [
        {
          "output_type": "execute_result",
          "data": {
            "text/plain": [
              "array([False, False, False])"
            ]
          },
          "metadata": {
            "tags": []
          },
          "execution_count": 452
        }
      ]
    },
    {
      "cell_type": "code",
      "metadata": {
        "id": "QoF3U59oEELX",
        "colab_type": "code",
        "colab": {},
        "outputId": "093e7cfd-387c-43f3-bde9-06f8e30dfa7c"
      },
      "source": [
        "np.all(arr>5, axis=1)"
      ],
      "execution_count": null,
      "outputs": [
        {
          "output_type": "execute_result",
          "data": {
            "text/plain": [
              "array([False, False,  True])"
            ]
          },
          "metadata": {
            "tags": []
          },
          "execution_count": 453
        }
      ]
    },
    {
      "cell_type": "code",
      "metadata": {
        "id": "vccoxfK1EELY",
        "colab_type": "code",
        "colab": {},
        "outputId": "1295cfb9-f7f5-4d05-91f3-f87927e14b14"
      },
      "source": [
        "# 3차원 이미지 예제에 응용\n",
        "arr_random = np.random.randint(255, size=(3, 3, 3))\n",
        "arr_random"
      ],
      "execution_count": null,
      "outputs": [
        {
          "output_type": "execute_result",
          "data": {
            "text/plain": [
              "array([[[ 72,  39,  52],\n",
              "        [165, 230, 230],\n",
              "        [159,  91,  36]],\n",
              "\n",
              "       [[166,  59,  78],\n",
              "        [101,  37,  53],\n",
              "        [130, 193, 241]],\n",
              "\n",
              "       [[130, 106, 229],\n",
              "        [ 19, 169, 136],\n",
              "        [101, 121, 171]]])"
            ]
          },
          "metadata": {
            "tags": []
          },
          "execution_count": 454
        }
      ]
    },
    {
      "cell_type": "code",
      "metadata": {
        "id": "WYqj9oZdEELa",
        "colab_type": "code",
        "colab": {},
        "outputId": "06cffbc8-67c1-47fb-c9e5-06a893e6b6dc"
      },
      "source": [
        "np.all(arr_random > 50, axis=-1)"
      ],
      "execution_count": null,
      "outputs": [
        {
          "output_type": "execute_result",
          "data": {
            "text/plain": [
              "array([[False,  True, False],\n",
              "       [ True, False,  True],\n",
              "       [ True, False,  True]])"
            ]
          },
          "metadata": {
            "tags": []
          },
          "execution_count": 456
        }
      ]
    },
    {
      "cell_type": "code",
      "metadata": {
        "id": "vlPnHNdPEELb",
        "colab_type": "code",
        "colab": {},
        "outputId": "4bf3823f-a889-4d19-c4e6-01a742f68538"
      },
      "source": [
        "np.all(arr_random > 50, axis=0)"
      ],
      "execution_count": null,
      "outputs": [
        {
          "output_type": "execute_result",
          "data": {
            "text/plain": [
              "array([[ True, False,  True],\n",
              "       [False, False,  True],\n",
              "       [ True,  True, False]])"
            ]
          },
          "metadata": {
            "tags": []
          },
          "execution_count": 457
        }
      ]
    },
    {
      "cell_type": "code",
      "metadata": {
        "id": "DgX7P1IUEELc",
        "colab_type": "code",
        "colab": {},
        "outputId": "7a5f53e1-6fbd-43f6-feb0-8b9a88a4013b"
      },
      "source": [
        "# 응용 : scalar아닌 벡터 비교\n",
        "np.all(arr_random > [20, 40, 80], axis=-1)"
      ],
      "execution_count": null,
      "outputs": [
        {
          "output_type": "execute_result",
          "data": {
            "text/plain": [
              "array([[False,  True, False],\n",
              "       [False, False,  True],\n",
              "       [ True, False,  True]])"
            ]
          },
          "metadata": {
            "tags": []
          },
          "execution_count": 458
        }
      ]
    },
    {
      "cell_type": "code",
      "metadata": {
        "id": "-G8kjJcXEELe",
        "colab_type": "code",
        "colab": {},
        "outputId": "f2d6be21-aea9-4555-c9c0-21b688033796"
      },
      "source": [
        "arr_random > [20, 40, 80]"
      ],
      "execution_count": null,
      "outputs": [
        {
          "output_type": "execute_result",
          "data": {
            "text/plain": [
              "array([[[ True, False, False],\n",
              "        [ True,  True,  True],\n",
              "        [ True,  True, False]],\n",
              "\n",
              "       [[ True,  True, False],\n",
              "        [ True, False, False],\n",
              "        [ True,  True,  True]],\n",
              "\n",
              "       [[ True,  True,  True],\n",
              "        [False,  True,  True],\n",
              "        [ True,  True,  True]]])"
            ]
          },
          "metadata": {
            "tags": []
          },
          "execution_count": 459
        }
      ]
    },
    {
      "cell_type": "code",
      "metadata": {
        "id": "fJf4y3xtEELf",
        "colab_type": "code",
        "colab": {},
        "outputId": "a685c65b-ec79-4323-b870-d33a313c3be1"
      },
      "source": [
        "# 참고. 헷갈리면 패스(조건문과 indexing은 다른 개념)\n",
        "arr_random[np.array([True, True, False])]"
      ],
      "execution_count": null,
      "outputs": [
        {
          "output_type": "execute_result",
          "data": {
            "text/plain": [
              "array([[[ 72,  39,  52],\n",
              "        [165, 230, 230],\n",
              "        [159,  91,  36]],\n",
              "\n",
              "       [[166,  59,  78],\n",
              "        [101,  37,  53],\n",
              "        [130, 193, 241]]])"
            ]
          },
          "metadata": {
            "tags": []
          },
          "execution_count": 470
        }
      ]
    },
    {
      "cell_type": "code",
      "metadata": {
        "id": "kTmUz54y3cEb",
        "colab_type": "code",
        "colab": {}
      },
      "source": [
        "arr_random[np.array([[True, True, False], [True, True, False], [True, True, False]])]"
      ],
      "execution_count": null,
      "outputs": []
    },
    {
      "cell_type": "code",
      "metadata": {
        "id": "qQ_xG-pPEELg",
        "colab_type": "code",
        "colab": {}
      },
      "source": [
        ""
      ],
      "execution_count": null,
      "outputs": []
    },
    {
      "cell_type": "code",
      "metadata": {
        "id": "srsUMJfREELh",
        "colab_type": "code",
        "colab": {},
        "outputId": "b86782c1-a169-4f5c-8953-1bc776b3c58a"
      },
      "source": [
        "# ravel : flatten, 1차원 배열로 바꿈\n",
        "arr_flatten = arr_random.ravel()\n",
        "arr_flatten\n"
      ],
      "execution_count": null,
      "outputs": [
        {
          "output_type": "execute_result",
          "data": {
            "text/plain": [
              "array([ 72,  39,  52, 165, 230, 230, 159,  91,  36, 166,  59,  78, 101,\n",
              "        37,  53, 130, 193, 241, 130, 106, 229,  19, 169, 136, 101, 121,\n",
              "       171])"
            ]
          },
          "metadata": {
            "tags": []
          },
          "execution_count": 471
        }
      ]
    },
    {
      "cell_type": "code",
      "metadata": {
        "id": "Ux9mxyf9EELj",
        "colab_type": "code",
        "colab": {},
        "outputId": "ee8de717-fc7d-4059-f4d5-0b3ad4bb6f81"
      },
      "source": [
        "np.all(arr_flatten > 50, axis=0)"
      ],
      "execution_count": null,
      "outputs": [
        {
          "output_type": "execute_result",
          "data": {
            "text/plain": [
              "False"
            ]
          },
          "metadata": {
            "tags": []
          },
          "execution_count": 472
        }
      ]
    },
    {
      "cell_type": "code",
      "metadata": {
        "id": "0DPix2f0EELp",
        "colab_type": "code",
        "colab": {},
        "outputId": "19eb68fb-30dc-488f-f7b9-a3ec994cdce9"
      },
      "source": [
        "np.all([arr_flatten>50, arr_flatten<100], axis=0)"
      ],
      "execution_count": null,
      "outputs": [
        {
          "output_type": "execute_result",
          "data": {
            "text/plain": [
              "array([ True, False,  True, False, False, False, False,  True, False,\n",
              "       False,  True,  True, False, False,  True, False, False, False,\n",
              "       False, False, False, False, False, False, False, False, False])"
            ]
          },
          "metadata": {
            "tags": []
          },
          "execution_count": 473
        }
      ]
    },
    {
      "cell_type": "code",
      "metadata": {
        "id": "JWWDB8b6EELq",
        "colab_type": "code",
        "colab": {},
        "outputId": "dc483dfb-0497-4e2b-de30-7c53ac7fd1a2"
      },
      "source": [
        "[arr_flatten > 50, arr_flatten < 100]"
      ],
      "execution_count": null,
      "outputs": [
        {
          "output_type": "execute_result",
          "data": {
            "text/plain": [
              "[array([ True, False,  True,  True,  True,  True,  True,  True, False,\n",
              "         True,  True,  True,  True, False,  True,  True,  True,  True,\n",
              "         True,  True,  True, False,  True,  True,  True,  True,  True]),\n",
              " array([ True,  True,  True, False, False, False, False,  True,  True,\n",
              "        False,  True,  True, False,  True,  True, False, False, False,\n",
              "        False, False, False,  True, False, False, False, False, False])]"
            ]
          },
          "metadata": {
            "tags": []
          },
          "execution_count": 474
        }
      ]
    },
    {
      "cell_type": "code",
      "metadata": {
        "id": "StQ-c_6SEELs",
        "colab_type": "code",
        "colab": {}
      },
      "source": [
        ""
      ],
      "execution_count": null,
      "outputs": []
    },
    {
      "cell_type": "code",
      "metadata": {
        "id": "-IywgbupEELu",
        "colab_type": "code",
        "colab": {}
      },
      "source": [
        ""
      ],
      "execution_count": null,
      "outputs": []
    },
    {
      "cell_type": "markdown",
      "metadata": {
        "id": "FnpuvY_HEELz",
        "colab_type": "text"
      },
      "source": [
        "### where : if와 같이 True일때 출력을 지정가능\n",
        "조건만 쓰면 조건에 맞는 인덱스 반황"
      ]
    },
    {
      "cell_type": "code",
      "metadata": {
        "id": "dXYW3NMIEELz",
        "colab_type": "code",
        "colab": {},
        "outputId": "6f32e22c-e442-4ee9-9073-e79a700d0647"
      },
      "source": [
        "arr = np.array([[1, 2, 3],\n",
        "                [4, 5, 6],\n",
        "                [7, 8, 9]])\n",
        "np.where(arr > 4, arr, 0)"
      ],
      "execution_count": null,
      "outputs": [
        {
          "output_type": "execute_result",
          "data": {
            "text/plain": [
              "array([[0, 0, 0],\n",
              "       [0, 5, 6],\n",
              "       [7, 8, 9]])"
            ]
          },
          "metadata": {
            "tags": []
          },
          "execution_count": 484
        }
      ]
    },
    {
      "cell_type": "code",
      "metadata": {
        "id": "cLYm13gBEEL0",
        "colab_type": "code",
        "colab": {},
        "outputId": "08a6caad-f856-427c-dbbc-719ed62b06ca"
      },
      "source": [
        "# 조건만 쓰면 조건에 맞는 데이터의 인덱스 반환\n",
        "np.where(arr > 4)"
      ],
      "execution_count": null,
      "outputs": [
        {
          "output_type": "execute_result",
          "data": {
            "text/plain": [
              "(array([1, 1, 2, 2, 2]), array([1, 2, 0, 1, 2]))"
            ]
          },
          "metadata": {
            "tags": []
          },
          "execution_count": 485
        }
      ]
    },
    {
      "cell_type": "markdown",
      "metadata": {
        "id": "e8Iwns4mEEL1",
        "colab_type": "text"
      },
      "source": [
        "반환되는 튜플에서 첫번째 요소인 [1, 1, 2, 2, 2]는 행\n",
        "\n",
        "반환되는 튜플에서 두번째 요소인 [1, 2, 0, 1, 2]는 열\n",
        "\n",
        "즉 (1,1), (1,2), (2,0), (2,1), (2,2) 인덱스의 요소가 4보다 큰 데이터임을 나타냄"
      ]
    },
    {
      "cell_type": "code",
      "metadata": {
        "id": "4qHUuYR8EEL1",
        "colab_type": "code",
        "colab": {}
      },
      "source": [
        ""
      ],
      "execution_count": null,
      "outputs": []
    },
    {
      "cell_type": "markdown",
      "metadata": {
        "id": "hx_-FmyQEEL2",
        "colab_type": "text"
      },
      "source": [
        "#### argmin, argmax : 최소 혹은 최대 element의 인덱스를 반환\n",
        "축설정에 따른 해석이 조금 달라짐(축이 헷갈리고 어려우나 차근차근히)"
      ]
    },
    {
      "cell_type": "code",
      "metadata": {
        "id": "5PFpiJIKEEL3",
        "colab_type": "code",
        "colab": {},
        "outputId": "a66058e2-ae45-48e2-fb22-28541d9d8d58"
      },
      "source": [
        "# 이차원 행렬에서,\n",
        "arr = np.array([[10, 2, 3],\n",
        "                [4, 50, 6]])\n",
        "np.argmax(arr)"
      ],
      "execution_count": null,
      "outputs": [
        {
          "output_type": "execute_result",
          "data": {
            "text/plain": [
              "4"
            ]
          },
          "metadata": {
            "tags": []
          },
          "execution_count": 486
        }
      ]
    },
    {
      "cell_type": "markdown",
      "metadata": {
        "id": "3jJAMrcXEEL3",
        "colab_type": "text"
      },
      "source": [
        "1차원 배열로 생각한 인덱스를 반환한다."
      ]
    },
    {
      "cell_type": "code",
      "metadata": {
        "id": "AvdzIGroEEL4",
        "colab_type": "code",
        "colab": {},
        "outputId": "dc34f69d-eb97-4a33-bcc8-bf894a159742"
      },
      "source": [
        "# 축설정도 가능\n",
        "np.argmax(arr, axis=1)"
      ],
      "execution_count": null,
      "outputs": [
        {
          "output_type": "execute_result",
          "data": {
            "text/plain": [
              "array([0, 1])"
            ]
          },
          "metadata": {
            "tags": []
          },
          "execution_count": 487
        }
      ]
    },
    {
      "cell_type": "code",
      "metadata": {
        "id": "BRWz_o_SEEL5",
        "colab_type": "code",
        "colab": {},
        "outputId": "e2259aed-ade3-416c-f60d-516fa8e85718"
      },
      "source": [
        "np.argmax(arr, axis=0)"
      ],
      "execution_count": null,
      "outputs": [
        {
          "output_type": "execute_result",
          "data": {
            "text/plain": [
              "array([0, 1, 1])"
            ]
          },
          "metadata": {
            "tags": []
          },
          "execution_count": 488
        }
      ]
    },
    {
      "cell_type": "code",
      "metadata": {
        "id": "EnTAYR32EEL6",
        "colab_type": "code",
        "colab": {},
        "outputId": "b619e167-29b7-43ba-b4b5-8161c1eb452a"
      },
      "source": [
        "np.argmax(arr, axis=-1)"
      ],
      "execution_count": null,
      "outputs": [
        {
          "output_type": "execute_result",
          "data": {
            "text/plain": [
              "array([0, 1])"
            ]
          },
          "metadata": {
            "tags": []
          },
          "execution_count": 489
        }
      ]
    },
    {
      "cell_type": "code",
      "metadata": {
        "id": "Zm5hTnv2EEL7",
        "colab_type": "code",
        "colab": {},
        "outputId": "ced58ca5-a021-4eb8-f6af-b9efd3921296"
      },
      "source": [
        "# 3차원 행렬에서 응용.\n",
        "arr_tmp = np.random.randn((27)).reshape(3, 3, 3)\n",
        "print(arr_tmp.shape)\n",
        "arr_tmp"
      ],
      "execution_count": null,
      "outputs": [
        {
          "output_type": "stream",
          "text": [
            "(3, 3, 3)\n"
          ],
          "name": "stdout"
        },
        {
          "output_type": "execute_result",
          "data": {
            "text/plain": [
              "array([[[ 0.3992515 , -0.56046446, -0.33339274],\n",
              "        [ 1.63609075,  0.70402988, -0.91236861],\n",
              "        [-0.20277346, -0.02016676, -0.8570283 ]],\n",
              "\n",
              "       [[-0.19116283, -0.90014664, -0.98238381],\n",
              "        [ 0.01826517,  0.75834163,  0.56593007],\n",
              "        [-0.12019245,  0.43076978,  0.34123579]],\n",
              "\n",
              "       [[-0.11834047, -0.65429671, -0.50335978],\n",
              "        [-1.25967008,  0.39165927,  1.13150816],\n",
              "        [-0.67738032, -0.29581653, -0.80513922]]])"
            ]
          },
          "metadata": {
            "tags": []
          },
          "execution_count": 491
        }
      ]
    },
    {
      "cell_type": "code",
      "metadata": {
        "id": "4Z2s1gzHEEL9",
        "colab_type": "code",
        "colab": {},
        "outputId": "093a6af2-e053-47c7-a2b4-2f53b49abbd5"
      },
      "source": [
        "np.argmax(arr_tmp, axis=-1)"
      ],
      "execution_count": null,
      "outputs": [
        {
          "output_type": "execute_result",
          "data": {
            "text/plain": [
              "array([[0, 0, 1],\n",
              "       [0, 1, 1],\n",
              "       [0, 2, 1]])"
            ]
          },
          "metadata": {
            "tags": []
          },
          "execution_count": 492
        }
      ]
    },
    {
      "cell_type": "code",
      "metadata": {
        "id": "e8T4EkdYEEL-",
        "colab_type": "code",
        "colab": {},
        "outputId": "3f9eac18-aee3-454a-eb4a-26562af6bad6"
      },
      "source": [
        "np.argmax(arr_tmp, axis=1)"
      ],
      "execution_count": null,
      "outputs": [
        {
          "output_type": "execute_result",
          "data": {
            "text/plain": [
              "array([[1, 1, 0],\n",
              "       [1, 1, 1],\n",
              "       [0, 1, 1]])"
            ]
          },
          "metadata": {
            "tags": []
          },
          "execution_count": 493
        }
      ]
    },
    {
      "cell_type": "code",
      "metadata": {
        "scrolled": true,
        "id": "pX8Q8gkmEEL_",
        "colab_type": "code",
        "colab": {},
        "outputId": "91842461-c644-4a9f-c70b-440dd27a291a"
      },
      "source": [
        "np.argmax(arr_tmp, axis=0)"
      ],
      "execution_count": null,
      "outputs": [
        {
          "output_type": "execute_result",
          "data": {
            "text/plain": [
              "array([[0, 0, 0],\n",
              "       [0, 1, 2],\n",
              "       [1, 1, 1]])"
            ]
          },
          "metadata": {
            "tags": []
          },
          "execution_count": 494
        }
      ]
    },
    {
      "cell_type": "code",
      "metadata": {
        "id": "t-It3ZsREEMA",
        "colab_type": "code",
        "colab": {}
      },
      "source": [
        ""
      ],
      "execution_count": null,
      "outputs": []
    },
    {
      "cell_type": "markdown",
      "metadata": {
        "id": "jWWK4j3UEEMB",
        "colab_type": "text"
      },
      "source": [
        "### '...'  은 np array 모든 차원을 인덱싱 하는 것이다."
      ]
    },
    {
      "cell_type": "code",
      "metadata": {
        "id": "EJ048n_YEEMB",
        "colab_type": "code",
        "colab": {},
        "outputId": "97314cb7-45be-4e32-a144-912325bd0a49"
      },
      "source": [
        "arr_random = np.random.randint(255, size=(5, 5))\n",
        "arr_random"
      ],
      "execution_count": null,
      "outputs": [
        {
          "output_type": "execute_result",
          "data": {
            "text/plain": [
              "array([[253,   1, 218, 213, 170],\n",
              "       [141,   6,  41,  85,  28],\n",
              "       [ 43,  15,  10, 120,   4],\n",
              "       [176, 100, 242, 158, 130],\n",
              "       [  2,  27, 251, 194, 103]])"
            ]
          },
          "metadata": {
            "tags": []
          },
          "execution_count": 495
        }
      ]
    },
    {
      "cell_type": "code",
      "metadata": {
        "id": "DnG2szjOEEMC",
        "colab_type": "code",
        "colab": {},
        "outputId": "b7737d32-140b-458b-a78a-ec44bc9526d1"
      },
      "source": [
        "arr_random[...]"
      ],
      "execution_count": null,
      "outputs": [
        {
          "output_type": "execute_result",
          "data": {
            "text/plain": [
              "array([[253,   1, 218, 213, 170],\n",
              "       [141,   6,  41,  85,  28],\n",
              "       [ 43,  15,  10, 120,   4],\n",
              "       [176, 100, 242, 158, 130],\n",
              "       [  2,  27, 251, 194, 103]])"
            ]
          },
          "metadata": {
            "tags": []
          },
          "execution_count": 496
        }
      ]
    },
    {
      "cell_type": "code",
      "metadata": {
        "id": "8CU9meuGEEME",
        "colab_type": "code",
        "colab": {},
        "outputId": "c66daaad-d709-46e7-b438-f56ea5bd508e"
      },
      "source": [
        "arr_random[:, :]"
      ],
      "execution_count": null,
      "outputs": [
        {
          "output_type": "execute_result",
          "data": {
            "text/plain": [
              "array([[253,   1, 218, 213, 170],\n",
              "       [141,   6,  41,  85,  28],\n",
              "       [ 43,  15,  10, 120,   4],\n",
              "       [176, 100, 242, 158, 130],\n",
              "       [  2,  27, 251, 194, 103]])"
            ]
          },
          "metadata": {
            "tags": []
          },
          "execution_count": 497
        }
      ]
    },
    {
      "cell_type": "markdown",
      "metadata": {
        "id": "iEreaFIWEEMF",
        "colab_type": "text"
      },
      "source": [
        "### 차원을 늘리는 방법들\n",
        "* np.newaxis\n",
        "* expand_dims"
      ]
    },
    {
      "cell_type": "code",
      "metadata": {
        "scrolled": true,
        "id": "hyFjimCAEEMF",
        "colab_type": "code",
        "colab": {},
        "outputId": "6dd39387-42bc-4816-f184-71c3ebd77332"
      },
      "source": [
        "arr_random[..., None]"
      ],
      "execution_count": null,
      "outputs": [
        {
          "output_type": "execute_result",
          "data": {
            "text/plain": [
              "array([[[253],\n",
              "        [  1],\n",
              "        [218],\n",
              "        [213],\n",
              "        [170]],\n",
              "\n",
              "       [[141],\n",
              "        [  6],\n",
              "        [ 41],\n",
              "        [ 85],\n",
              "        [ 28]],\n",
              "\n",
              "       [[ 43],\n",
              "        [ 15],\n",
              "        [ 10],\n",
              "        [120],\n",
              "        [  4]],\n",
              "\n",
              "       [[176],\n",
              "        [100],\n",
              "        [242],\n",
              "        [158],\n",
              "        [130]],\n",
              "\n",
              "       [[  2],\n",
              "        [ 27],\n",
              "        [251],\n",
              "        [194],\n",
              "        [103]]])"
            ]
          },
          "metadata": {
            "tags": []
          },
          "execution_count": 498
        }
      ]
    },
    {
      "cell_type": "code",
      "metadata": {
        "id": "eojlWI85EEMH",
        "colab_type": "code",
        "colab": {},
        "outputId": "a154ed51-46eb-43df-df41-c0a7757895e6"
      },
      "source": [
        "np.expand_dims(arr_random, axis=-1)"
      ],
      "execution_count": null,
      "outputs": [
        {
          "output_type": "execute_result",
          "data": {
            "text/plain": [
              "array([[[253],\n",
              "        [  1],\n",
              "        [218],\n",
              "        [213],\n",
              "        [170]],\n",
              "\n",
              "       [[141],\n",
              "        [  6],\n",
              "        [ 41],\n",
              "        [ 85],\n",
              "        [ 28]],\n",
              "\n",
              "       [[ 43],\n",
              "        [ 15],\n",
              "        [ 10],\n",
              "        [120],\n",
              "        [  4]],\n",
              "\n",
              "       [[176],\n",
              "        [100],\n",
              "        [242],\n",
              "        [158],\n",
              "        [130]],\n",
              "\n",
              "       [[  2],\n",
              "        [ 27],\n",
              "        [251],\n",
              "        [194],\n",
              "        [103]]])"
            ]
          },
          "metadata": {
            "tags": []
          },
          "execution_count": 499
        }
      ]
    },
    {
      "cell_type": "code",
      "metadata": {
        "id": "nbJJgPdMEEMJ",
        "colab_type": "code",
        "colab": {},
        "outputId": "439a8f2e-fe6d-4f23-a79a-19ae831b0a55"
      },
      "source": [
        "arr_random[:, :, np.newaxis]"
      ],
      "execution_count": null,
      "outputs": [
        {
          "output_type": "execute_result",
          "data": {
            "text/plain": [
              "array([[[253],\n",
              "        [  1],\n",
              "        [218],\n",
              "        [213],\n",
              "        [170]],\n",
              "\n",
              "       [[141],\n",
              "        [  6],\n",
              "        [ 41],\n",
              "        [ 85],\n",
              "        [ 28]],\n",
              "\n",
              "       [[ 43],\n",
              "        [ 15],\n",
              "        [ 10],\n",
              "        [120],\n",
              "        [  4]],\n",
              "\n",
              "       [[176],\n",
              "        [100],\n",
              "        [242],\n",
              "        [158],\n",
              "        [130]],\n",
              "\n",
              "       [[  2],\n",
              "        [ 27],\n",
              "        [251],\n",
              "        [194],\n",
              "        [103]]])"
            ]
          },
          "metadata": {
            "tags": []
          },
          "execution_count": 500
        }
      ]
    },
    {
      "cell_type": "code",
      "metadata": {
        "id": "q5eqCYhaEEMS",
        "colab_type": "code",
        "colab": {},
        "outputId": "ab624e6b-baed-459e-f3a9-158fb7c44bb7"
      },
      "source": [
        "arr_random[..., np.newaxis]\n"
      ],
      "execution_count": null,
      "outputs": [
        {
          "output_type": "execute_result",
          "data": {
            "text/plain": [
              "array([[[253],\n",
              "        [  1],\n",
              "        [218],\n",
              "        [213],\n",
              "        [170]],\n",
              "\n",
              "       [[141],\n",
              "        [  6],\n",
              "        [ 41],\n",
              "        [ 85],\n",
              "        [ 28]],\n",
              "\n",
              "       [[ 43],\n",
              "        [ 15],\n",
              "        [ 10],\n",
              "        [120],\n",
              "        [  4]],\n",
              "\n",
              "       [[176],\n",
              "        [100],\n",
              "        [242],\n",
              "        [158],\n",
              "        [130]],\n",
              "\n",
              "       [[  2],\n",
              "        [ 27],\n",
              "        [251],\n",
              "        [194],\n",
              "        [103]]])"
            ]
          },
          "metadata": {
            "tags": []
          },
          "execution_count": 501
        }
      ]
    },
    {
      "cell_type": "code",
      "metadata": {
        "id": "0TlK7bXzEEMU",
        "colab_type": "code",
        "colab": {}
      },
      "source": [
        ""
      ],
      "execution_count": null,
      "outputs": []
    },
    {
      "cell_type": "code",
      "metadata": {
        "id": "0hAb7Py1EEMV",
        "colab_type": "code",
        "colab": {},
        "outputId": "d6d401c7-ee19-47d4-e845-894bfa45fba1"
      },
      "source": [
        "aaa = arr_random[..., np.newaxis]\n",
        "aaa"
      ],
      "execution_count": null,
      "outputs": [
        {
          "output_type": "execute_result",
          "data": {
            "text/plain": [
              "array([[[253],\n",
              "        [  1],\n",
              "        [218],\n",
              "        [213],\n",
              "        [170]],\n",
              "\n",
              "       [[141],\n",
              "        [  6],\n",
              "        [ 41],\n",
              "        [ 85],\n",
              "        [ 28]],\n",
              "\n",
              "       [[ 43],\n",
              "        [ 15],\n",
              "        [ 10],\n",
              "        [120],\n",
              "        [  4]],\n",
              "\n",
              "       [[176],\n",
              "        [100],\n",
              "        [242],\n",
              "        [158],\n",
              "        [130]],\n",
              "\n",
              "       [[  2],\n",
              "        [ 27],\n",
              "        [251],\n",
              "        [194],\n",
              "        [103]]])"
            ]
          },
          "metadata": {
            "tags": []
          },
          "execution_count": 502
        }
      ]
    },
    {
      "cell_type": "code",
      "metadata": {
        "id": "Ht22J3CEEEMW",
        "colab_type": "code",
        "colab": {},
        "outputId": "49d9d375-d415-4f0e-d8f6-63c0011c5232"
      },
      "source": [
        "arr_random"
      ],
      "execution_count": null,
      "outputs": [
        {
          "output_type": "execute_result",
          "data": {
            "text/plain": [
              "array([[253,   1, 218, 213, 170],\n",
              "       [141,   6,  41,  85,  28],\n",
              "       [ 43,  15,  10, 120,   4],\n",
              "       [176, 100, 242, 158, 130],\n",
              "       [  2,  27, 251, 194, 103]])"
            ]
          },
          "metadata": {
            "tags": []
          },
          "execution_count": 503
        }
      ]
    },
    {
      "cell_type": "code",
      "metadata": {
        "scrolled": true,
        "id": "Cn-FaClSEEMX",
        "colab_type": "code",
        "colab": {},
        "outputId": "f4d05623-a3d3-4648-f3e7-ac740c90c367"
      },
      "source": [
        "arr_random = np.random.randint(255, size=(5, 5, 3))\n",
        "arr_random"
      ],
      "execution_count": null,
      "outputs": [
        {
          "output_type": "execute_result",
          "data": {
            "text/plain": [
              "array([[[ 36,  31, 150],\n",
              "        [162,  65, 108],\n",
              "        [ 29,  46, 251],\n",
              "        [186,  30, 208],\n",
              "        [140, 232, 250]],\n",
              "\n",
              "       [[101,  87, 127],\n",
              "        [ 76, 121, 225],\n",
              "        [152,  51, 180],\n",
              "        [214,  96, 147],\n",
              "        [162,  43,   7]],\n",
              "\n",
              "       [[ 47, 131,  52],\n",
              "        [ 18,  22, 226],\n",
              "        [161,  36,  95],\n",
              "        [ 14, 234,  26],\n",
              "        [  1,  70, 168]],\n",
              "\n",
              "       [[ 37, 189,  46],\n",
              "        [195, 122,  87],\n",
              "        [126,  35, 231],\n",
              "        [122, 105, 228],\n",
              "        [ 37, 245, 205]],\n",
              "\n",
              "       [[ 81, 232,  95],\n",
              "        [205,  44, 235],\n",
              "        [ 21, 142, 141],\n",
              "        [ 19, 127, 235],\n",
              "        [ 12,  11,  76]]])"
            ]
          },
          "metadata": {
            "tags": []
          },
          "execution_count": 504
        }
      ]
    },
    {
      "cell_type": "code",
      "metadata": {
        "id": "8LQbu-RJEEMZ",
        "colab_type": "code",
        "colab": {},
        "outputId": "df234a87-9077-4da3-cd8e-cdd2c45fbf52"
      },
      "source": [
        "arr_random[0, ..., 1]"
      ],
      "execution_count": null,
      "outputs": [
        {
          "output_type": "execute_result",
          "data": {
            "text/plain": [
              "array([ 31,  65,  46,  30, 232])"
            ]
          },
          "metadata": {
            "tags": []
          },
          "execution_count": 505
        }
      ]
    },
    {
      "cell_type": "markdown",
      "metadata": {
        "id": "vvj0Md5ZEEMa",
        "colab_type": "text"
      },
      "source": [
        "첫번째 축은 0, 다음 축부터 마지막 전까지 축은 모두, 마지막 축은 1 임을 생각하고 해석."
      ]
    },
    {
      "cell_type": "markdown",
      "metadata": {
        "id": "BBgJDjDEEEMa",
        "colab_type": "text"
      },
      "source": [
        "### ~ 는 not을 의미"
      ]
    },
    {
      "cell_type": "code",
      "metadata": {
        "id": "XoR-P0HmEEMa",
        "colab_type": "code",
        "colab": {},
        "outputId": "231cd12f-6483-44e4-bbd6-42318069c35c"
      },
      "source": [
        "sample = np.random.randint(255, size=(3, 3, 3))\n",
        "sample2 = sample.copy()\n",
        "sample3 = sample.copy()\n",
        "sample"
      ],
      "execution_count": null,
      "outputs": [
        {
          "output_type": "execute_result",
          "data": {
            "text/plain": [
              "array([[[142, 182,  44],\n",
              "        [236, 149, 125],\n",
              "        [ 36, 200,  16]],\n",
              "\n",
              "       [[164, 237, 131],\n",
              "        [ 21, 109, 236],\n",
              "        [179, 210, 103]],\n",
              "\n",
              "       [[ 86, 159,  12],\n",
              "        [ 78, 123,  56],\n",
              "        [141, 245, 141]]])"
            ]
          },
          "metadata": {
            "tags": []
          },
          "execution_count": 507
        }
      ]
    },
    {
      "cell_type": "code",
      "metadata": {
        "id": "mbMKaPMPEEMb",
        "colab_type": "code",
        "colab": {},
        "outputId": "df9cde2c-d7f4-4866-dd5d-d74de0e31f8f"
      },
      "source": [
        "# 3차원 마스크 생성\n",
        "mask = sample > 50\n",
        "mask"
      ],
      "execution_count": null,
      "outputs": [
        {
          "output_type": "execute_result",
          "data": {
            "text/plain": [
              "array([[[ True,  True, False],\n",
              "        [ True,  True,  True],\n",
              "        [False,  True, False]],\n",
              "\n",
              "       [[ True,  True,  True],\n",
              "        [False,  True,  True],\n",
              "        [ True,  True,  True]],\n",
              "\n",
              "       [[ True,  True, False],\n",
              "        [ True,  True,  True],\n",
              "        [ True,  True,  True]]])"
            ]
          },
          "metadata": {
            "tags": []
          },
          "execution_count": 508
        }
      ]
    },
    {
      "cell_type": "code",
      "metadata": {
        "id": "AKJuESCDEEMe",
        "colab_type": "code",
        "colab": {},
        "outputId": "984fbc9d-d82d-4fbd-ad7a-026cd776c821"
      },
      "source": [
        "sample[mask]"
      ],
      "execution_count": null,
      "outputs": [
        {
          "output_type": "execute_result",
          "data": {
            "text/plain": [
              "array([142, 182, 236, 149, 125, 200, 164, 237, 131, 109, 236, 179, 210,\n",
              "       103,  86, 159,  78, 123,  56, 141, 245, 141])"
            ]
          },
          "metadata": {
            "tags": []
          },
          "execution_count": 509
        }
      ]
    },
    {
      "cell_type": "code",
      "metadata": {
        "id": "qwWAcZyqEEMf",
        "colab_type": "code",
        "colab": {},
        "outputId": "ff9b66dc-8714-4e8a-d78a-820593e95586"
      },
      "source": [
        "sample[mask] = 0\n",
        "sample"
      ],
      "execution_count": null,
      "outputs": [
        {
          "output_type": "execute_result",
          "data": {
            "text/plain": [
              "array([[[ 0,  0, 44],\n",
              "        [ 0,  0,  0],\n",
              "        [36,  0, 16]],\n",
              "\n",
              "       [[ 0,  0,  0],\n",
              "        [21,  0,  0],\n",
              "        [ 0,  0,  0]],\n",
              "\n",
              "       [[ 0,  0, 12],\n",
              "        [ 0,  0,  0],\n",
              "        [ 0,  0,  0]]])"
            ]
          },
          "metadata": {
            "tags": []
          },
          "execution_count": 510
        }
      ]
    },
    {
      "cell_type": "code",
      "metadata": {
        "id": "mnkp9oT-EEMi",
        "colab_type": "code",
        "colab": {},
        "outputId": "99610303-148a-4ff7-c0e3-1fbfb6fdaf23"
      },
      "source": [
        "# ~ 은 not\n",
        "sample2[~mask] = 0\n",
        "sample2"
      ],
      "execution_count": null,
      "outputs": [
        {
          "output_type": "execute_result",
          "data": {
            "text/plain": [
              "array([[[142, 182,   0],\n",
              "        [236, 149, 125],\n",
              "        [  0, 200,   0]],\n",
              "\n",
              "       [[164, 237, 131],\n",
              "        [  0, 109, 236],\n",
              "        [179, 210, 103]],\n",
              "\n",
              "       [[ 86, 159,   0],\n",
              "        [ 78, 123,  56],\n",
              "        [141, 245, 141]]])"
            ]
          },
          "metadata": {
            "tags": []
          },
          "execution_count": 511
        }
      ]
    },
    {
      "cell_type": "code",
      "metadata": {
        "id": "UO-SxxupEEMj",
        "colab_type": "code",
        "colab": {},
        "outputId": "b734a4e4-f4c7-4f94-d8c9-d6fdd5b05ffd"
      },
      "source": [
        "# 응용. 2차원 mask와 3차원 행렬\n",
        "mask = np.all(sample3 > 50, axis=-1)\n",
        "mask"
      ],
      "execution_count": null,
      "outputs": [
        {
          "output_type": "execute_result",
          "data": {
            "text/plain": [
              "array([[False,  True, False],\n",
              "       [ True, False,  True],\n",
              "       [False,  True,  True]])"
            ]
          },
          "metadata": {
            "tags": []
          },
          "execution_count": 516
        }
      ]
    },
    {
      "cell_type": "code",
      "metadata": {
        "id": "HVd0lWwCEEMl",
        "colab_type": "code",
        "colab": {},
        "outputId": "97a5d46d-9167-4eeb-a816-ef953e1616d3"
      },
      "source": [
        "sample3"
      ],
      "execution_count": null,
      "outputs": [
        {
          "output_type": "execute_result",
          "data": {
            "text/plain": [
              "array([[[142, 182,  44],\n",
              "        [236, 149, 125],\n",
              "        [ 36, 200,  16]],\n",
              "\n",
              "       [[164, 237, 131],\n",
              "        [ 21, 109, 236],\n",
              "        [179, 210, 103]],\n",
              "\n",
              "       [[ 86, 159,  12],\n",
              "        [ 78, 123,  56],\n",
              "        [141, 245, 141]]])"
            ]
          },
          "metadata": {
            "tags": []
          },
          "execution_count": 517
        }
      ]
    },
    {
      "cell_type": "code",
      "metadata": {
        "id": "vxSqhRZ-EEMm",
        "colab_type": "code",
        "colab": {},
        "outputId": "867ba200-549a-4967-d065-ba59518cec45"
      },
      "source": [
        "# boolean index의 이해가 필요.\n",
        "sample3[mask]"
      ],
      "execution_count": null,
      "outputs": [
        {
          "output_type": "execute_result",
          "data": {
            "text/plain": [
              "array([[236, 149, 125],\n",
              "       [164, 237, 131],\n",
              "       [179, 210, 103],\n",
              "       [ 78, 123,  56],\n",
              "       [141, 245, 141]])"
            ]
          },
          "metadata": {
            "tags": []
          },
          "execution_count": 519
        }
      ]
    },
    {
      "cell_type": "code",
      "metadata": {
        "id": "frdtO6_PEEMp",
        "colab_type": "code",
        "colab": {},
        "outputId": "009d52ee-9b61-4193-e0bc-20b4cfe06d77"
      },
      "source": [
        "sample3[mask] = 0\n",
        "sample3"
      ],
      "execution_count": null,
      "outputs": [
        {
          "output_type": "execute_result",
          "data": {
            "text/plain": [
              "array([[[142, 182,  44],\n",
              "        [  0,   0,   0],\n",
              "        [ 36, 200,  16]],\n",
              "\n",
              "       [[  0,   0,   0],\n",
              "        [ 21, 109, 236],\n",
              "        [  0,   0,   0]],\n",
              "\n",
              "       [[ 86, 159,  12],\n",
              "        [  0,   0,   0],\n",
              "        [  0,   0,   0]]])"
            ]
          },
          "metadata": {
            "tags": []
          },
          "execution_count": 520
        }
      ]
    },
    {
      "cell_type": "code",
      "metadata": {
        "id": "t7zYyDrlEEMq",
        "colab_type": "code",
        "colab": {}
      },
      "source": [
        ""
      ],
      "execution_count": null,
      "outputs": []
    }
  ]
}